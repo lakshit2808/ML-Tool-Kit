{
  "nbformat": 4,
  "nbformat_minor": 0,
  "metadata": {
    "kernelspec": {
      "display_name": "Python 3",
      "language": "python",
      "name": "python3"
    },
    "language_info": {
      "codemirror_mode": {
        "name": "ipython",
        "version": 3
      },
      "file_extension": ".py",
      "mimetype": "text/x-python",
      "name": "python",
      "nbconvert_exporter": "python",
      "pygments_lexer": "ipython3",
      "version": "3.8.5"
    },
    "colab": {
      "name": "pandas.ipynb",
      "provenance": [],
      "collapsed_sections": [],
      "include_colab_link": true
    }
  },
  "cells": [
    {
      "cell_type": "markdown",
      "metadata": {
        "id": "view-in-github",
        "colab_type": "text"
      },
      "source": [
        "<a href=\"https://colab.research.google.com/github/lakshit2808/Machine-Learning-Notes/blob/master/Pandas/pandas.ipynb\" target=\"_parent\"><img src=\"https://colab.research.google.com/assets/colab-badge.svg\" alt=\"Open In Colab\"/></a>"
      ]
    },
    {
      "cell_type": "markdown",
      "metadata": {
        "id": "leViS5sdlLtr"
      },
      "source": [
        "<h1>Pandas</h1>\n",
        "Pandas is a opensource python library prividing high performance data manuplation and analysis tools using it's powerful data structures.\n"
      ]
    },
    {
      "cell_type": "code",
      "metadata": {
        "id": "rUCOx4qmlLtt"
      },
      "source": [
        "import pandas as pd\n",
        "import numpy as np"
      ],
      "execution_count": 138,
      "outputs": []
    },
    {
      "cell_type": "markdown",
      "metadata": {
        "id": "Y83fjdzUlLtt"
      },
      "source": [
        "<h2>Series</h2>\n",
        "Series is a single dimensional data structure with homogenous data type values.<br>\n",
        "Also Series comes with index or are one single column where as list is just a list"
      ]
    },
    {
      "cell_type": "code",
      "metadata": {
        "id": "40vf1FcClLtu",
        "colab": {
          "base_uri": "https://localhost:8080/"
        },
        "outputId": "384e7937-6751-4374-bd66-3c04c257956a"
      },
      "source": [
        "series = pd.Series([10,20,40,50], index = [\"a\" , \"b\",\"c\", \"d\"])\n",
        "lists = [1,2,3]\n",
        "print(lists)\n",
        "series\n",
        "\n"
      ],
      "execution_count": 139,
      "outputs": [
        {
          "output_type": "stream",
          "text": [
            "[1, 2, 3]\n"
          ],
          "name": "stdout"
        },
        {
          "output_type": "execute_result",
          "data": {
            "text/plain": [
              "a    10\n",
              "b    20\n",
              "c    40\n",
              "d    50\n",
              "dtype: int64"
            ]
          },
          "metadata": {
            "tags": []
          },
          "execution_count": 139
        }
      ]
    },
    {
      "cell_type": "markdown",
      "metadata": {
        "id": "-iBgANAwlLtv"
      },
      "source": [
        "<h1>Dataframe</h1>\n",
        "Two dimensional object with heterogenous data type value."
      ]
    },
    {
      "cell_type": "code",
      "metadata": {
        "id": "PQWKp4VclLtw",
        "colab": {
          "base_uri": "https://localhost:8080/",
          "height": 158
        },
        "outputId": "01789453-4929-4355-9442-aaf050e2cd0f"
      },
      "source": [
        "listz = [['Ravi' , 10],['Ram' , 20],[\"Raj\", 30]]\n",
        "print(listz)\n",
        "\n",
        "df = pd.DataFrame(listz, columns=['Name', \"Age\"], index=[\"a\", \"b\", 'c'])\n",
        "df"
      ],
      "execution_count": 140,
      "outputs": [
        {
          "output_type": "stream",
          "text": [
            "[['Ravi', 10], ['Ram', 20], ['Raj', 30]]\n"
          ],
          "name": "stdout"
        },
        {
          "output_type": "execute_result",
          "data": {
            "text/html": [
              "<div>\n",
              "<style scoped>\n",
              "    .dataframe tbody tr th:only-of-type {\n",
              "        vertical-align: middle;\n",
              "    }\n",
              "\n",
              "    .dataframe tbody tr th {\n",
              "        vertical-align: top;\n",
              "    }\n",
              "\n",
              "    .dataframe thead th {\n",
              "        text-align: right;\n",
              "    }\n",
              "</style>\n",
              "<table border=\"1\" class=\"dataframe\">\n",
              "  <thead>\n",
              "    <tr style=\"text-align: right;\">\n",
              "      <th></th>\n",
              "      <th>Name</th>\n",
              "      <th>Age</th>\n",
              "    </tr>\n",
              "  </thead>\n",
              "  <tbody>\n",
              "    <tr>\n",
              "      <th>a</th>\n",
              "      <td>Ravi</td>\n",
              "      <td>10</td>\n",
              "    </tr>\n",
              "    <tr>\n",
              "      <th>b</th>\n",
              "      <td>Ram</td>\n",
              "      <td>20</td>\n",
              "    </tr>\n",
              "    <tr>\n",
              "      <th>c</th>\n",
              "      <td>Raj</td>\n",
              "      <td>30</td>\n",
              "    </tr>\n",
              "  </tbody>\n",
              "</table>\n",
              "</div>"
            ],
            "text/plain": [
              "   Name  Age\n",
              "a  Ravi   10\n",
              "b   Ram   20\n",
              "c   Raj   30"
            ]
          },
          "metadata": {
            "tags": []
          },
          "execution_count": 140
        }
      ]
    },
    {
      "cell_type": "markdown",
      "metadata": {
        "id": "ZRcYhY9ulLtw"
      },
      "source": [
        "<h2>Accessing DataFrame</h2>"
      ]
    },
    {
      "cell_type": "code",
      "metadata": {
        "id": "gdMcH7oPlLtx",
        "colab": {
          "base_uri": "https://localhost:8080/"
        },
        "outputId": "4a562c70-5d2c-465b-95b4-e4eba095c982"
      },
      "source": [
        "dfa = df['Name']\n",
        "dfb = df[['Name']]\n",
        "print(type(dfa))\n",
        "print(type(dfb))\n",
        "dfa"
      ],
      "execution_count": 141,
      "outputs": [
        {
          "output_type": "stream",
          "text": [
            "<class 'pandas.core.series.Series'>\n",
            "<class 'pandas.core.frame.DataFrame'>\n"
          ],
          "name": "stdout"
        },
        {
          "output_type": "execute_result",
          "data": {
            "text/plain": [
              "a    Ravi\n",
              "b     Ram\n",
              "c     Raj\n",
              "Name: Name, dtype: object"
            ]
          },
          "metadata": {
            "tags": []
          },
          "execution_count": 141
        }
      ]
    },
    {
      "cell_type": "markdown",
      "metadata": {
        "id": "xaDimmDRlLtx"
      },
      "source": [
        "dfa is a series because we are directly accessing column values, whereas dfb is a DataFrame because we are accessing a total column"
      ]
    },
    {
      "cell_type": "markdown",
      "metadata": {
        "id": "pUVpbPzMlLty"
      },
      "source": [
        "<h2>Dictionary to DataFrame</h2>"
      ]
    },
    {
      "cell_type": "code",
      "metadata": {
        "id": "CbJhAydBlLty",
        "colab": {
          "base_uri": "https://localhost:8080/",
          "height": 127
        },
        "outputId": "283a3d70-9405-4595-f2a6-e9f7ed4e8093"
      },
      "source": [
        "dictz = {\"Name\": [\"Rahul\", 'Rio'], \"Age\" : [20,40]}\n",
        "print(dictz)\n",
        "\n",
        "dfd = pd.DataFrame(dictz)\n",
        "dfd"
      ],
      "execution_count": 142,
      "outputs": [
        {
          "output_type": "stream",
          "text": [
            "{'Name': ['Rahul', 'Rio'], 'Age': [20, 40]}\n"
          ],
          "name": "stdout"
        },
        {
          "output_type": "execute_result",
          "data": {
            "text/html": [
              "<div>\n",
              "<style scoped>\n",
              "    .dataframe tbody tr th:only-of-type {\n",
              "        vertical-align: middle;\n",
              "    }\n",
              "\n",
              "    .dataframe tbody tr th {\n",
              "        vertical-align: top;\n",
              "    }\n",
              "\n",
              "    .dataframe thead th {\n",
              "        text-align: right;\n",
              "    }\n",
              "</style>\n",
              "<table border=\"1\" class=\"dataframe\">\n",
              "  <thead>\n",
              "    <tr style=\"text-align: right;\">\n",
              "      <th></th>\n",
              "      <th>Name</th>\n",
              "      <th>Age</th>\n",
              "    </tr>\n",
              "  </thead>\n",
              "  <tbody>\n",
              "    <tr>\n",
              "      <th>0</th>\n",
              "      <td>Rahul</td>\n",
              "      <td>20</td>\n",
              "    </tr>\n",
              "    <tr>\n",
              "      <th>1</th>\n",
              "      <td>Rio</td>\n",
              "      <td>40</td>\n",
              "    </tr>\n",
              "  </tbody>\n",
              "</table>\n",
              "</div>"
            ],
            "text/plain": [
              "    Name  Age\n",
              "0  Rahul   20\n",
              "1    Rio   40"
            ]
          },
          "metadata": {
            "tags": []
          },
          "execution_count": 142
        }
      ]
    },
    {
      "cell_type": "markdown",
      "metadata": {
        "id": "-2kudejllLtz"
      },
      "source": [
        "## Array to DataFrame"
      ]
    },
    {
      "cell_type": "code",
      "metadata": {
        "id": "QeRzVa-blLtz",
        "colab": {
          "base_uri": "https://localhost:8080/"
        },
        "outputId": "16472c8b-21a6-446a-f85a-1543e927e3b4"
      },
      "source": [
        "arr = np.array([[1,2,3] , [5,6,7]])\n",
        "print(arr)\n",
        "\n",
        "dfa = pd.DataFrame(arr)\n",
        "print(dfa)\n",
        "\n",
        "## Now dataframe into array\n",
        "arrd = np.array(dfa)\n",
        "arrd"
      ],
      "execution_count": 143,
      "outputs": [
        {
          "output_type": "stream",
          "text": [
            "[[1 2 3]\n",
            " [5 6 7]]\n",
            "   0  1  2\n",
            "0  1  2  3\n",
            "1  5  6  7\n"
          ],
          "name": "stdout"
        },
        {
          "output_type": "execute_result",
          "data": {
            "text/plain": [
              "array([[1, 2, 3],\n",
              "       [5, 6, 7]])"
            ]
          },
          "metadata": {
            "tags": []
          },
          "execution_count": 143
        }
      ]
    },
    {
      "cell_type": "markdown",
      "metadata": {
        "id": "Mly8dHJmlLtz"
      },
      "source": [
        "## Range Data\n",
        "\n",
        "Syntax: pd.date_range(date, period , freq)<br>\n",
        "date format: YYYYMMDD<br>\n",
        "period: it is the no of days or months or years<br>\n",
        "frequency(freq): it is the format i.e Month(M), Year(Y), Day(D)"
      ]
    },
    {
      "cell_type": "code",
      "metadata": {
        "id": "ORx4ETENlLt0",
        "colab": {
          "base_uri": "https://localhost:8080/"
        },
        "outputId": "f73375b0-38bd-4186-8812-a4533c5bcc98"
      },
      "source": [
        "from datetime import datetime\n",
        "\n",
        "ranges = pd.date_range(start=datetime.now(), periods=10, freq='Y')\n",
        "type(ranges)\n",
        "ranges"
      ],
      "execution_count": 144,
      "outputs": [
        {
          "output_type": "execute_result",
          "data": {
            "text/plain": [
              "DatetimeIndex(['2021-12-31 12:38:34.419815', '2022-12-31 12:38:34.419815',\n",
              "               '2023-12-31 12:38:34.419815', '2024-12-31 12:38:34.419815',\n",
              "               '2025-12-31 12:38:34.419815', '2026-12-31 12:38:34.419815',\n",
              "               '2027-12-31 12:38:34.419815', '2028-12-31 12:38:34.419815',\n",
              "               '2029-12-31 12:38:34.419815', '2030-12-31 12:38:34.419815'],\n",
              "              dtype='datetime64[ns]', freq='A-DEC')"
            ]
          },
          "metadata": {
            "tags": []
          },
          "execution_count": 144
        }
      ]
    },
    {
      "cell_type": "markdown",
      "metadata": {
        "id": "FRi833u2lLt0"
      },
      "source": [
        "## Head Tail Func\n",
        "- pd.head() # Returns the first 5 values and to change these 5 values we can pass n in pd.head(3) it will return first 3 values.\n",
        "- pd.tail() # Returns the last 5 values and to change these 5 values we can pass n in pd.tail(3) it will return last 3 values."
      ]
    },
    {
      "cell_type": "code",
      "metadata": {
        "id": "bn3-sdtKlLt0",
        "colab": {
          "base_uri": "https://localhost:8080/"
        },
        "outputId": "bb6b13fb-9909-448a-8646-1614b414b97a"
      },
      "source": [
        "# Create Df\n",
        "df = np.random.randn(10,4)\n",
        "print(df)\n",
        "df = pd.DataFrame(df , index = ranges, columns = [\"Random 1\", \"Random 2\", \"Random 3\", \"Random 4\"])\n",
        "print(df)\n",
        "print(df.shape)\n",
        "print(df.columns)\n",
        "print(df.info())\n",
        "print(df.head(3))\n",
        "print(\"#####\")\n",
        "print(df.tail(3))"
      ],
      "execution_count": 145,
      "outputs": [
        {
          "output_type": "stream",
          "text": [
            "[[ 0.50527098  1.52173556 -1.20641212 -1.1624954 ]\n",
            " [-0.6008181  -0.21567247  0.26203883 -0.0129101 ]\n",
            " [ 1.38121482 -0.22590057 -1.16423593 -0.32765459]\n",
            " [-0.73293844  0.91636682 -1.74082324 -0.94196156]\n",
            " [ 1.10281754 -0.57831048 -1.7754391   0.06139702]\n",
            " [-1.00228848  1.57609777 -1.05636544  0.64415274]\n",
            " [-1.80564219 -1.36540907  0.43524884 -0.3908289 ]\n",
            " [ 2.88237691 -0.95764453 -0.42411494 -1.18595926]\n",
            " [ 1.54012224  0.74221973  0.37203816 -1.91378617]\n",
            " [-0.89201017 -0.71280133 -0.74980965 -1.483079  ]]\n",
            "                            Random 1  Random 2  Random 3  Random 4\n",
            "2021-12-31 12:38:34.419815  0.505271  1.521736 -1.206412 -1.162495\n",
            "2022-12-31 12:38:34.419815 -0.600818 -0.215672  0.262039 -0.012910\n",
            "2023-12-31 12:38:34.419815  1.381215 -0.225901 -1.164236 -0.327655\n",
            "2024-12-31 12:38:34.419815 -0.732938  0.916367 -1.740823 -0.941962\n",
            "2025-12-31 12:38:34.419815  1.102818 -0.578310 -1.775439  0.061397\n",
            "2026-12-31 12:38:34.419815 -1.002288  1.576098 -1.056365  0.644153\n",
            "2027-12-31 12:38:34.419815 -1.805642 -1.365409  0.435249 -0.390829\n",
            "2028-12-31 12:38:34.419815  2.882377 -0.957645 -0.424115 -1.185959\n",
            "2029-12-31 12:38:34.419815  1.540122  0.742220  0.372038 -1.913786\n",
            "2030-12-31 12:38:34.419815 -0.892010 -0.712801 -0.749810 -1.483079\n",
            "(10, 4)\n",
            "Index(['Random 1', 'Random 2', 'Random 3', 'Random 4'], dtype='object')\n",
            "<class 'pandas.core.frame.DataFrame'>\n",
            "DatetimeIndex: 10 entries, 2021-12-31 12:38:34.419815 to 2030-12-31 12:38:34.419815\n",
            "Freq: A-DEC\n",
            "Data columns (total 4 columns):\n",
            " #   Column    Non-Null Count  Dtype  \n",
            "---  ------    --------------  -----  \n",
            " 0   Random 1  10 non-null     float64\n",
            " 1   Random 2  10 non-null     float64\n",
            " 2   Random 3  10 non-null     float64\n",
            " 3   Random 4  10 non-null     float64\n",
            "dtypes: float64(4)\n",
            "memory usage: 400.0 bytes\n",
            "None\n",
            "                            Random 1  Random 2  Random 3  Random 4\n",
            "2021-12-31 12:38:34.419815  0.505271  1.521736 -1.206412 -1.162495\n",
            "2022-12-31 12:38:34.419815 -0.600818 -0.215672  0.262039 -0.012910\n",
            "2023-12-31 12:38:34.419815  1.381215 -0.225901 -1.164236 -0.327655\n",
            "#####\n",
            "                            Random 1  Random 2  Random 3  Random 4\n",
            "2028-12-31 12:38:34.419815  2.882377 -0.957645 -0.424115 -1.185959\n",
            "2029-12-31 12:38:34.419815  1.540122  0.742220  0.372038 -1.913786\n",
            "2030-12-31 12:38:34.419815 -0.892010 -0.712801 -0.749810 -1.483079\n"
          ],
          "name": "stdout"
        }
      ]
    },
    {
      "cell_type": "markdown",
      "metadata": {
        "id": "g2Y9wbavlLt1"
      },
      "source": [
        "## Null values"
      ]
    },
    {
      "cell_type": "code",
      "metadata": {
        "id": "RJMa2kCzlLt1",
        "colab": {
          "base_uri": "https://localhost:8080/",
          "height": 626
        },
        "outputId": "14b925a6-f46a-4aeb-80c1-f93a0c29e46f"
      },
      "source": [
        "print(df.isnull()) # null values are there or not\n",
        "print(df.isnull().sum()) # sum of null values in each column\n",
        "df.dropna() # by default it'll delete the entire row there nan value is present but to delete the column we can use df.dropna(axis=1) by default axis is 0"
      ],
      "execution_count": 146,
      "outputs": [
        {
          "output_type": "stream",
          "text": [
            "                            Random 1  Random 2  Random 3  Random 4\n",
            "2021-12-31 12:38:34.419815     False     False     False     False\n",
            "2022-12-31 12:38:34.419815     False     False     False     False\n",
            "2023-12-31 12:38:34.419815     False     False     False     False\n",
            "2024-12-31 12:38:34.419815     False     False     False     False\n",
            "2025-12-31 12:38:34.419815     False     False     False     False\n",
            "2026-12-31 12:38:34.419815     False     False     False     False\n",
            "2027-12-31 12:38:34.419815     False     False     False     False\n",
            "2028-12-31 12:38:34.419815     False     False     False     False\n",
            "2029-12-31 12:38:34.419815     False     False     False     False\n",
            "2030-12-31 12:38:34.419815     False     False     False     False\n",
            "Random 1    0\n",
            "Random 2    0\n",
            "Random 3    0\n",
            "Random 4    0\n",
            "dtype: int64\n"
          ],
          "name": "stdout"
        },
        {
          "output_type": "execute_result",
          "data": {
            "text/html": [
              "<div>\n",
              "<style scoped>\n",
              "    .dataframe tbody tr th:only-of-type {\n",
              "        vertical-align: middle;\n",
              "    }\n",
              "\n",
              "    .dataframe tbody tr th {\n",
              "        vertical-align: top;\n",
              "    }\n",
              "\n",
              "    .dataframe thead th {\n",
              "        text-align: right;\n",
              "    }\n",
              "</style>\n",
              "<table border=\"1\" class=\"dataframe\">\n",
              "  <thead>\n",
              "    <tr style=\"text-align: right;\">\n",
              "      <th></th>\n",
              "      <th>Random 1</th>\n",
              "      <th>Random 2</th>\n",
              "      <th>Random 3</th>\n",
              "      <th>Random 4</th>\n",
              "    </tr>\n",
              "  </thead>\n",
              "  <tbody>\n",
              "    <tr>\n",
              "      <th>2021-12-31 12:38:34.419815</th>\n",
              "      <td>0.505271</td>\n",
              "      <td>1.521736</td>\n",
              "      <td>-1.206412</td>\n",
              "      <td>-1.162495</td>\n",
              "    </tr>\n",
              "    <tr>\n",
              "      <th>2022-12-31 12:38:34.419815</th>\n",
              "      <td>-0.600818</td>\n",
              "      <td>-0.215672</td>\n",
              "      <td>0.262039</td>\n",
              "      <td>-0.012910</td>\n",
              "    </tr>\n",
              "    <tr>\n",
              "      <th>2023-12-31 12:38:34.419815</th>\n",
              "      <td>1.381215</td>\n",
              "      <td>-0.225901</td>\n",
              "      <td>-1.164236</td>\n",
              "      <td>-0.327655</td>\n",
              "    </tr>\n",
              "    <tr>\n",
              "      <th>2024-12-31 12:38:34.419815</th>\n",
              "      <td>-0.732938</td>\n",
              "      <td>0.916367</td>\n",
              "      <td>-1.740823</td>\n",
              "      <td>-0.941962</td>\n",
              "    </tr>\n",
              "    <tr>\n",
              "      <th>2025-12-31 12:38:34.419815</th>\n",
              "      <td>1.102818</td>\n",
              "      <td>-0.578310</td>\n",
              "      <td>-1.775439</td>\n",
              "      <td>0.061397</td>\n",
              "    </tr>\n",
              "    <tr>\n",
              "      <th>2026-12-31 12:38:34.419815</th>\n",
              "      <td>-1.002288</td>\n",
              "      <td>1.576098</td>\n",
              "      <td>-1.056365</td>\n",
              "      <td>0.644153</td>\n",
              "    </tr>\n",
              "    <tr>\n",
              "      <th>2027-12-31 12:38:34.419815</th>\n",
              "      <td>-1.805642</td>\n",
              "      <td>-1.365409</td>\n",
              "      <td>0.435249</td>\n",
              "      <td>-0.390829</td>\n",
              "    </tr>\n",
              "    <tr>\n",
              "      <th>2028-12-31 12:38:34.419815</th>\n",
              "      <td>2.882377</td>\n",
              "      <td>-0.957645</td>\n",
              "      <td>-0.424115</td>\n",
              "      <td>-1.185959</td>\n",
              "    </tr>\n",
              "    <tr>\n",
              "      <th>2029-12-31 12:38:34.419815</th>\n",
              "      <td>1.540122</td>\n",
              "      <td>0.742220</td>\n",
              "      <td>0.372038</td>\n",
              "      <td>-1.913786</td>\n",
              "    </tr>\n",
              "    <tr>\n",
              "      <th>2030-12-31 12:38:34.419815</th>\n",
              "      <td>-0.892010</td>\n",
              "      <td>-0.712801</td>\n",
              "      <td>-0.749810</td>\n",
              "      <td>-1.483079</td>\n",
              "    </tr>\n",
              "  </tbody>\n",
              "</table>\n",
              "</div>"
            ],
            "text/plain": [
              "                            Random 1  Random 2  Random 3  Random 4\n",
              "2021-12-31 12:38:34.419815  0.505271  1.521736 -1.206412 -1.162495\n",
              "2022-12-31 12:38:34.419815 -0.600818 -0.215672  0.262039 -0.012910\n",
              "2023-12-31 12:38:34.419815  1.381215 -0.225901 -1.164236 -0.327655\n",
              "2024-12-31 12:38:34.419815 -0.732938  0.916367 -1.740823 -0.941962\n",
              "2025-12-31 12:38:34.419815  1.102818 -0.578310 -1.775439  0.061397\n",
              "2026-12-31 12:38:34.419815 -1.002288  1.576098 -1.056365  0.644153\n",
              "2027-12-31 12:38:34.419815 -1.805642 -1.365409  0.435249 -0.390829\n",
              "2028-12-31 12:38:34.419815  2.882377 -0.957645 -0.424115 -1.185959\n",
              "2029-12-31 12:38:34.419815  1.540122  0.742220  0.372038 -1.913786\n",
              "2030-12-31 12:38:34.419815 -0.892010 -0.712801 -0.749810 -1.483079"
            ]
          },
          "metadata": {
            "tags": []
          },
          "execution_count": 146
        }
      ]
    },
    {
      "cell_type": "markdown",
      "metadata": {
        "id": "C_F4DCUIlLt1"
      },
      "source": [
        "## Values"
      ]
    },
    {
      "cell_type": "code",
      "metadata": {
        "id": "1QAsGm1ylLt2",
        "colab": {
          "base_uri": "https://localhost:8080/"
        },
        "outputId": "1ca446b5-874e-4413-eea8-4520555127f0"
      },
      "source": [
        "print(df.value_counts()) # it'll return the no. of occurence of the data\n",
        "\n",
        "df.dtypes # >> to know each datatype\n",
        "\n",
        "# Same for column\n",
        "print(df['Random 1'].value_counts())\n",
        "print(df.corr()) # to find the relation between adjusent column"
      ],
      "execution_count": 147,
      "outputs": [
        {
          "output_type": "stream",
          "text": [
            "Random 1   Random 2   Random 3   Random 4 \n",
            " 2.882377  -0.957645  -0.424115  -1.185959    1\n",
            " 1.540122   0.742220   0.372038  -1.913786    1\n",
            " 1.381215  -0.225901  -1.164236  -0.327655    1\n",
            " 1.102818  -0.578310  -1.775439   0.061397    1\n",
            " 0.505271   1.521736  -1.206412  -1.162495    1\n",
            "-0.600818  -0.215672   0.262039  -0.012910    1\n",
            "-0.732938   0.916367  -1.740823  -0.941962    1\n",
            "-0.892010  -0.712801  -0.749810  -1.483079    1\n",
            "-1.002288   1.576098  -1.056365   0.644153    1\n",
            "-1.805642  -1.365409   0.435249  -0.390829    1\n",
            "dtype: int64\n",
            "-0.892010    1\n",
            "-0.732938    1\n",
            " 0.505271    1\n",
            " 1.540122    1\n",
            " 2.882377    1\n",
            " 1.381215    1\n",
            "-0.600818    1\n",
            "-1.805642    1\n",
            " 1.102818    1\n",
            "-1.002288    1\n",
            "Name: Random 1, dtype: int64\n",
            "          Random 1  Random 2  Random 3  Random 4\n",
            "Random 1  1.000000 -0.071128 -0.098506 -0.348247\n",
            "Random 2 -0.071128  1.000000 -0.348955  0.026827\n",
            "Random 3 -0.098506 -0.348955  1.000000 -0.228972\n",
            "Random 4 -0.348247  0.026827 -0.228972  1.000000\n"
          ],
          "name": "stdout"
        }
      ]
    },
    {
      "cell_type": "code",
      "metadata": {
        "id": "rB9-kZUIlLt2",
        "colab": {
          "base_uri": "https://localhost:8080/",
          "height": 295
        },
        "outputId": "369d8226-3db5-43f2-caef-14b0f659eaff"
      },
      "source": [
        "df.describe() ## Gives the summary of the columnwise data"
      ],
      "execution_count": 148,
      "outputs": [
        {
          "output_type": "execute_result",
          "data": {
            "text/html": [
              "<div>\n",
              "<style scoped>\n",
              "    .dataframe tbody tr th:only-of-type {\n",
              "        vertical-align: middle;\n",
              "    }\n",
              "\n",
              "    .dataframe tbody tr th {\n",
              "        vertical-align: top;\n",
              "    }\n",
              "\n",
              "    .dataframe thead th {\n",
              "        text-align: right;\n",
              "    }\n",
              "</style>\n",
              "<table border=\"1\" class=\"dataframe\">\n",
              "  <thead>\n",
              "    <tr style=\"text-align: right;\">\n",
              "      <th></th>\n",
              "      <th>Random 1</th>\n",
              "      <th>Random 2</th>\n",
              "      <th>Random 3</th>\n",
              "      <th>Random 4</th>\n",
              "    </tr>\n",
              "  </thead>\n",
              "  <tbody>\n",
              "    <tr>\n",
              "      <th>count</th>\n",
              "      <td>10.000000</td>\n",
              "      <td>10.000000</td>\n",
              "      <td>10.000000</td>\n",
              "      <td>10.000000</td>\n",
              "    </tr>\n",
              "    <tr>\n",
              "      <th>mean</th>\n",
              "      <td>0.237811</td>\n",
              "      <td>0.070068</td>\n",
              "      <td>-0.704787</td>\n",
              "      <td>-0.671313</td>\n",
              "    </tr>\n",
              "    <tr>\n",
              "      <th>std</th>\n",
              "      <td>1.470169</td>\n",
              "      <td>1.046836</td>\n",
              "      <td>0.835383</td>\n",
              "      <td>0.794401</td>\n",
              "    </tr>\n",
              "    <tr>\n",
              "      <th>min</th>\n",
              "      <td>-1.805642</td>\n",
              "      <td>-1.365409</td>\n",
              "      <td>-1.775439</td>\n",
              "      <td>-1.913786</td>\n",
              "    </tr>\n",
              "    <tr>\n",
              "      <th>25%</th>\n",
              "      <td>-0.852242</td>\n",
              "      <td>-0.679179</td>\n",
              "      <td>-1.195868</td>\n",
              "      <td>-1.180093</td>\n",
              "    </tr>\n",
              "    <tr>\n",
              "      <th>50%</th>\n",
              "      <td>-0.047774</td>\n",
              "      <td>-0.220787</td>\n",
              "      <td>-0.903088</td>\n",
              "      <td>-0.666395</td>\n",
              "    </tr>\n",
              "    <tr>\n",
              "      <th>75%</th>\n",
              "      <td>1.311615</td>\n",
              "      <td>0.872830</td>\n",
              "      <td>0.090500</td>\n",
              "      <td>-0.091596</td>\n",
              "    </tr>\n",
              "    <tr>\n",
              "      <th>max</th>\n",
              "      <td>2.882377</td>\n",
              "      <td>1.576098</td>\n",
              "      <td>0.435249</td>\n",
              "      <td>0.644153</td>\n",
              "    </tr>\n",
              "  </tbody>\n",
              "</table>\n",
              "</div>"
            ],
            "text/plain": [
              "        Random 1   Random 2   Random 3   Random 4\n",
              "count  10.000000  10.000000  10.000000  10.000000\n",
              "mean    0.237811   0.070068  -0.704787  -0.671313\n",
              "std     1.470169   1.046836   0.835383   0.794401\n",
              "min    -1.805642  -1.365409  -1.775439  -1.913786\n",
              "25%    -0.852242  -0.679179  -1.195868  -1.180093\n",
              "50%    -0.047774  -0.220787  -0.903088  -0.666395\n",
              "75%     1.311615   0.872830   0.090500  -0.091596\n",
              "max     2.882377   1.576098   0.435249   0.644153"
            ]
          },
          "metadata": {
            "tags": []
          },
          "execution_count": 148
        }
      ]
    },
    {
      "cell_type": "markdown",
      "metadata": {
        "id": "8qOpXE-NlLt2"
      },
      "source": [
        "## Slicing"
      ]
    },
    {
      "cell_type": "code",
      "metadata": {
        "id": "dyEd6YhXlLt3",
        "colab": {
          "base_uri": "https://localhost:8080/",
          "height": 110
        },
        "outputId": "31815725-4f30-449d-a38d-72e9a572bb00"
      },
      "source": [
        "df[0:2]"
      ],
      "execution_count": 149,
      "outputs": [
        {
          "output_type": "execute_result",
          "data": {
            "text/html": [
              "<div>\n",
              "<style scoped>\n",
              "    .dataframe tbody tr th:only-of-type {\n",
              "        vertical-align: middle;\n",
              "    }\n",
              "\n",
              "    .dataframe tbody tr th {\n",
              "        vertical-align: top;\n",
              "    }\n",
              "\n",
              "    .dataframe thead th {\n",
              "        text-align: right;\n",
              "    }\n",
              "</style>\n",
              "<table border=\"1\" class=\"dataframe\">\n",
              "  <thead>\n",
              "    <tr style=\"text-align: right;\">\n",
              "      <th></th>\n",
              "      <th>Random 1</th>\n",
              "      <th>Random 2</th>\n",
              "      <th>Random 3</th>\n",
              "      <th>Random 4</th>\n",
              "    </tr>\n",
              "  </thead>\n",
              "  <tbody>\n",
              "    <tr>\n",
              "      <th>2021-12-31 12:38:34.419815</th>\n",
              "      <td>0.505271</td>\n",
              "      <td>1.521736</td>\n",
              "      <td>-1.206412</td>\n",
              "      <td>-1.162495</td>\n",
              "    </tr>\n",
              "    <tr>\n",
              "      <th>2022-12-31 12:38:34.419815</th>\n",
              "      <td>-0.600818</td>\n",
              "      <td>-0.215672</td>\n",
              "      <td>0.262039</td>\n",
              "      <td>-0.012910</td>\n",
              "    </tr>\n",
              "  </tbody>\n",
              "</table>\n",
              "</div>"
            ],
            "text/plain": [
              "                            Random 1  Random 2  Random 3  Random 4\n",
              "2021-12-31 12:38:34.419815  0.505271  1.521736 -1.206412 -1.162495\n",
              "2022-12-31 12:38:34.419815 -0.600818 -0.215672  0.262039 -0.012910"
            ]
          },
          "metadata": {
            "tags": []
          },
          "execution_count": 149
        }
      ]
    },
    {
      "cell_type": "markdown",
      "metadata": {
        "id": "yrYOa1dEsO29"
      },
      "source": [
        "### loc vs iloc\n",
        "- loc is used to access data by putting the location for the data. i.e `df.loc[\"2021-12-31 01:49:18.893933\", \"Random 1\"][0]`\n",
        "  - In the first block he have inserted the row value and in second block we have inserted the column value.\n",
        "- iloc is used to access data using the index. i.e `df.iloc[[0,2,5],0:2]`"
      ]
    },
    {
      "cell_type": "code",
      "metadata": {
        "id": "flpax8G8lLt3",
        "colab": {
          "base_uri": "https://localhost:8080/"
        },
        "outputId": "14c11ba7-a9be-4b26-8df7-9df036d577a4"
      },
      "source": [
        "df.loc[\"2021-12-31\", \"Random 1\"]"
      ],
      "execution_count": 150,
      "outputs": [
        {
          "output_type": "execute_result",
          "data": {
            "text/plain": [
              "2021-12-31 12:38:34.419815    0.505271\n",
              "Freq: A-DEC, Name: Random 1, dtype: float64"
            ]
          },
          "metadata": {
            "tags": []
          },
          "execution_count": 150
        }
      ]
    },
    {
      "cell_type": "code",
      "metadata": {
        "id": "JDp73Ed9tKc4",
        "colab": {
          "base_uri": "https://localhost:8080/"
        },
        "outputId": "be925019-2ad0-4f19-e116-3cfc067bbcc3"
      },
      "source": [
        "df.iloc[[0,2,5],-1]"
      ],
      "execution_count": 151,
      "outputs": [
        {
          "output_type": "execute_result",
          "data": {
            "text/plain": [
              "2021-12-31 12:38:34.419815   -1.162495\n",
              "2023-12-31 12:38:34.419815   -0.327655\n",
              "2026-12-31 12:38:34.419815    0.644153\n",
              "Name: Random 4, dtype: float64"
            ]
          },
          "metadata": {
            "tags": []
          },
          "execution_count": 151
        }
      ]
    },
    {
      "cell_type": "code",
      "metadata": {
        "id": "BTvNPboiuYvo",
        "colab": {
          "base_uri": "https://localhost:8080/",
          "height": 326
        },
        "outputId": "2c712131-f2b9-4e04-cb9e-448f819c6ff9"
      },
      "source": [
        "print(df)\n",
        "df.iloc[[2,4,6], 0:2]"
      ],
      "execution_count": 152,
      "outputs": [
        {
          "output_type": "stream",
          "text": [
            "                            Random 1  Random 2  Random 3  Random 4\n",
            "2021-12-31 12:38:34.419815  0.505271  1.521736 -1.206412 -1.162495\n",
            "2022-12-31 12:38:34.419815 -0.600818 -0.215672  0.262039 -0.012910\n",
            "2023-12-31 12:38:34.419815  1.381215 -0.225901 -1.164236 -0.327655\n",
            "2024-12-31 12:38:34.419815 -0.732938  0.916367 -1.740823 -0.941962\n",
            "2025-12-31 12:38:34.419815  1.102818 -0.578310 -1.775439  0.061397\n",
            "2026-12-31 12:38:34.419815 -1.002288  1.576098 -1.056365  0.644153\n",
            "2027-12-31 12:38:34.419815 -1.805642 -1.365409  0.435249 -0.390829\n",
            "2028-12-31 12:38:34.419815  2.882377 -0.957645 -0.424115 -1.185959\n",
            "2029-12-31 12:38:34.419815  1.540122  0.742220  0.372038 -1.913786\n",
            "2030-12-31 12:38:34.419815 -0.892010 -0.712801 -0.749810 -1.483079\n"
          ],
          "name": "stdout"
        },
        {
          "output_type": "execute_result",
          "data": {
            "text/html": [
              "<div>\n",
              "<style scoped>\n",
              "    .dataframe tbody tr th:only-of-type {\n",
              "        vertical-align: middle;\n",
              "    }\n",
              "\n",
              "    .dataframe tbody tr th {\n",
              "        vertical-align: top;\n",
              "    }\n",
              "\n",
              "    .dataframe thead th {\n",
              "        text-align: right;\n",
              "    }\n",
              "</style>\n",
              "<table border=\"1\" class=\"dataframe\">\n",
              "  <thead>\n",
              "    <tr style=\"text-align: right;\">\n",
              "      <th></th>\n",
              "      <th>Random 1</th>\n",
              "      <th>Random 2</th>\n",
              "    </tr>\n",
              "  </thead>\n",
              "  <tbody>\n",
              "    <tr>\n",
              "      <th>2023-12-31 12:38:34.419815</th>\n",
              "      <td>1.381215</td>\n",
              "      <td>-0.225901</td>\n",
              "    </tr>\n",
              "    <tr>\n",
              "      <th>2025-12-31 12:38:34.419815</th>\n",
              "      <td>1.102818</td>\n",
              "      <td>-0.578310</td>\n",
              "    </tr>\n",
              "    <tr>\n",
              "      <th>2027-12-31 12:38:34.419815</th>\n",
              "      <td>-1.805642</td>\n",
              "      <td>-1.365409</td>\n",
              "    </tr>\n",
              "  </tbody>\n",
              "</table>\n",
              "</div>"
            ],
            "text/plain": [
              "                            Random 1  Random 2\n",
              "2023-12-31 12:38:34.419815  1.381215 -0.225901\n",
              "2025-12-31 12:38:34.419815  1.102818 -0.578310\n",
              "2027-12-31 12:38:34.419815 -1.805642 -1.365409"
            ]
          },
          "metadata": {
            "tags": []
          },
          "execution_count": 152
        }
      ]
    },
    {
      "cell_type": "markdown",
      "metadata": {
        "id": "vcDwHn85xmmq"
      },
      "source": [
        "## Concatenation & Descriptive Statistics\n",
        "- `df.drop()`:- mainly used to delete columns"
      ]
    },
    {
      "cell_type": "code",
      "metadata": {
        "id": "w7dtCudDxjgv"
      },
      "source": [
        "drd = df.drop(columns=[\"Random 1\", \"Random 2\"])"
      ],
      "execution_count": 153,
      "outputs": []
    },
    {
      "cell_type": "markdown",
      "metadata": {
        "id": "VBK1of0By6mz"
      },
      "source": [
        "- `df.concat()`:- It is used to merge to dataframes row wise"
      ]
    },
    {
      "cell_type": "code",
      "metadata": {
        "id": "qM6NPhm5zCfJ",
        "colab": {
          "base_uri": "https://localhost:8080/",
          "height": 203
        },
        "outputId": "2a396ec0-94b3-418e-d09e-f5ace2e7125d"
      },
      "source": [
        "\n",
        "a = {\"Name\": [\"Rio\", \"Nirobi\"], \"Age\" :[18,20]}\n",
        "a = pd.DataFrame(a)\n",
        "\n",
        "b = {\"Name\": [\"Tokyo\", \"Berlin\", \"Tokyo\"], \"Age\" :[23,30,23]}\n",
        "b = pd.DataFrame(b, index= [2,3,4])\n",
        "\n",
        "ab = pd.concat([a,b])\n",
        "ab"
      ],
      "execution_count": 154,
      "outputs": [
        {
          "output_type": "execute_result",
          "data": {
            "text/html": [
              "<div>\n",
              "<style scoped>\n",
              "    .dataframe tbody tr th:only-of-type {\n",
              "        vertical-align: middle;\n",
              "    }\n",
              "\n",
              "    .dataframe tbody tr th {\n",
              "        vertical-align: top;\n",
              "    }\n",
              "\n",
              "    .dataframe thead th {\n",
              "        text-align: right;\n",
              "    }\n",
              "</style>\n",
              "<table border=\"1\" class=\"dataframe\">\n",
              "  <thead>\n",
              "    <tr style=\"text-align: right;\">\n",
              "      <th></th>\n",
              "      <th>Name</th>\n",
              "      <th>Age</th>\n",
              "    </tr>\n",
              "  </thead>\n",
              "  <tbody>\n",
              "    <tr>\n",
              "      <th>0</th>\n",
              "      <td>Rio</td>\n",
              "      <td>18</td>\n",
              "    </tr>\n",
              "    <tr>\n",
              "      <th>1</th>\n",
              "      <td>Nirobi</td>\n",
              "      <td>20</td>\n",
              "    </tr>\n",
              "    <tr>\n",
              "      <th>2</th>\n",
              "      <td>Tokyo</td>\n",
              "      <td>23</td>\n",
              "    </tr>\n",
              "    <tr>\n",
              "      <th>3</th>\n",
              "      <td>Berlin</td>\n",
              "      <td>30</td>\n",
              "    </tr>\n",
              "    <tr>\n",
              "      <th>4</th>\n",
              "      <td>Tokyo</td>\n",
              "      <td>23</td>\n",
              "    </tr>\n",
              "  </tbody>\n",
              "</table>\n",
              "</div>"
            ],
            "text/plain": [
              "     Name  Age\n",
              "0     Rio   18\n",
              "1  Nirobi   20\n",
              "2   Tokyo   23\n",
              "3  Berlin   30\n",
              "4   Tokyo   23"
            ]
          },
          "metadata": {
            "tags": []
          },
          "execution_count": 154
        }
      ]
    },
    {
      "cell_type": "markdown",
      "metadata": {
        "id": "wu6qvBj00Tme"
      },
      "source": [
        "- Knowing the existance of value."
      ]
    },
    {
      "cell_type": "code",
      "metadata": {
        "id": "MhxKUWWT0Y3w",
        "colab": {
          "base_uri": "https://localhost:8080/"
        },
        "outputId": "9b2e161a-4c0e-4cef-8fa4-bbfe26f7e7fb"
      },
      "source": [
        "print(ab[\"Name\"] == \"Tokyo\", '\\n\\n') ## tells the existance\n",
        "\n",
        "print(ab[ab[\"Name\"] == \"Tokyo\"]) ## Shows the existance"
      ],
      "execution_count": 155,
      "outputs": [
        {
          "output_type": "stream",
          "text": [
            "0    False\n",
            "1    False\n",
            "2     True\n",
            "3    False\n",
            "4     True\n",
            "Name: Name, dtype: bool \n",
            "\n",
            "\n",
            "    Name  Age\n",
            "2  Tokyo   23\n",
            "4  Tokyo   23\n"
          ],
          "name": "stdout"
        }
      ]
    },
    {
      "cell_type": "markdown",
      "metadata": {
        "id": "KmUJAQJu1S68"
      },
      "source": [
        "- Deleting the dublicate `df.drop_duplicates(column_name)`\n",
        "  - it'll delete the whole row.\n"
      ]
    },
    {
      "cell_type": "code",
      "metadata": {
        "id": "El4M0nAB1lUd"
      },
      "source": [
        "ab = ab.drop_duplicates(['Name'])"
      ],
      "execution_count": 156,
      "outputs": []
    },
    {
      "cell_type": "markdown",
      "metadata": {
        "id": "jZlrXRUe2f3M"
      },
      "source": [
        "- Sorting values `df.sort_values(column_name)` it can sort numerically as well alphabatically.\n",
        "\n"
      ]
    },
    {
      "cell_type": "code",
      "metadata": {
        "id": "8TBAzmjj2m4M"
      },
      "source": [
        "ab_sort_aplha = ab.sort_values('Name')"
      ],
      "execution_count": 157,
      "outputs": []
    },
    {
      "cell_type": "markdown",
      "metadata": {
        "id": "LhsRqKSq3oJt"
      },
      "source": [
        "- renaming columns `df.rename(columns = {\"Name\": \"Emp_name\"})`"
      ]
    },
    {
      "cell_type": "code",
      "metadata": {
        "id": "s06XmYPY3yRw",
        "colab": {
          "base_uri": "https://localhost:8080/",
          "height": 172
        },
        "outputId": "bd82c84e-af4c-447f-c7f0-ccd7ea5989a8"
      },
      "source": [
        "ab_sort_aplha.rename(columns={\"Name\":\"Emp_Name\" , \"Age\": \"Emp_Age\"})"
      ],
      "execution_count": 158,
      "outputs": [
        {
          "output_type": "execute_result",
          "data": {
            "text/html": [
              "<div>\n",
              "<style scoped>\n",
              "    .dataframe tbody tr th:only-of-type {\n",
              "        vertical-align: middle;\n",
              "    }\n",
              "\n",
              "    .dataframe tbody tr th {\n",
              "        vertical-align: top;\n",
              "    }\n",
              "\n",
              "    .dataframe thead th {\n",
              "        text-align: right;\n",
              "    }\n",
              "</style>\n",
              "<table border=\"1\" class=\"dataframe\">\n",
              "  <thead>\n",
              "    <tr style=\"text-align: right;\">\n",
              "      <th></th>\n",
              "      <th>Emp_Name</th>\n",
              "      <th>Emp_Age</th>\n",
              "    </tr>\n",
              "  </thead>\n",
              "  <tbody>\n",
              "    <tr>\n",
              "      <th>3</th>\n",
              "      <td>Berlin</td>\n",
              "      <td>30</td>\n",
              "    </tr>\n",
              "    <tr>\n",
              "      <th>1</th>\n",
              "      <td>Nirobi</td>\n",
              "      <td>20</td>\n",
              "    </tr>\n",
              "    <tr>\n",
              "      <th>0</th>\n",
              "      <td>Rio</td>\n",
              "      <td>18</td>\n",
              "    </tr>\n",
              "    <tr>\n",
              "      <th>2</th>\n",
              "      <td>Tokyo</td>\n",
              "      <td>23</td>\n",
              "    </tr>\n",
              "  </tbody>\n",
              "</table>\n",
              "</div>"
            ],
            "text/plain": [
              "  Emp_Name  Emp_Age\n",
              "3   Berlin       30\n",
              "1   Nirobi       20\n",
              "0      Rio       18\n",
              "2    Tokyo       23"
            ]
          },
          "metadata": {
            "tags": []
          },
          "execution_count": 158
        }
      ]
    },
    {
      "cell_type": "markdown",
      "metadata": {
        "id": "pQ70sB7E4fUh"
      },
      "source": [
        "- Other functions\n",
        "  - `df.sum()` to find the sum of values\n",
        "  - `df.mean()` to find the mean of values\n",
        "  - `df.median()` to find the median of the values\n",
        "  -`df.mode()` to find the mode of the values\n",
        "  - `df.std()` to find the standard deviation of the values\n",
        "  - `df.min()` to find the minimum value from the all values\n",
        "  - `df.max()` to find the maximum value from the all values"
      ]
    },
    {
      "cell_type": "markdown",
      "metadata": {
        "id": "G_NxILbY2LUK"
      },
      "source": [
        "- `pd.merge` Merges df column wise, here `on=\"Name\"` means we are looking for Name in both the df."
      ]
    },
    {
      "cell_type": "code",
      "metadata": {
        "colab": {
          "base_uri": "https://localhost:8080/",
          "height": 142
        },
        "id": "-9mnHMZL2Y1b",
        "outputId": "acf8246e-8450-4f2c-a47f-46f8ce8bbed4"
      },
      "source": [
        "di1 = {\"Name\":[\"Rahul\" , \"Sham\" , \"Ram\"], \"Age\": [12,23,45]}\n",
        "df1 = pd.DataFrame(di1)\n",
        "\n",
        "di2 = {\"Course\": [\"Machine Learning\", \"Data Science\" , 'MLops'], 'Name': [\"Rahul\" , \"Sham\" , \"Ram\"], \"Year\":[2020,2017,2015]}\n",
        "df2 = pd.DataFrame(di2)\n",
        "\n",
        "df = pd.merge(df1, df2 , on='Name', how=\"inner\" )\n",
        "df"
      ],
      "execution_count": 159,
      "outputs": [
        {
          "output_type": "execute_result",
          "data": {
            "text/html": [
              "<div>\n",
              "<style scoped>\n",
              "    .dataframe tbody tr th:only-of-type {\n",
              "        vertical-align: middle;\n",
              "    }\n",
              "\n",
              "    .dataframe tbody tr th {\n",
              "        vertical-align: top;\n",
              "    }\n",
              "\n",
              "    .dataframe thead th {\n",
              "        text-align: right;\n",
              "    }\n",
              "</style>\n",
              "<table border=\"1\" class=\"dataframe\">\n",
              "  <thead>\n",
              "    <tr style=\"text-align: right;\">\n",
              "      <th></th>\n",
              "      <th>Name</th>\n",
              "      <th>Age</th>\n",
              "      <th>Course</th>\n",
              "      <th>Year</th>\n",
              "    </tr>\n",
              "  </thead>\n",
              "  <tbody>\n",
              "    <tr>\n",
              "      <th>0</th>\n",
              "      <td>Rahul</td>\n",
              "      <td>12</td>\n",
              "      <td>Machine Learning</td>\n",
              "      <td>2020</td>\n",
              "    </tr>\n",
              "    <tr>\n",
              "      <th>1</th>\n",
              "      <td>Sham</td>\n",
              "      <td>23</td>\n",
              "      <td>Data Science</td>\n",
              "      <td>2017</td>\n",
              "    </tr>\n",
              "    <tr>\n",
              "      <th>2</th>\n",
              "      <td>Ram</td>\n",
              "      <td>45</td>\n",
              "      <td>MLops</td>\n",
              "      <td>2015</td>\n",
              "    </tr>\n",
              "  </tbody>\n",
              "</table>\n",
              "</div>"
            ],
            "text/plain": [
              "    Name  Age            Course  Year\n",
              "0  Rahul   12  Machine Learning  2020\n",
              "1   Sham   23      Data Science  2017\n",
              "2    Ram   45             MLops  2015"
            ]
          },
          "metadata": {
            "tags": []
          },
          "execution_count": 159
        }
      ]
    },
    {
      "cell_type": "code",
      "metadata": {
        "colab": {
          "base_uri": "https://localhost:8080/",
          "height": 142
        },
        "id": "K4MW7xgQ2sv1",
        "outputId": "004e81db-21d7-4b29-e174-d7691b34e06e"
      },
      "source": [
        "## Doing changes in df\n",
        "df.rename(columns={\"Name\": \"Student_Name\"})\n",
        "df.iloc[0,0] = 'Virat'\n",
        "df"
      ],
      "execution_count": 160,
      "outputs": [
        {
          "output_type": "execute_result",
          "data": {
            "text/html": [
              "<div>\n",
              "<style scoped>\n",
              "    .dataframe tbody tr th:only-of-type {\n",
              "        vertical-align: middle;\n",
              "    }\n",
              "\n",
              "    .dataframe tbody tr th {\n",
              "        vertical-align: top;\n",
              "    }\n",
              "\n",
              "    .dataframe thead th {\n",
              "        text-align: right;\n",
              "    }\n",
              "</style>\n",
              "<table border=\"1\" class=\"dataframe\">\n",
              "  <thead>\n",
              "    <tr style=\"text-align: right;\">\n",
              "      <th></th>\n",
              "      <th>Name</th>\n",
              "      <th>Age</th>\n",
              "      <th>Course</th>\n",
              "      <th>Year</th>\n",
              "    </tr>\n",
              "  </thead>\n",
              "  <tbody>\n",
              "    <tr>\n",
              "      <th>0</th>\n",
              "      <td>Virat</td>\n",
              "      <td>12</td>\n",
              "      <td>Machine Learning</td>\n",
              "      <td>2020</td>\n",
              "    </tr>\n",
              "    <tr>\n",
              "      <th>1</th>\n",
              "      <td>Sham</td>\n",
              "      <td>23</td>\n",
              "      <td>Data Science</td>\n",
              "      <td>2017</td>\n",
              "    </tr>\n",
              "    <tr>\n",
              "      <th>2</th>\n",
              "      <td>Ram</td>\n",
              "      <td>45</td>\n",
              "      <td>MLops</td>\n",
              "      <td>2015</td>\n",
              "    </tr>\n",
              "  </tbody>\n",
              "</table>\n",
              "</div>"
            ],
            "text/plain": [
              "    Name  Age            Course  Year\n",
              "0  Virat   12  Machine Learning  2020\n",
              "1   Sham   23      Data Science  2017\n",
              "2    Ram   45             MLops  2015"
            ]
          },
          "metadata": {
            "tags": []
          },
          "execution_count": 160
        }
      ]
    },
    {
      "cell_type": "markdown",
      "metadata": {
        "id": "whvqW6qB6_GK"
      },
      "source": [
        "## Data Cleaning"
      ]
    },
    {
      "cell_type": "code",
      "metadata": {
        "colab": {
          "base_uri": "https://localhost:8080/"
        },
        "id": "MsWvQfph7HCh",
        "outputId": "4cb00c11-53ad-4cca-a4d3-ad80915ab501"
      },
      "source": [
        "dfs = pd.Series(['Lakshit', '18', 'www.lakshit.io'])\n",
        "dfs.str.capitalize()\n",
        "\n",
        "dfs.str.islower()\n",
        "dfs.str.lower()\n",
        "\n",
        "dfs.str.isupper()\n",
        "dfs.str.upper()\n",
        "\n",
        "dfs.str.isnumeric()\n",
        "\n",
        "dfs.str.swapcase()\n",
        "\n",
        "dfs.str.len()\n",
        "\n",
        "dfs.str.cat(sep=\"_\") # >> Lakshit_18_www.lakshit.io\n",
        "\n",
        "dfs.str.replace(\"www.\" , \"yoyo.\")\n",
        "\n",
        "dfs.str.repeat(2)\n",
        "\n",
        "dfs.str.count(\"w\") # occurence of a letter"
      ],
      "execution_count": 161,
      "outputs": [
        {
          "output_type": "execute_result",
          "data": {
            "text/plain": [
              "0    0\n",
              "1    0\n",
              "2    3\n",
              "dtype: int64"
            ]
          },
          "metadata": {
            "tags": []
          },
          "execution_count": 161
        }
      ]
    },
    {
      "cell_type": "markdown",
      "metadata": {
        "id": "C9kXGrMw-TcM"
      },
      "source": [
        "## Applying funtions to tables\n",
        "- `df.pipe(func_name)` it'll apply to the whole table.\n",
        "- `df.apply(func_name)` it'll apply to each column."
      ]
    },
    {
      "cell_type": "code",
      "metadata": {
        "colab": {
          "base_uri": "https://localhost:8080/"
        },
        "id": "WgdL5oax-wuP",
        "outputId": "f473a962-68c1-4522-f8b0-394544b19f0e"
      },
      "source": [
        "num = np.random.rand(10,4)\n",
        "dfNum = pd.DataFrame(num)\n",
        "print(dfNum,'\\n\\n')\n",
        "\n",
        "def add(a,b):\n",
        "  return a + b\n",
        "\n",
        "dfNum.pipe(type) # >> pandas.core.frame.DataFrame\n",
        "\n",
        "# PIPE\n",
        "print(dfNum.pipe(add,10), '\\n\\n')\n",
        "\n",
        "# Apply\n",
        "dfNum.apply(np.mean)"
      ],
      "execution_count": 162,
      "outputs": [
        {
          "output_type": "stream",
          "text": [
            "          0         1         2         3\n",
            "0  0.674495  0.263752  0.218296  0.241513\n",
            "1  0.565232  0.301242  0.646362  0.894231\n",
            "2  0.713230  0.334358  0.465269  0.444773\n",
            "3  0.932410  0.676291  0.034048  0.162570\n",
            "4  0.036260  0.765997  0.852821  0.291492\n",
            "5  0.252738  0.217843  0.933191  0.782329\n",
            "6  0.262004  0.318338  0.986931  0.122513\n",
            "7  0.857153  0.914846  0.896085  0.735411\n",
            "8  0.731914  0.675965  0.399768  0.479320\n",
            "9  0.820949  0.560920  0.667069  0.918956 \n",
            "\n",
            "\n",
            "           0          1          2          3\n",
            "0  10.674495  10.263752  10.218296  10.241513\n",
            "1  10.565232  10.301242  10.646362  10.894231\n",
            "2  10.713230  10.334358  10.465269  10.444773\n",
            "3  10.932410  10.676291  10.034048  10.162570\n",
            "4  10.036260  10.765997  10.852821  10.291492\n",
            "5  10.252738  10.217843  10.933191  10.782329\n",
            "6  10.262004  10.318338  10.986931  10.122513\n",
            "7  10.857153  10.914846  10.896085  10.735411\n",
            "8  10.731914  10.675965  10.399768  10.479320\n",
            "9  10.820949  10.560920  10.667069  10.918956 \n",
            "\n",
            "\n"
          ],
          "name": "stdout"
        },
        {
          "output_type": "execute_result",
          "data": {
            "text/plain": [
              "0    0.584639\n",
              "1    0.502955\n",
              "2    0.609984\n",
              "3    0.507311\n",
              "dtype: float64"
            ]
          },
          "metadata": {
            "tags": []
          },
          "execution_count": 162
        }
      ]
    },
    {
      "cell_type": "code",
      "metadata": {
        "colab": {
          "base_uri": "https://localhost:8080/",
          "height": 35
        },
        "id": "QKhBaokW-9tE",
        "outputId": "9a8d78a8-fbec-44b9-b2cb-6b91f9fe6c99"
      },
      "source": [
        "import os\n",
        "os.getcwd() # to get the current working directiory\n",
        "# os.chdir(\"dir_name\") # to change the current working directiory\n"
      ],
      "execution_count": 163,
      "outputs": [
        {
          "output_type": "execute_result",
          "data": {
            "application/vnd.google.colaboratory.intrinsic+json": {
              "type": "string"
            },
            "text/plain": [
              "'/content'"
            ]
          },
          "metadata": {
            "tags": []
          },
          "execution_count": 163
        }
      ]
    },
    {
      "cell_type": "code",
      "metadata": {
        "colab": {
          "base_uri": "https://localhost:8080/"
        },
        "id": "hDUdeRKmAQUG",
        "outputId": "399ce923-bcc2-473a-dfdd-1bd9dc0e0f59"
      },
      "source": [
        "df.dtypes"
      ],
      "execution_count": 164,
      "outputs": [
        {
          "output_type": "execute_result",
          "data": {
            "text/plain": [
              "Name      object\n",
              "Age        int64\n",
              "Course    object\n",
              "Year       int64\n",
              "dtype: object"
            ]
          },
          "metadata": {
            "tags": []
          },
          "execution_count": 164
        }
      ]
    },
    {
      "cell_type": "markdown",
      "metadata": {
        "id": "vfTVqrYBCbew"
      },
      "source": [
        "## Importing csv file"
      ]
    },
    {
      "cell_type": "code",
      "metadata": {
        "id": "eUebAoVTCgVt"
      },
      "source": [
        "df = pd.read_csv(\"sample_data/california_housing_test.csv\" ,header=0, skiprows=[1,2,3,4,5],\\\n",
        "                 names = ['Long', 'Lat', \"house_med_age\", 'Rooms', 'bedrooms','population_','household', \"med_inc\",\"med_val\"])\n"
      ],
      "execution_count": 165,
      "outputs": []
    },
    {
      "cell_type": "markdown",
      "metadata": {
        "id": "jYcskGoBEepq"
      },
      "source": [
        "- here header = 0 is by default you can change header toany other row by putting the row number.\n",
        "- here skiprows will skip the rows which are specified \n",
        "- here names is used to give custom header name\n",
        "- put `header = None` to remove header "
      ]
    },
    {
      "cell_type": "code",
      "metadata": {
        "colab": {
          "base_uri": "https://localhost:8080/",
          "height": 417
        },
        "id": "LMyVBE9hCuqQ",
        "outputId": "d83d45f3-3d70-4ef2-8cc5-c39d6f97b3d2"
      },
      "source": [
        "df"
      ],
      "execution_count": 166,
      "outputs": [
        {
          "output_type": "execute_result",
          "data": {
            "text/html": [
              "<div>\n",
              "<style scoped>\n",
              "    .dataframe tbody tr th:only-of-type {\n",
              "        vertical-align: middle;\n",
              "    }\n",
              "\n",
              "    .dataframe tbody tr th {\n",
              "        vertical-align: top;\n",
              "    }\n",
              "\n",
              "    .dataframe thead th {\n",
              "        text-align: right;\n",
              "    }\n",
              "</style>\n",
              "<table border=\"1\" class=\"dataframe\">\n",
              "  <thead>\n",
              "    <tr style=\"text-align: right;\">\n",
              "      <th></th>\n",
              "      <th>Long</th>\n",
              "      <th>Lat</th>\n",
              "      <th>house_med_age</th>\n",
              "      <th>Rooms</th>\n",
              "      <th>bedrooms</th>\n",
              "      <th>population_</th>\n",
              "      <th>household</th>\n",
              "      <th>med_inc</th>\n",
              "      <th>med_val</th>\n",
              "    </tr>\n",
              "  </thead>\n",
              "  <tbody>\n",
              "    <tr>\n",
              "      <th>0</th>\n",
              "      <td>-119.56</td>\n",
              "      <td>36.51</td>\n",
              "      <td>37.0</td>\n",
              "      <td>1018.0</td>\n",
              "      <td>213.0</td>\n",
              "      <td>663.0</td>\n",
              "      <td>204.0</td>\n",
              "      <td>1.6635</td>\n",
              "      <td>67000.0</td>\n",
              "    </tr>\n",
              "    <tr>\n",
              "      <th>1</th>\n",
              "      <td>-121.43</td>\n",
              "      <td>38.63</td>\n",
              "      <td>43.0</td>\n",
              "      <td>1009.0</td>\n",
              "      <td>225.0</td>\n",
              "      <td>604.0</td>\n",
              "      <td>218.0</td>\n",
              "      <td>1.6641</td>\n",
              "      <td>67000.0</td>\n",
              "    </tr>\n",
              "    <tr>\n",
              "      <th>2</th>\n",
              "      <td>-120.65</td>\n",
              "      <td>35.48</td>\n",
              "      <td>19.0</td>\n",
              "      <td>2310.0</td>\n",
              "      <td>471.0</td>\n",
              "      <td>1341.0</td>\n",
              "      <td>441.0</td>\n",
              "      <td>3.2250</td>\n",
              "      <td>166900.0</td>\n",
              "    </tr>\n",
              "    <tr>\n",
              "      <th>3</th>\n",
              "      <td>-122.84</td>\n",
              "      <td>38.40</td>\n",
              "      <td>15.0</td>\n",
              "      <td>3080.0</td>\n",
              "      <td>617.0</td>\n",
              "      <td>1446.0</td>\n",
              "      <td>599.0</td>\n",
              "      <td>3.6696</td>\n",
              "      <td>194400.0</td>\n",
              "    </tr>\n",
              "    <tr>\n",
              "      <th>4</th>\n",
              "      <td>-118.02</td>\n",
              "      <td>34.08</td>\n",
              "      <td>31.0</td>\n",
              "      <td>2402.0</td>\n",
              "      <td>632.0</td>\n",
              "      <td>2830.0</td>\n",
              "      <td>603.0</td>\n",
              "      <td>2.3333</td>\n",
              "      <td>164200.0</td>\n",
              "    </tr>\n",
              "    <tr>\n",
              "      <th>...</th>\n",
              "      <td>...</td>\n",
              "      <td>...</td>\n",
              "      <td>...</td>\n",
              "      <td>...</td>\n",
              "      <td>...</td>\n",
              "      <td>...</td>\n",
              "      <td>...</td>\n",
              "      <td>...</td>\n",
              "      <td>...</td>\n",
              "    </tr>\n",
              "    <tr>\n",
              "      <th>2990</th>\n",
              "      <td>-119.86</td>\n",
              "      <td>34.42</td>\n",
              "      <td>23.0</td>\n",
              "      <td>1450.0</td>\n",
              "      <td>642.0</td>\n",
              "      <td>1258.0</td>\n",
              "      <td>607.0</td>\n",
              "      <td>1.1790</td>\n",
              "      <td>225000.0</td>\n",
              "    </tr>\n",
              "    <tr>\n",
              "      <th>2991</th>\n",
              "      <td>-118.14</td>\n",
              "      <td>34.06</td>\n",
              "      <td>27.0</td>\n",
              "      <td>5257.0</td>\n",
              "      <td>1082.0</td>\n",
              "      <td>3496.0</td>\n",
              "      <td>1036.0</td>\n",
              "      <td>3.3906</td>\n",
              "      <td>237200.0</td>\n",
              "    </tr>\n",
              "    <tr>\n",
              "      <th>2992</th>\n",
              "      <td>-119.70</td>\n",
              "      <td>36.30</td>\n",
              "      <td>10.0</td>\n",
              "      <td>956.0</td>\n",
              "      <td>201.0</td>\n",
              "      <td>693.0</td>\n",
              "      <td>220.0</td>\n",
              "      <td>2.2895</td>\n",
              "      <td>62000.0</td>\n",
              "    </tr>\n",
              "    <tr>\n",
              "      <th>2993</th>\n",
              "      <td>-117.12</td>\n",
              "      <td>34.10</td>\n",
              "      <td>40.0</td>\n",
              "      <td>96.0</td>\n",
              "      <td>14.0</td>\n",
              "      <td>46.0</td>\n",
              "      <td>14.0</td>\n",
              "      <td>3.2708</td>\n",
              "      <td>162500.0</td>\n",
              "    </tr>\n",
              "    <tr>\n",
              "      <th>2994</th>\n",
              "      <td>-119.63</td>\n",
              "      <td>34.42</td>\n",
              "      <td>42.0</td>\n",
              "      <td>1765.0</td>\n",
              "      <td>263.0</td>\n",
              "      <td>753.0</td>\n",
              "      <td>260.0</td>\n",
              "      <td>8.5608</td>\n",
              "      <td>500001.0</td>\n",
              "    </tr>\n",
              "  </tbody>\n",
              "</table>\n",
              "<p>2995 rows × 9 columns</p>\n",
              "</div>"
            ],
            "text/plain": [
              "        Long    Lat  house_med_age  ...  household  med_inc   med_val\n",
              "0    -119.56  36.51           37.0  ...      204.0   1.6635   67000.0\n",
              "1    -121.43  38.63           43.0  ...      218.0   1.6641   67000.0\n",
              "2    -120.65  35.48           19.0  ...      441.0   3.2250  166900.0\n",
              "3    -122.84  38.40           15.0  ...      599.0   3.6696  194400.0\n",
              "4    -118.02  34.08           31.0  ...      603.0   2.3333  164200.0\n",
              "...      ...    ...            ...  ...        ...      ...       ...\n",
              "2990 -119.86  34.42           23.0  ...      607.0   1.1790  225000.0\n",
              "2991 -118.14  34.06           27.0  ...     1036.0   3.3906  237200.0\n",
              "2992 -119.70  36.30           10.0  ...      220.0   2.2895   62000.0\n",
              "2993 -117.12  34.10           40.0  ...       14.0   3.2708  162500.0\n",
              "2994 -119.63  34.42           42.0  ...      260.0   8.5608  500001.0\n",
              "\n",
              "[2995 rows x 9 columns]"
            ]
          },
          "metadata": {
            "tags": []
          },
          "execution_count": 166
        }
      ]
    },
    {
      "cell_type": "code",
      "metadata": {
        "colab": {
          "base_uri": "https://localhost:8080/"
        },
        "id": "CN2E2IjYCv_g",
        "outputId": "e00ff404-f7f1-400b-ac2f-f2d54524388d"
      },
      "source": [
        "df = pd.read_csv(\"sample_data/california_housing_test.csv\", header= None, prefix=\"Column: \", na_values=[\"na value\"], verbose=True)\n"
      ],
      "execution_count": 167,
      "outputs": [
        {
          "output_type": "stream",
          "text": [
            "Tokenization took: 3.73 ms\n",
            "Type conversion took: 9.48 ms\n",
            "Parser memory cleanup took: 0.01 ms\n"
          ],
          "name": "stdout"
        }
      ]
    },
    {
      "cell_type": "markdown",
      "metadata": {
        "id": "DM__hfH2E0_7"
      },
      "source": [
        "- here `prefix = \"column: \"` is used to add any prefix to the column names i.e Column: 1\n",
        "- `na_values=['na_value']` is used to fill replace the na value with na_value  \n",
        "- We can also use `sep=\";\"` if the seperator is not ',' we have to specify the seperator\n",
        "- `dtype={\"Column: 0\": 'int'}` if you want to change the data type of a column then specify it here.\n",
        "- `verbose=True` is used to get the time it takes to load the file"
      ]
    },
    {
      "cell_type": "code",
      "metadata": {
        "colab": {
          "base_uri": "https://localhost:8080/"
        },
        "id": "DZ5_dFv5EtJy",
        "outputId": "130345d7-6702-4768-fa58-dbf29a3991b5"
      },
      "source": [
        "print(df)\n",
        "df.dtypes"
      ],
      "execution_count": 168,
      "outputs": [
        {
          "output_type": "stream",
          "text": [
            "        Column: 0  Column: 1  ...      Column: 7           Column: 8\n",
            "0       longitude   latitude  ...  median_income  median_house_value\n",
            "1     -122.050000  37.370000  ...       6.608500       344700.000000\n",
            "2     -118.300000  34.260000  ...       3.599000       176500.000000\n",
            "3     -117.810000  33.780000  ...       5.793400       270500.000000\n",
            "4     -118.360000  33.820000  ...       6.135900       330000.000000\n",
            "...           ...        ...  ...            ...                 ...\n",
            "2996  -119.860000  34.420000  ...       1.179000       225000.000000\n",
            "2997  -118.140000  34.060000  ...       3.390600       237200.000000\n",
            "2998  -119.700000  36.300000  ...       2.289500        62000.000000\n",
            "2999  -117.120000  34.100000  ...       3.270800       162500.000000\n",
            "3000  -119.630000  34.420000  ...       8.560800       500001.000000\n",
            "\n",
            "[3001 rows x 9 columns]\n"
          ],
          "name": "stdout"
        },
        {
          "output_type": "execute_result",
          "data": {
            "text/plain": [
              "Column: 0    object\n",
              "Column: 1    object\n",
              "Column: 2    object\n",
              "Column: 3    object\n",
              "Column: 4    object\n",
              "Column: 5    object\n",
              "Column: 6    object\n",
              "Column: 7    object\n",
              "Column: 8    object\n",
              "dtype: object"
            ]
          },
          "metadata": {
            "tags": []
          },
          "execution_count": 168
        }
      ]
    },
    {
      "cell_type": "markdown",
      "metadata": {
        "id": "noo5D-OJ-lNw"
      },
      "source": [
        "## Reading CSV Data from URL "
      ]
    },
    {
      "cell_type": "code",
      "metadata": {
        "id": "koutcfvyEtl1"
      },
      "source": [
        "dfs = pd.read_csv(\"http://winterolympicsmedals.com/medals.csv\", nrows=10, usecols=[0,1,5] )\n",
        "dfs.shape\n",
        "dfs.to_csv(\"new_.medals.csv\", index=None)"
      ],
      "execution_count": 169,
      "outputs": []
    },
    {
      "cell_type": "markdown",
      "metadata": {
        "id": "FnhlZdyF_2vZ"
      },
      "source": [
        "- `skipfooter=11` will remove last 11 rows from table\n",
        "- `nrows=10` will only show the first 10 rows\n",
        "- `usecols=[0,1,5]` will only return the columns which are present at the given index\n",
        "- `dfs.to_csv(\"new_medals.csv\", index=None)` to save the file into csv format\n",
        "- `pd.read_excel(filename)` to read the excel file (check documentation for more)"
      ]
    },
    {
      "cell_type": "markdown",
      "metadata": {
        "id": "RgzaBYDmDF5Z"
      },
      "source": [
        "## Data Visualiztion using Pandas"
      ]
    },
    {
      "cell_type": "code",
      "metadata": {
        "colab": {
          "base_uri": "https://localhost:8080/",
          "height": 282
        },
        "id": "1gXKA517EoPU",
        "outputId": "c3433d3a-aba0-40a7-a927-06a34690e252"
      },
      "source": [
        "data = np.random.rand(100,4)\n",
        "data = pd.DataFrame(data, columns=['f', 's', 't', 'fr'])\n",
        "data['f'].plot.box(vert=False)"
      ],
      "execution_count": 193,
      "outputs": [
        {
          "output_type": "execute_result",
          "data": {
            "text/plain": [
              "<matplotlib.axes._subplots.AxesSubplot at 0x7f8295053bd0>"
            ]
          },
          "metadata": {
            "tags": []
          },
          "execution_count": 193
        },
        {
          "output_type": "display_data",
          "data": {
            "image/png": "[encoded data removed]",
            "text/plain": [
              "<Figure size 432x288 with 1 Axes>"
            ]
          },
          "metadata": {
            "tags": [],
            "needs_background": "light"
          }
        }
      ]
    },
    {
      "cell_type": "markdown",
      "metadata": {
        "id": "8pJg-ks0Ged_"
      },
      "source": [
        "- green line means 50% data is near 0.4\n",
        "- two ends are min and max values in dataframe\n",
        "- `vert = False` means we don't want to show data vertically"
      ]
    },
    {
      "cell_type": "code",
      "metadata": {
        "colab": {
          "base_uri": "https://localhost:8080/",
          "height": 282
        },
        "id": "I0o0mhyvFRC0",
        "outputId": "18f2fa31-f5b4-4d4e-d550-64ab2c08696e"
      },
      "source": [
        "data['f'].plot()"
      ],
      "execution_count": 195,
      "outputs": [
        {
          "output_type": "execute_result",
          "data": {
            "text/plain": [
              "<matplotlib.axes._subplots.AxesSubplot at 0x7f8294fe8690>"
            ]
          },
          "metadata": {
            "tags": []
          },
          "execution_count": 195
        },
        {
          "output_type": "display_data",
          "data": {
            "image/png": "[encoded data removed]",
            "text/plain": [
              "<Figure size 432x288 with 1 Axes>"
            ]
          },
          "metadata": {
            "tags": [],
            "needs_background": "light"
          }
        }
      ]
    },
    {
      "cell_type": "code",
      "metadata": {
        "colab": {
          "base_uri": "https://localhost:8080/",
          "height": 285
        },
        "id": "OVyS6x3_G9rp",
        "outputId": "3435b803-749e-4f8b-9e72-b9532760e522"
      },
      "source": [
        "data['f'].plot.bar()"
      ],
      "execution_count": 199,
      "outputs": [
        {
          "output_type": "execute_result",
          "data": {
            "text/plain": [
              "<matplotlib.axes._subplots.AxesSubplot at 0x7f82949fc8d0>"
            ]
          },
          "metadata": {
            "tags": []
          },
          "execution_count": 199
        },
        {
          "output_type": "display_data",
          "data": {
            "image/png": "[encoded data removed]",
            "text/plain": [
              "<Figure size 432x288 with 1 Axes>"
            ]
          },
          "metadata": {
            "tags": [],
            "needs_background": "light"
          }
        }
      ]
    },
    {
      "cell_type": "markdown",
      "metadata": {
        "id": "H5K-vMQPHb07"
      },
      "source": [
        "- `data['f'].plot.barh()` to show data vertically"
      ]
    },
    {
      "cell_type": "code",
      "metadata": {
        "colab": {
          "base_uri": "https://localhost:8080/",
          "height": 282
        },
        "id": "gf-yvImpHkzE",
        "outputId": "6afa94a9-8144-4a5a-9ea1-a629f4017495"
      },
      "source": [
        "data['f'].plot.hist()"
      ],
      "execution_count": 202,
      "outputs": [
        {
          "output_type": "execute_result",
          "data": {
            "text/plain": [
              "<matplotlib.axes._subplots.AxesSubplot at 0x7f8294654090>"
            ]
          },
          "metadata": {
            "tags": []
          },
          "execution_count": 202
        },
        {
          "output_type": "display_data",
          "data": {
            "image/png": "[encoded data removed]",
            "text/plain": [
              "<Figure size 432x288 with 1 Axes>"
            ]
          },
          "metadata": {
            "tags": [],
            "needs_background": "light"
          }
        }
      ]
    },
    {
      "cell_type": "markdown",
      "metadata": {
        "id": "r91qCExmH5HO"
      },
      "source": [
        "- `data['f'].plot.hist(bins=10)` here bins refers to the no. of blocks"
      ]
    },
    {
      "cell_type": "code",
      "metadata": {
        "colab": {
          "base_uri": "https://localhost:8080/",
          "height": 282
        },
        "id": "QzX3ypRlHsTU",
        "outputId": "bc313946-d758-44ad-8412-2cfb2a552c51"
      },
      "source": [
        "data['f'].plot.area()"
      ],
      "execution_count": 203,
      "outputs": [
        {
          "output_type": "execute_result",
          "data": {
            "text/plain": [
              "<matplotlib.axes._subplots.AxesSubplot at 0x7f82946ad690>"
            ]
          },
          "metadata": {
            "tags": []
          },
          "execution_count": 203
        },
        {
          "output_type": "display_data",
          "data": {
            "image/png": "[encoded data removed]",
            "text/plain": [
              "<Figure size 432x288 with 1 Axes>"
            ]
          },
          "metadata": {
            "tags": [],
            "needs_background": "light"
          }
        }
      ]
    },
    {
      "cell_type": "code",
      "metadata": {
        "colab": {
          "base_uri": "https://localhost:8080/",
          "height": 296
        },
        "id": "HjMKN8eaIF3d",
        "outputId": "05a945a7-e760-4ee9-c6a7-e5c6e54180f9"
      },
      "source": [
        "data.plot.scatter(x = 'f' ,y = 's')"
      ],
      "execution_count": 210,
      "outputs": [
        {
          "output_type": "execute_result",
          "data": {
            "text/plain": [
              "<matplotlib.axes._subplots.AxesSubplot at 0x7f82949d8dd0>"
            ]
          },
          "metadata": {
            "tags": []
          },
          "execution_count": 210
        },
        {
          "output_type": "display_data",
          "data": {
            "image/png": "[encoded data removed]",
            "text/plain": [
              "<Figure size 432x288 with 1 Axes>"
            ]
          },
          "metadata": {
            "tags": [],
            "needs_background": "light"
          }
        }
      ]
    },
    {
      "cell_type": "code",
      "metadata": {
        "colab": {
          "base_uri": "https://localhost:8080/",
          "height": 265
        },
        "id": "xMymbjsuINdQ",
        "outputId": "a0517fb1-e75a-4f6b-e164-5fbedbb534bc"
      },
      "source": [
        "data['f'].plot.pie()"
      ],
      "execution_count": 211,
      "outputs": [
        {
          "output_type": "execute_result",
          "data": {
            "text/plain": [
              "<matplotlib.axes._subplots.AxesSubplot at 0x7f82945ddb10>"
            ]
          },
          "metadata": {
            "tags": []
          },
          "execution_count": 211
        },
        {
          "output_type": "display_data",
          "data": {
            "image/png": "[encoded data removed]",
            "text/plain": [
              "<Figure size 432x288 with 1 Axes>"
            ]
          },
          "metadata": {
            "tags": []
          }
        }
      ]
    },
    {
      "cell_type": "code",
      "metadata": {
        "id": "AFxMbXVEI1E9"
      },
      "source": [
        ""
      ],
      "execution_count": null,
      "outputs": []
    }
  ]
}