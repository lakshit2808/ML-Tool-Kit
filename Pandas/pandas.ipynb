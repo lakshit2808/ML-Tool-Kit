{
  "nbformat": 4,
  "nbformat_minor": 0,
  "metadata": {
    "kernelspec": {
      "display_name": "Python 3",
      "language": "python",
      "name": "python3"
    },
    "language_info": {
      "codemirror_mode": {
        "name": "ipython",
        "version": 3
      },
      "file_extension": ".py",
      "mimetype": "text/x-python",
      "name": "python",
      "nbconvert_exporter": "python",
      "pygments_lexer": "ipython3",
      "version": "3.8.5"
    },
    "colab": {
      "name": "pandas.ipynb",
      "provenance": [],
      "collapsed_sections": [
        "-2kudejllLtz",
        "Mly8dHJmlLtz",
        "FRi833u2lLt0",
        "g2Y9wbavlLt1"
      ],
      "include_colab_link": true
    }
  },
  "cells": [
    {
      "cell_type": "markdown",
      "metadata": {
        "id": "view-in-github",
        "colab_type": "text"
      },
      "source": [
        "<a href=\"https://colab.research.google.com/github/lakshit2808/Machine-Learning-Notes/blob/master/Pandas/pandas.ipynb\" target=\"_parent\"><img src=\"https://colab.research.google.com/assets/colab-badge.svg\" alt=\"Open In Colab\"/></a>"
      ]
    },
    {
      "cell_type": "markdown",
      "metadata": {
        "id": "leViS5sdlLtr"
      },
      "source": [
        "<h1>Pandas</h1>\n",
        "Pandas is a opensource python library prividing high performance data manuplation and analysis tools using it's powerful data structures.\n"
      ]
    },
    {
      "cell_type": "code",
      "metadata": {
        "id": "rUCOx4qmlLtt"
      },
      "source": [
        "import pandas as pd\n",
        "import numpy as np"
      ],
      "execution_count": 2,
      "outputs": []
    },
    {
      "cell_type": "markdown",
      "metadata": {
        "id": "Y83fjdzUlLtt"
      },
      "source": [
        "<h2>Series</h2>\n",
        "Series is a single dimensional data structure with homogenous data type values.<br>\n",
        "Also Series comes with index or are one single column where as list is just a list"
      ]
    },
    {
      "cell_type": "code",
      "metadata": {
        "id": "40vf1FcClLtu",
        "colab": {
          "base_uri": "https://localhost:8080/"
        },
        "outputId": "f99fbc2b-a3ed-47af-f95b-c00485982818"
      },
      "source": [
        "series = pd.Series([10,20,40,50], index = [\"a\" , \"b\",\"c\", \"d\"])\n",
        "lists = [1,2,3]\n",
        "print(lists)\n",
        "series\n",
        "\n"
      ],
      "execution_count": 3,
      "outputs": [
        {
          "output_type": "stream",
          "text": [
            "[1, 2, 3]\n"
          ],
          "name": "stdout"
        },
        {
          "output_type": "execute_result",
          "data": {
            "text/plain": [
              "a    10\n",
              "b    20\n",
              "c    40\n",
              "d    50\n",
              "dtype: int64"
            ]
          },
          "metadata": {
            "tags": []
          },
          "execution_count": 3
        }
      ]
    },
    {
      "cell_type": "markdown",
      "metadata": {
        "id": "-iBgANAwlLtv"
      },
      "source": [
        "<h1>Dataframe</h1>\n",
        "Two dimensional object with heterogenous data type value."
      ]
    },
    {
      "cell_type": "code",
      "metadata": {
        "id": "PQWKp4VclLtw",
        "colab": {
          "base_uri": "https://localhost:8080/",
          "height": 158
        },
        "outputId": "149d9ac0-daa0-4e48-ce1e-68e59996b177"
      },
      "source": [
        "listz = [['Ravi' , 10],['Ram' , 20],[\"Raj\", 30]]\n",
        "print(listz)\n",
        "\n",
        "df = pd.DataFrame(listz, columns=['Name', \"Age\"], index=[\"a\", \"b\", 'c'])\n",
        "df"
      ],
      "execution_count": 4,
      "outputs": [
        {
          "output_type": "stream",
          "text": [
            "[['Ravi', 10], ['Ram', 20], ['Raj', 30]]\n"
          ],
          "name": "stdout"
        },
        {
          "output_type": "execute_result",
          "data": {
            "text/html": [
              "<div>\n",
              "<style scoped>\n",
              "    .dataframe tbody tr th:only-of-type {\n",
              "        vertical-align: middle;\n",
              "    }\n",
              "\n",
              "    .dataframe tbody tr th {\n",
              "        vertical-align: top;\n",
              "    }\n",
              "\n",
              "    .dataframe thead th {\n",
              "        text-align: right;\n",
              "    }\n",
              "</style>\n",
              "<table border=\"1\" class=\"dataframe\">\n",
              "  <thead>\n",
              "    <tr style=\"text-align: right;\">\n",
              "      <th></th>\n",
              "      <th>Name</th>\n",
              "      <th>Age</th>\n",
              "    </tr>\n",
              "  </thead>\n",
              "  <tbody>\n",
              "    <tr>\n",
              "      <th>a</th>\n",
              "      <td>Ravi</td>\n",
              "      <td>10</td>\n",
              "    </tr>\n",
              "    <tr>\n",
              "      <th>b</th>\n",
              "      <td>Ram</td>\n",
              "      <td>20</td>\n",
              "    </tr>\n",
              "    <tr>\n",
              "      <th>c</th>\n",
              "      <td>Raj</td>\n",
              "      <td>30</td>\n",
              "    </tr>\n",
              "  </tbody>\n",
              "</table>\n",
              "</div>"
            ],
            "text/plain": [
              "   Name  Age\n",
              "a  Ravi   10\n",
              "b   Ram   20\n",
              "c   Raj   30"
            ]
          },
          "metadata": {
            "tags": []
          },
          "execution_count": 4
        }
      ]
    },
    {
      "cell_type": "markdown",
      "metadata": {
        "id": "ZRcYhY9ulLtw"
      },
      "source": [
        "<h2>Accessing DataFrame</h2>"
      ]
    },
    {
      "cell_type": "code",
      "metadata": {
        "id": "gdMcH7oPlLtx",
        "colab": {
          "base_uri": "https://localhost:8080/"
        },
        "outputId": "17ac8eb8-5538-4435-f121-c0d831b13442"
      },
      "source": [
        "dfa = df['Name']\n",
        "dfb = df[['Name']]\n",
        "print(type(dfa))\n",
        "print(type(dfb))\n",
        "dfa"
      ],
      "execution_count": 5,
      "outputs": [
        {
          "output_type": "stream",
          "text": [
            "<class 'pandas.core.series.Series'>\n",
            "<class 'pandas.core.frame.DataFrame'>\n"
          ],
          "name": "stdout"
        },
        {
          "output_type": "execute_result",
          "data": {
            "text/plain": [
              "a    Ravi\n",
              "b     Ram\n",
              "c     Raj\n",
              "Name: Name, dtype: object"
            ]
          },
          "metadata": {
            "tags": []
          },
          "execution_count": 5
        }
      ]
    },
    {
      "cell_type": "markdown",
      "metadata": {
        "id": "xaDimmDRlLtx"
      },
      "source": [
        "dfa is a series because we are directly accessing column values, whereas dfb is a DataFrame because we are accessing a total column"
      ]
    },
    {
      "cell_type": "markdown",
      "metadata": {
        "id": "pUVpbPzMlLty"
      },
      "source": [
        "<h2>Dictionary to DataFrame</h2>"
      ]
    },
    {
      "cell_type": "code",
      "metadata": {
        "id": "CbJhAydBlLty",
        "colab": {
          "base_uri": "https://localhost:8080/",
          "height": 127
        },
        "outputId": "697d5c35-c447-4da1-f07e-69f9d5de09be"
      },
      "source": [
        "dictz = {\"Name\": [\"Rahul\", 'Rio'], \"Age\" : [20,40]}\n",
        "print(dictz)\n",
        "\n",
        "dfd = pd.DataFrame(dictz)\n",
        "dfd"
      ],
      "execution_count": 6,
      "outputs": [
        {
          "output_type": "stream",
          "text": [
            "{'Name': ['Rahul', 'Rio'], 'Age': [20, 40]}\n"
          ],
          "name": "stdout"
        },
        {
          "output_type": "execute_result",
          "data": {
            "text/html": [
              "<div>\n",
              "<style scoped>\n",
              "    .dataframe tbody tr th:only-of-type {\n",
              "        vertical-align: middle;\n",
              "    }\n",
              "\n",
              "    .dataframe tbody tr th {\n",
              "        vertical-align: top;\n",
              "    }\n",
              "\n",
              "    .dataframe thead th {\n",
              "        text-align: right;\n",
              "    }\n",
              "</style>\n",
              "<table border=\"1\" class=\"dataframe\">\n",
              "  <thead>\n",
              "    <tr style=\"text-align: right;\">\n",
              "      <th></th>\n",
              "      <th>Name</th>\n",
              "      <th>Age</th>\n",
              "    </tr>\n",
              "  </thead>\n",
              "  <tbody>\n",
              "    <tr>\n",
              "      <th>0</th>\n",
              "      <td>Rahul</td>\n",
              "      <td>20</td>\n",
              "    </tr>\n",
              "    <tr>\n",
              "      <th>1</th>\n",
              "      <td>Rio</td>\n",
              "      <td>40</td>\n",
              "    </tr>\n",
              "  </tbody>\n",
              "</table>\n",
              "</div>"
            ],
            "text/plain": [
              "    Name  Age\n",
              "0  Rahul   20\n",
              "1    Rio   40"
            ]
          },
          "metadata": {
            "tags": []
          },
          "execution_count": 6
        }
      ]
    },
    {
      "cell_type": "markdown",
      "metadata": {
        "id": "-2kudejllLtz"
      },
      "source": [
        "## Array to DataFrame"
      ]
    },
    {
      "cell_type": "code",
      "metadata": {
        "id": "QeRzVa-blLtz",
        "colab": {
          "base_uri": "https://localhost:8080/"
        },
        "outputId": "8ab5d90b-4c67-42d8-bef1-395b95987e60"
      },
      "source": [
        "arr = np.array([[1,2,3] , [5,6,7]])\n",
        "print(arr)\n",
        "\n",
        "dfa = pd.DataFrame(arr)\n",
        "print(dfa)\n",
        "\n",
        "## Now dataframe into array\n",
        "arrd = np.array(dfa)\n",
        "arrd"
      ],
      "execution_count": 7,
      "outputs": [
        {
          "output_type": "stream",
          "text": [
            "[[1 2 3]\n",
            " [5 6 7]]\n",
            "   0  1  2\n",
            "0  1  2  3\n",
            "1  5  6  7\n"
          ],
          "name": "stdout"
        },
        {
          "output_type": "execute_result",
          "data": {
            "text/plain": [
              "array([[1, 2, 3],\n",
              "       [5, 6, 7]])"
            ]
          },
          "metadata": {
            "tags": []
          },
          "execution_count": 7
        }
      ]
    },
    {
      "cell_type": "markdown",
      "metadata": {
        "id": "Mly8dHJmlLtz"
      },
      "source": [
        "## Range Data\n",
        "\n",
        "Syntax: pd.date_range(date, period , freq)<br>\n",
        "date format: YYYYMMDD<br>\n",
        "period: it is the no of days or months or years<br>\n",
        "frequency(freq): it is the format i.e Month(M), Year(Y), Day(D)"
      ]
    },
    {
      "cell_type": "code",
      "metadata": {
        "id": "ORx4ETENlLt0",
        "colab": {
          "base_uri": "https://localhost:8080/"
        },
        "outputId": "7a4c55ad-c85c-4b04-d09c-419b59faf6d9"
      },
      "source": [
        "from datetime import datetime\n",
        "\n",
        "ranges = pd.date_range(start=datetime.now(), periods=10, freq='Y')\n",
        "type(ranges)\n",
        "ranges"
      ],
      "execution_count": 8,
      "outputs": [
        {
          "output_type": "execute_result",
          "data": {
            "text/plain": [
              "DatetimeIndex(['2021-12-31 02:17:33.718836', '2022-12-31 02:17:33.718836',\n",
              "               '2023-12-31 02:17:33.718836', '2024-12-31 02:17:33.718836',\n",
              "               '2025-12-31 02:17:33.718836', '2026-12-31 02:17:33.718836',\n",
              "               '2027-12-31 02:17:33.718836', '2028-12-31 02:17:33.718836',\n",
              "               '2029-12-31 02:17:33.718836', '2030-12-31 02:17:33.718836'],\n",
              "              dtype='datetime64[ns]', freq='A-DEC')"
            ]
          },
          "metadata": {
            "tags": []
          },
          "execution_count": 8
        }
      ]
    },
    {
      "cell_type": "markdown",
      "metadata": {
        "id": "FRi833u2lLt0"
      },
      "source": [
        "## Head Tail Func\n",
        "- pd.head() # Returns the first 5 values and to change these 5 values we can pass n in pd.head(3) it will return first 3 values.\n",
        "- pd.tail() # Returns the last 5 values and to change these 5 values we can pass n in pd.tail(3) it will return last 3 values."
      ]
    },
    {
      "cell_type": "code",
      "metadata": {
        "id": "bn3-sdtKlLt0",
        "colab": {
          "base_uri": "https://localhost:8080/"
        },
        "outputId": "54797827-a6b6-4fdb-eb66-93ba3a89ec4a"
      },
      "source": [
        "# Create Df\n",
        "df = np.random.randn(10,4)\n",
        "print(df)\n",
        "df = pd.DataFrame(df , index = ranges, columns = [\"Random 1\", \"Random 2\", \"Random 3\", \"Random 4\"])\n",
        "print(df)\n",
        "print(df.shape)\n",
        "print(df.columns)\n",
        "print(df.info())\n",
        "print(df.head(3))\n",
        "print(\"#####\")\n",
        "print(df.tail(3))"
      ],
      "execution_count": 9,
      "outputs": [
        {
          "output_type": "stream",
          "text": [
            "[[ 0.11528778  0.42575385  0.50889499 -0.85651488]\n",
            " [-0.31236161  1.71018002 -0.33406335 -1.0882227 ]\n",
            " [ 0.81421087 -0.10738301 -0.868758   -0.07373167]\n",
            " [ 0.36156357  1.18266918  0.75924142  1.42412196]\n",
            " [ 1.4461178  -1.1896709  -0.46957543 -0.30733707]\n",
            " [-0.07129229 -0.51919864  0.08044894 -0.57642001]\n",
            " [-0.82925325 -1.26239156  0.71410825 -0.2072894 ]\n",
            " [-0.55172686  0.95065898 -1.00006963  0.22046126]\n",
            " [-1.30354255  0.17156924 -0.92659867  0.47130744]\n",
            " [-1.73130868  0.41436142 -0.05935615 -1.07586915]]\n",
            "                            Random 1  Random 2  Random 3  Random 4\n",
            "2021-12-31 02:17:33.718836  0.115288  0.425754  0.508895 -0.856515\n",
            "2022-12-31 02:17:33.718836 -0.312362  1.710180 -0.334063 -1.088223\n",
            "2023-12-31 02:17:33.718836  0.814211 -0.107383 -0.868758 -0.073732\n",
            "2024-12-31 02:17:33.718836  0.361564  1.182669  0.759241  1.424122\n",
            "2025-12-31 02:17:33.718836  1.446118 -1.189671 -0.469575 -0.307337\n",
            "2026-12-31 02:17:33.718836 -0.071292 -0.519199  0.080449 -0.576420\n",
            "2027-12-31 02:17:33.718836 -0.829253 -1.262392  0.714108 -0.207289\n",
            "2028-12-31 02:17:33.718836 -0.551727  0.950659 -1.000070  0.220461\n",
            "2029-12-31 02:17:33.718836 -1.303543  0.171569 -0.926599  0.471307\n",
            "2030-12-31 02:17:33.718836 -1.731309  0.414361 -0.059356 -1.075869\n",
            "(10, 4)\n",
            "Index(['Random 1', 'Random 2', 'Random 3', 'Random 4'], dtype='object')\n",
            "<class 'pandas.core.frame.DataFrame'>\n",
            "DatetimeIndex: 10 entries, 2021-12-31 02:17:33.718836 to 2030-12-31 02:17:33.718836\n",
            "Freq: A-DEC\n",
            "Data columns (total 4 columns):\n",
            " #   Column    Non-Null Count  Dtype  \n",
            "---  ------    --------------  -----  \n",
            " 0   Random 1  10 non-null     float64\n",
            " 1   Random 2  10 non-null     float64\n",
            " 2   Random 3  10 non-null     float64\n",
            " 3   Random 4  10 non-null     float64\n",
            "dtypes: float64(4)\n",
            "memory usage: 400.0 bytes\n",
            "None\n",
            "                            Random 1  Random 2  Random 3  Random 4\n",
            "2021-12-31 02:17:33.718836  0.115288  0.425754  0.508895 -0.856515\n",
            "2022-12-31 02:17:33.718836 -0.312362  1.710180 -0.334063 -1.088223\n",
            "2023-12-31 02:17:33.718836  0.814211 -0.107383 -0.868758 -0.073732\n",
            "#####\n",
            "                            Random 1  Random 2  Random 3  Random 4\n",
            "2028-12-31 02:17:33.718836 -0.551727  0.950659 -1.000070  0.220461\n",
            "2029-12-31 02:17:33.718836 -1.303543  0.171569 -0.926599  0.471307\n",
            "2030-12-31 02:17:33.718836 -1.731309  0.414361 -0.059356 -1.075869\n"
          ],
          "name": "stdout"
        }
      ]
    },
    {
      "cell_type": "markdown",
      "metadata": {
        "id": "g2Y9wbavlLt1"
      },
      "source": [
        "## Null values"
      ]
    },
    {
      "cell_type": "code",
      "metadata": {
        "id": "RJMa2kCzlLt1",
        "colab": {
          "base_uri": "https://localhost:8080/",
          "height": 0
        },
        "outputId": "c2e958ae-ede4-44b8-bb44-4b450c74978e"
      },
      "source": [
        "print(df.isnull()) # null values are there or not\n",
        "print(df.isnull().sum()) # sum of null values in each column\n",
        "df.dropna() # by default it'll delete the entire row there nan value is present but to delete the column we can use df.dropna(axis=1) by default axis is 0"
      ],
      "execution_count": 10,
      "outputs": [
        {
          "output_type": "stream",
          "text": [
            "                            Random 1  Random 2  Random 3  Random 4\n",
            "2021-12-31 02:17:33.718836     False     False     False     False\n",
            "2022-12-31 02:17:33.718836     False     False     False     False\n",
            "2023-12-31 02:17:33.718836     False     False     False     False\n",
            "2024-12-31 02:17:33.718836     False     False     False     False\n",
            "2025-12-31 02:17:33.718836     False     False     False     False\n",
            "2026-12-31 02:17:33.718836     False     False     False     False\n",
            "2027-12-31 02:17:33.718836     False     False     False     False\n",
            "2028-12-31 02:17:33.718836     False     False     False     False\n",
            "2029-12-31 02:17:33.718836     False     False     False     False\n",
            "2030-12-31 02:17:33.718836     False     False     False     False\n",
            "Random 1    0\n",
            "Random 2    0\n",
            "Random 3    0\n",
            "Random 4    0\n",
            "dtype: int64\n"
          ],
          "name": "stdout"
        },
        {
          "output_type": "execute_result",
          "data": {
            "text/html": [
              "<div>\n",
              "<style scoped>\n",
              "    .dataframe tbody tr th:only-of-type {\n",
              "        vertical-align: middle;\n",
              "    }\n",
              "\n",
              "    .dataframe tbody tr th {\n",
              "        vertical-align: top;\n",
              "    }\n",
              "\n",
              "    .dataframe thead th {\n",
              "        text-align: right;\n",
              "    }\n",
              "</style>\n",
              "<table border=\"1\" class=\"dataframe\">\n",
              "  <thead>\n",
              "    <tr style=\"text-align: right;\">\n",
              "      <th></th>\n",
              "      <th>Random 1</th>\n",
              "      <th>Random 2</th>\n",
              "      <th>Random 3</th>\n",
              "      <th>Random 4</th>\n",
              "    </tr>\n",
              "  </thead>\n",
              "  <tbody>\n",
              "    <tr>\n",
              "      <th>2021-12-31 02:17:33.718836</th>\n",
              "      <td>0.115288</td>\n",
              "      <td>0.425754</td>\n",
              "      <td>0.508895</td>\n",
              "      <td>-0.856515</td>\n",
              "    </tr>\n",
              "    <tr>\n",
              "      <th>2022-12-31 02:17:33.718836</th>\n",
              "      <td>-0.312362</td>\n",
              "      <td>1.710180</td>\n",
              "      <td>-0.334063</td>\n",
              "      <td>-1.088223</td>\n",
              "    </tr>\n",
              "    <tr>\n",
              "      <th>2023-12-31 02:17:33.718836</th>\n",
              "      <td>0.814211</td>\n",
              "      <td>-0.107383</td>\n",
              "      <td>-0.868758</td>\n",
              "      <td>-0.073732</td>\n",
              "    </tr>\n",
              "    <tr>\n",
              "      <th>2024-12-31 02:17:33.718836</th>\n",
              "      <td>0.361564</td>\n",
              "      <td>1.182669</td>\n",
              "      <td>0.759241</td>\n",
              "      <td>1.424122</td>\n",
              "    </tr>\n",
              "    <tr>\n",
              "      <th>2025-12-31 02:17:33.718836</th>\n",
              "      <td>1.446118</td>\n",
              "      <td>-1.189671</td>\n",
              "      <td>-0.469575</td>\n",
              "      <td>-0.307337</td>\n",
              "    </tr>\n",
              "    <tr>\n",
              "      <th>2026-12-31 02:17:33.718836</th>\n",
              "      <td>-0.071292</td>\n",
              "      <td>-0.519199</td>\n",
              "      <td>0.080449</td>\n",
              "      <td>-0.576420</td>\n",
              "    </tr>\n",
              "    <tr>\n",
              "      <th>2027-12-31 02:17:33.718836</th>\n",
              "      <td>-0.829253</td>\n",
              "      <td>-1.262392</td>\n",
              "      <td>0.714108</td>\n",
              "      <td>-0.207289</td>\n",
              "    </tr>\n",
              "    <tr>\n",
              "      <th>2028-12-31 02:17:33.718836</th>\n",
              "      <td>-0.551727</td>\n",
              "      <td>0.950659</td>\n",
              "      <td>-1.000070</td>\n",
              "      <td>0.220461</td>\n",
              "    </tr>\n",
              "    <tr>\n",
              "      <th>2029-12-31 02:17:33.718836</th>\n",
              "      <td>-1.303543</td>\n",
              "      <td>0.171569</td>\n",
              "      <td>-0.926599</td>\n",
              "      <td>0.471307</td>\n",
              "    </tr>\n",
              "    <tr>\n",
              "      <th>2030-12-31 02:17:33.718836</th>\n",
              "      <td>-1.731309</td>\n",
              "      <td>0.414361</td>\n",
              "      <td>-0.059356</td>\n",
              "      <td>-1.075869</td>\n",
              "    </tr>\n",
              "  </tbody>\n",
              "</table>\n",
              "</div>"
            ],
            "text/plain": [
              "                            Random 1  Random 2  Random 3  Random 4\n",
              "2021-12-31 02:17:33.718836  0.115288  0.425754  0.508895 -0.856515\n",
              "2022-12-31 02:17:33.718836 -0.312362  1.710180 -0.334063 -1.088223\n",
              "2023-12-31 02:17:33.718836  0.814211 -0.107383 -0.868758 -0.073732\n",
              "2024-12-31 02:17:33.718836  0.361564  1.182669  0.759241  1.424122\n",
              "2025-12-31 02:17:33.718836  1.446118 -1.189671 -0.469575 -0.307337\n",
              "2026-12-31 02:17:33.718836 -0.071292 -0.519199  0.080449 -0.576420\n",
              "2027-12-31 02:17:33.718836 -0.829253 -1.262392  0.714108 -0.207289\n",
              "2028-12-31 02:17:33.718836 -0.551727  0.950659 -1.000070  0.220461\n",
              "2029-12-31 02:17:33.718836 -1.303543  0.171569 -0.926599  0.471307\n",
              "2030-12-31 02:17:33.718836 -1.731309  0.414361 -0.059356 -1.075869"
            ]
          },
          "metadata": {
            "tags": []
          },
          "execution_count": 10
        }
      ]
    },
    {
      "cell_type": "markdown",
      "metadata": {
        "id": "C_F4DCUIlLt1"
      },
      "source": [
        "## Values"
      ]
    },
    {
      "cell_type": "code",
      "metadata": {
        "id": "1QAsGm1ylLt2",
        "colab": {
          "base_uri": "https://localhost:8080/"
        },
        "outputId": "72960f3c-0664-45d5-af58-f444554d6f2a"
      },
      "source": [
        "print(df.value_counts()) # it'll return the no. of occurence of the data\n",
        "\n",
        "df.dtypes # >> to know each datatype\n",
        "\n",
        "# Same for column\n",
        "print(df['Random 1'].value_counts())\n",
        "print(df.corr()) # to find the relation between adjusent column"
      ],
      "execution_count": 11,
      "outputs": [
        {
          "output_type": "stream",
          "text": [
            "Random 1   Random 2   Random 3   Random 4 \n",
            " 1.446118  -1.189671  -0.469575  -0.307337    1\n",
            " 0.814211  -0.107383  -0.868758  -0.073732    1\n",
            " 0.361564   1.182669   0.759241   1.424122    1\n",
            " 0.115288   0.425754   0.508895  -0.856515    1\n",
            "-0.071292  -0.519199   0.080449  -0.576420    1\n",
            "-0.312362   1.710180  -0.334063  -1.088223    1\n",
            "-0.551727   0.950659  -1.000070   0.220461    1\n",
            "-0.829253  -1.262392   0.714108  -0.207289    1\n",
            "-1.303543   0.171569  -0.926599   0.471307    1\n",
            "-1.731309   0.414361  -0.059356  -1.075869    1\n",
            "dtype: int64\n",
            " 0.814211    1\n",
            "-0.551727    1\n",
            "-0.829253    1\n",
            "-0.312362    1\n",
            " 0.361564    1\n",
            "-1.731309    1\n",
            "-0.071292    1\n",
            "-1.303543    1\n",
            " 0.115288    1\n",
            " 1.446118    1\n",
            "Name: Random 1, dtype: int64\n",
            "          Random 1  Random 2  Random 3  Random 4\n",
            "Random 1  1.000000 -0.223284 -0.002333  0.173973\n",
            "Random 2 -0.223284  1.000000 -0.101611  0.088740\n",
            "Random 3 -0.002333 -0.101611  1.000000  0.021206\n",
            "Random 4  0.173973  0.088740  0.021206  1.000000\n"
          ],
          "name": "stdout"
        }
      ]
    },
    {
      "cell_type": "code",
      "metadata": {
        "id": "rB9-kZUIlLt2",
        "colab": {
          "base_uri": "https://localhost:8080/",
          "height": 295
        },
        "outputId": "e712ca61-bca1-481f-dcdd-26ec90ebf7ec"
      },
      "source": [
        "df.describe() ## Gives the summary of the columnwise data"
      ],
      "execution_count": 12,
      "outputs": [
        {
          "output_type": "execute_result",
          "data": {
            "text/html": [
              "<div>\n",
              "<style scoped>\n",
              "    .dataframe tbody tr th:only-of-type {\n",
              "        vertical-align: middle;\n",
              "    }\n",
              "\n",
              "    .dataframe tbody tr th {\n",
              "        vertical-align: top;\n",
              "    }\n",
              "\n",
              "    .dataframe thead th {\n",
              "        text-align: right;\n",
              "    }\n",
              "</style>\n",
              "<table border=\"1\" class=\"dataframe\">\n",
              "  <thead>\n",
              "    <tr style=\"text-align: right;\">\n",
              "      <th></th>\n",
              "      <th>Random 1</th>\n",
              "      <th>Random 2</th>\n",
              "      <th>Random 3</th>\n",
              "      <th>Random 4</th>\n",
              "    </tr>\n",
              "  </thead>\n",
              "  <tbody>\n",
              "    <tr>\n",
              "      <th>count</th>\n",
              "      <td>10.000000</td>\n",
              "      <td>10.000000</td>\n",
              "      <td>10.000000</td>\n",
              "      <td>10.000000</td>\n",
              "    </tr>\n",
              "    <tr>\n",
              "      <th>mean</th>\n",
              "      <td>-0.206231</td>\n",
              "      <td>0.177655</td>\n",
              "      <td>-0.159573</td>\n",
              "      <td>-0.206949</td>\n",
              "    </tr>\n",
              "    <tr>\n",
              "      <th>std</th>\n",
              "      <td>0.958255</td>\n",
              "      <td>0.976616</td>\n",
              "      <td>0.670514</td>\n",
              "      <td>0.776104</td>\n",
              "    </tr>\n",
              "    <tr>\n",
              "      <th>min</th>\n",
              "      <td>-1.731309</td>\n",
              "      <td>-1.262392</td>\n",
              "      <td>-1.000070</td>\n",
              "      <td>-1.088223</td>\n",
              "    </tr>\n",
              "    <tr>\n",
              "      <th>25%</th>\n",
              "      <td>-0.759872</td>\n",
              "      <td>-0.416245</td>\n",
              "      <td>-0.768962</td>\n",
              "      <td>-0.786491</td>\n",
              "    </tr>\n",
              "    <tr>\n",
              "      <th>50%</th>\n",
              "      <td>-0.191827</td>\n",
              "      <td>0.292965</td>\n",
              "      <td>-0.196710</td>\n",
              "      <td>-0.257313</td>\n",
              "    </tr>\n",
              "    <tr>\n",
              "      <th>75%</th>\n",
              "      <td>0.299995</td>\n",
              "      <td>0.819433</td>\n",
              "      <td>0.401783</td>\n",
              "      <td>0.146913</td>\n",
              "    </tr>\n",
              "    <tr>\n",
              "      <th>max</th>\n",
              "      <td>1.446118</td>\n",
              "      <td>1.710180</td>\n",
              "      <td>0.759241</td>\n",
              "      <td>1.424122</td>\n",
              "    </tr>\n",
              "  </tbody>\n",
              "</table>\n",
              "</div>"
            ],
            "text/plain": [
              "        Random 1   Random 2   Random 3   Random 4\n",
              "count  10.000000  10.000000  10.000000  10.000000\n",
              "mean   -0.206231   0.177655  -0.159573  -0.206949\n",
              "std     0.958255   0.976616   0.670514   0.776104\n",
              "min    -1.731309  -1.262392  -1.000070  -1.088223\n",
              "25%    -0.759872  -0.416245  -0.768962  -0.786491\n",
              "50%    -0.191827   0.292965  -0.196710  -0.257313\n",
              "75%     0.299995   0.819433   0.401783   0.146913\n",
              "max     1.446118   1.710180   0.759241   1.424122"
            ]
          },
          "metadata": {
            "tags": []
          },
          "execution_count": 12
        }
      ]
    },
    {
      "cell_type": "markdown",
      "metadata": {
        "id": "8qOpXE-NlLt2"
      },
      "source": [
        "## Slicing"
      ]
    },
    {
      "cell_type": "code",
      "metadata": {
        "id": "dyEd6YhXlLt3",
        "colab": {
          "base_uri": "https://localhost:8080/",
          "height": 110
        },
        "outputId": "06ebc1eb-51f6-40f2-83ef-384ced3eb11e"
      },
      "source": [
        "df[0:2]"
      ],
      "execution_count": 13,
      "outputs": [
        {
          "output_type": "execute_result",
          "data": {
            "text/html": [
              "<div>\n",
              "<style scoped>\n",
              "    .dataframe tbody tr th:only-of-type {\n",
              "        vertical-align: middle;\n",
              "    }\n",
              "\n",
              "    .dataframe tbody tr th {\n",
              "        vertical-align: top;\n",
              "    }\n",
              "\n",
              "    .dataframe thead th {\n",
              "        text-align: right;\n",
              "    }\n",
              "</style>\n",
              "<table border=\"1\" class=\"dataframe\">\n",
              "  <thead>\n",
              "    <tr style=\"text-align: right;\">\n",
              "      <th></th>\n",
              "      <th>Random 1</th>\n",
              "      <th>Random 2</th>\n",
              "      <th>Random 3</th>\n",
              "      <th>Random 4</th>\n",
              "    </tr>\n",
              "  </thead>\n",
              "  <tbody>\n",
              "    <tr>\n",
              "      <th>2021-12-31 02:17:33.718836</th>\n",
              "      <td>0.115288</td>\n",
              "      <td>0.425754</td>\n",
              "      <td>0.508895</td>\n",
              "      <td>-0.856515</td>\n",
              "    </tr>\n",
              "    <tr>\n",
              "      <th>2022-12-31 02:17:33.718836</th>\n",
              "      <td>-0.312362</td>\n",
              "      <td>1.710180</td>\n",
              "      <td>-0.334063</td>\n",
              "      <td>-1.088223</td>\n",
              "    </tr>\n",
              "  </tbody>\n",
              "</table>\n",
              "</div>"
            ],
            "text/plain": [
              "                            Random 1  Random 2  Random 3  Random 4\n",
              "2021-12-31 02:17:33.718836  0.115288  0.425754  0.508895 -0.856515\n",
              "2022-12-31 02:17:33.718836 -0.312362  1.710180 -0.334063 -1.088223"
            ]
          },
          "metadata": {
            "tags": []
          },
          "execution_count": 13
        }
      ]
    },
    {
      "cell_type": "markdown",
      "metadata": {
        "id": "yrYOa1dEsO29"
      },
      "source": [
        "### loc vs iloc\n",
        "- loc is used to access data by putting the location for the data. i.e `df.loc[\"2021-12-31 01:49:18.893933\", \"Random 1\"][0]`\n",
        "  - In the first block he have inserted the row value and in second block we have inserted the column value.\n",
        "- iloc is used to access data using the index. i.e `df.iloc[[0,2,5],0:2]`"
      ]
    },
    {
      "cell_type": "code",
      "metadata": {
        "id": "flpax8G8lLt3",
        "colab": {
          "base_uri": "https://localhost:8080/"
        },
        "outputId": "9b145b3c-c3a3-4da9-a99e-716584be9e3c"
      },
      "source": [
        "df.loc[\"2021-12-31\", \"Random 1\"]"
      ],
      "execution_count": 15,
      "outputs": [
        {
          "output_type": "execute_result",
          "data": {
            "text/plain": [
              "2021-12-31 02:17:33.718836    0.115288\n",
              "Freq: A-DEC, Name: Random 1, dtype: float64"
            ]
          },
          "metadata": {
            "tags": []
          },
          "execution_count": 15
        }
      ]
    },
    {
      "cell_type": "code",
      "metadata": {
        "id": "JDp73Ed9tKc4"
      },
      "source": [
        "df.iloc[[0,2,5],-1]"
      ],
      "execution_count": null,
      "outputs": []
    },
    {
      "cell_type": "code",
      "metadata": {
        "id": "BTvNPboiuYvo"
      },
      "source": [
        "print(df)\n",
        "df.iloc[[2,4,6], 0:2]"
      ],
      "execution_count": null,
      "outputs": []
    },
    {
      "cell_type": "markdown",
      "metadata": {
        "id": "vcDwHn85xmmq"
      },
      "source": [
        "## Concatenation & Descriptive Statistics\n",
        "- `df.drop()`:- mainly used to delete columns"
      ]
    },
    {
      "cell_type": "code",
      "metadata": {
        "id": "w7dtCudDxjgv"
      },
      "source": [
        "drd = df.drop(columns=[\"Random 1\", \"Random 2\"])"
      ],
      "execution_count": null,
      "outputs": []
    },
    {
      "cell_type": "markdown",
      "metadata": {
        "id": "VBK1of0By6mz"
      },
      "source": [
        "- `df.concat()`:- It is used to merge to dataframes row wise"
      ]
    },
    {
      "cell_type": "code",
      "metadata": {
        "id": "qM6NPhm5zCfJ"
      },
      "source": [
        "\n",
        "a = {\"Name\": [\"Rio\", \"Nirobi\"], \"Age\" :[18,20]}\n",
        "a = pd.DataFrame(a)\n",
        "\n",
        "b = {\"Name\": [\"Tokyo\", \"Berlin\", \"Tokyo\"], \"Age\" :[23,30,23]}\n",
        "b = pd.DataFrame(b, index= [2,3,4])\n",
        "\n",
        "ab = pd.concat([a,b])\n",
        "ab"
      ],
      "execution_count": null,
      "outputs": []
    },
    {
      "cell_type": "markdown",
      "metadata": {
        "id": "wu6qvBj00Tme"
      },
      "source": [
        "- Knowing the existance of value."
      ]
    },
    {
      "cell_type": "code",
      "metadata": {
        "id": "MhxKUWWT0Y3w"
      },
      "source": [
        "print(ab[\"Name\"] == \"Tokyo\", '\\n\\n') ## tells the existance\n",
        "\n",
        "print(ab[ab[\"Name\"] == \"Tokyo\"]) ## Shows the existance"
      ],
      "execution_count": null,
      "outputs": []
    },
    {
      "cell_type": "markdown",
      "metadata": {
        "id": "KmUJAQJu1S68"
      },
      "source": [
        "- Deleting the dublicate `df.drop_duplicates(column_name)`\n",
        "  - it'll delete the whole row.\n"
      ]
    },
    {
      "cell_type": "code",
      "metadata": {
        "id": "El4M0nAB1lUd"
      },
      "source": [
        "ab = ab.drop_duplicates(['Name'])"
      ],
      "execution_count": null,
      "outputs": []
    },
    {
      "cell_type": "markdown",
      "metadata": {
        "id": "jZlrXRUe2f3M"
      },
      "source": [
        "- Sorting values `df.sort_values(column_name)` it can sort numerically as well alphabatically.\n",
        "\n"
      ]
    },
    {
      "cell_type": "code",
      "metadata": {
        "id": "8TBAzmjj2m4M"
      },
      "source": [
        "ab_sort_aplha = ab.sort_values('Name')"
      ],
      "execution_count": null,
      "outputs": []
    },
    {
      "cell_type": "markdown",
      "metadata": {
        "id": "LhsRqKSq3oJt"
      },
      "source": [
        "- renaming columns `df.rename(columns = {\"Name\": \"Emp_name\"})`"
      ]
    },
    {
      "cell_type": "code",
      "metadata": {
        "id": "s06XmYPY3yRw"
      },
      "source": [
        "ab_sort_aplha.rename(columns={\"Name\":\"Emp_Name\" , \"Age\": \"Emp_Age\"})"
      ],
      "execution_count": null,
      "outputs": []
    },
    {
      "cell_type": "markdown",
      "metadata": {
        "id": "pQ70sB7E4fUh"
      },
      "source": [
        "- Other functions\n",
        "  - `df.sum()` to find the sum of values\n",
        "  - `df.mean()` to find the mean of values\n",
        "  - `df.median()` to find the median of the values\n",
        "  -`df.mode()` to find the mode of the values\n",
        "  - `df.std()` to find the standard deviation of the values\n",
        "  - `df.min()` to find the minimum value from the all values\n",
        "  - `df.max()` to find the maximum value from the all values"
      ]
    },
    {
      "cell_type": "markdown",
      "metadata": {
        "id": "G_NxILbY2LUK"
      },
      "source": [
        "- `pd.merge` Merges df column wise, here `on=\"Name\"` means we are looking for Name in both the df."
      ]
    },
    {
      "cell_type": "code",
      "metadata": {
        "colab": {
          "base_uri": "https://localhost:8080/",
          "height": 142
        },
        "id": "-9mnHMZL2Y1b",
        "outputId": "14dc1042-f110-45e6-ca58-df60e66c4819"
      },
      "source": [
        "di1 = {\"Name\":[\"Rahul\" , \"Sham\" , \"Ram\"], \"Age\": [12,23,45]}\n",
        "df1 = pd.DataFrame(di1)\n",
        "\n",
        "di2 = {\"Course\": [\"Machine Learning\", \"Data Science\" , 'MLops'], 'Name': [\"Rahul\" , \"Sham\" , \"Ram\"], \"Year\":[2020,2017,2015]}\n",
        "df2 = pd.DataFrame(di2)\n",
        "\n",
        "df = pd.merge(df1, df2 , on='Name', how=\"inner\" )\n",
        "df"
      ],
      "execution_count": 40,
      "outputs": [
        {
          "output_type": "execute_result",
          "data": {
            "text/html": [
              "<div>\n",
              "<style scoped>\n",
              "    .dataframe tbody tr th:only-of-type {\n",
              "        vertical-align: middle;\n",
              "    }\n",
              "\n",
              "    .dataframe tbody tr th {\n",
              "        vertical-align: top;\n",
              "    }\n",
              "\n",
              "    .dataframe thead th {\n",
              "        text-align: right;\n",
              "    }\n",
              "</style>\n",
              "<table border=\"1\" class=\"dataframe\">\n",
              "  <thead>\n",
              "    <tr style=\"text-align: right;\">\n",
              "      <th></th>\n",
              "      <th>Name</th>\n",
              "      <th>Age</th>\n",
              "      <th>Course</th>\n",
              "      <th>Year</th>\n",
              "    </tr>\n",
              "  </thead>\n",
              "  <tbody>\n",
              "    <tr>\n",
              "      <th>0</th>\n",
              "      <td>Rahul</td>\n",
              "      <td>12</td>\n",
              "      <td>Machine Learning</td>\n",
              "      <td>2020</td>\n",
              "    </tr>\n",
              "    <tr>\n",
              "      <th>1</th>\n",
              "      <td>Sham</td>\n",
              "      <td>23</td>\n",
              "      <td>Data Science</td>\n",
              "      <td>2017</td>\n",
              "    </tr>\n",
              "    <tr>\n",
              "      <th>2</th>\n",
              "      <td>Ram</td>\n",
              "      <td>45</td>\n",
              "      <td>MLops</td>\n",
              "      <td>2015</td>\n",
              "    </tr>\n",
              "  </tbody>\n",
              "</table>\n",
              "</div>"
            ],
            "text/plain": [
              "    Name  Age            Course  Year\n",
              "0  Rahul   12  Machine Learning  2020\n",
              "1   Sham   23      Data Science  2017\n",
              "2    Ram   45             MLops  2015"
            ]
          },
          "metadata": {
            "tags": []
          },
          "execution_count": 40
        }
      ]
    },
    {
      "cell_type": "code",
      "metadata": {
        "colab": {
          "base_uri": "https://localhost:8080/",
          "height": 142
        },
        "id": "K4MW7xgQ2sv1",
        "outputId": "d0d41a6b-de01-4c5f-b374-2c2aaa997312"
      },
      "source": [
        "## Doing changes in df\n",
        "df.rename(columns={\"Name\": \"Student_Name\"})\n",
        "df.iloc[0,0] = 'Virat'\n",
        "df"
      ],
      "execution_count": 33,
      "outputs": [
        {
          "output_type": "execute_result",
          "data": {
            "text/html": [
              "<div>\n",
              "<style scoped>\n",
              "    .dataframe tbody tr th:only-of-type {\n",
              "        vertical-align: middle;\n",
              "    }\n",
              "\n",
              "    .dataframe tbody tr th {\n",
              "        vertical-align: top;\n",
              "    }\n",
              "\n",
              "    .dataframe thead th {\n",
              "        text-align: right;\n",
              "    }\n",
              "</style>\n",
              "<table border=\"1\" class=\"dataframe\">\n",
              "  <thead>\n",
              "    <tr style=\"text-align: right;\">\n",
              "      <th></th>\n",
              "      <th>Name</th>\n",
              "      <th>Age</th>\n",
              "      <th>Course</th>\n",
              "      <th>Year</th>\n",
              "    </tr>\n",
              "  </thead>\n",
              "  <tbody>\n",
              "    <tr>\n",
              "      <th>0</th>\n",
              "      <td>Virat</td>\n",
              "      <td>12</td>\n",
              "      <td>Machine Learning</td>\n",
              "      <td>2020</td>\n",
              "    </tr>\n",
              "    <tr>\n",
              "      <th>1</th>\n",
              "      <td>Sham</td>\n",
              "      <td>23</td>\n",
              "      <td>Data Science</td>\n",
              "      <td>2017</td>\n",
              "    </tr>\n",
              "    <tr>\n",
              "      <th>2</th>\n",
              "      <td>Ram</td>\n",
              "      <td>45</td>\n",
              "      <td>MLops</td>\n",
              "      <td>2015</td>\n",
              "    </tr>\n",
              "  </tbody>\n",
              "</table>\n",
              "</div>"
            ],
            "text/plain": [
              "    Name  Age            Course  Year\n",
              "0  Virat   12  Machine Learning  2020\n",
              "1   Sham   23      Data Science  2017\n",
              "2    Ram   45             MLops  2015"
            ]
          },
          "metadata": {
            "tags": []
          },
          "execution_count": 33
        }
      ]
    },
    {
      "cell_type": "markdown",
      "metadata": {
        "id": "whvqW6qB6_GK"
      },
      "source": [
        "## Data Cleaning"
      ]
    },
    {
      "cell_type": "code",
      "metadata": {
        "colab": {
          "base_uri": "https://localhost:8080/"
        },
        "id": "MsWvQfph7HCh",
        "outputId": "a77a283d-3531-4c1f-d910-d3a0ffd76a6e"
      },
      "source": [
        "dfs = pd.Series(['Lakshit', '18', 'www.lakshit.io'])\n",
        "dfs.str.capitalize()\n",
        "\n",
        "dfs.str.islower()\n",
        "dfs.str.lower()\n",
        "\n",
        "dfs.str.isupper()\n",
        "dfs.str.upper()\n",
        "\n",
        "dfs.str.isnumeric()\n",
        "\n",
        "dfs.str.swapcase()\n",
        "\n",
        "dfs.str.len()\n",
        "\n",
        "dfs.str.cat(sep=\"_\") # >> Lakshit_18_www.lakshit.io\n",
        "\n",
        "dfs.str.replace(\"www.\" , \"yoyo.\")\n",
        "\n",
        "dfs.str.repeat(2)\n",
        "\n",
        "dfs.str.count(\"w\") # occurence of a letter"
      ],
      "execution_count": 61,
      "outputs": [
        {
          "output_type": "execute_result",
          "data": {
            "text/plain": [
              "0    0\n",
              "1    0\n",
              "2    3\n",
              "dtype: int64"
            ]
          },
          "metadata": {
            "tags": []
          },
          "execution_count": 61
        }
      ]
    },
    {
      "cell_type": "markdown",
      "metadata": {
        "id": "C9kXGrMw-TcM"
      },
      "source": [
        "## Applying funtions to tables\n",
        "- `df.pipe(func_name)` it'll apply to the whole table.\n",
        "- `df.apply(func_name)` it'll apply to each column."
      ]
    },
    {
      "cell_type": "code",
      "metadata": {
        "colab": {
          "base_uri": "https://localhost:8080/"
        },
        "id": "WgdL5oax-wuP",
        "outputId": "154f9bbe-394e-42d8-a8aa-92b0c6bae387"
      },
      "source": [
        "num = np.random.rand(10,4)\n",
        "dfNum = pd.DataFrame(num)\n",
        "print(dfNum,'\\n\\n')\n",
        "\n",
        "def add(a,b):\n",
        "  return a + b\n",
        "\n",
        "dfNum.pipe(type) # >> pandas.core.frame.DataFrame\n",
        "\n",
        "# PIPE\n",
        "print(dfNum.pipe(add,10), '\\n\\n')\n",
        "\n",
        "# Apply\n",
        "dfNum.apply(np.mean)"
      ],
      "execution_count": 70,
      "outputs": [
        {
          "output_type": "stream",
          "text": [
            "          0         1         2         3\n",
            "0  0.003335  0.654678  0.538664  0.248774\n",
            "1  0.213139  0.480437  0.563553  0.306054\n",
            "2  0.395779  0.361534  0.954765  0.935977\n",
            "3  0.465944  0.394300  0.036275  0.088152\n",
            "4  0.603514  0.915837  0.368850  0.443080\n",
            "5  0.045305  0.681098  0.877889  0.395374\n",
            "6  0.848147  0.094486  0.036311  0.024125\n",
            "7  0.477000  0.193999  0.005057  0.898425\n",
            "8  0.349697  0.687879  0.119028  0.770602\n",
            "9  0.071841  0.643406  0.905111  0.105964 \n",
            "\n",
            "\n",
            "           0          1          2          3\n",
            "0  10.003335  10.654678  10.538664  10.248774\n",
            "1  10.213139  10.480437  10.563553  10.306054\n",
            "2  10.395779  10.361534  10.954765  10.935977\n",
            "3  10.465944  10.394300  10.036275  10.088152\n",
            "4  10.603514  10.915837  10.368850  10.443080\n",
            "5  10.045305  10.681098  10.877889  10.395374\n",
            "6  10.848147  10.094486  10.036311  10.024125\n",
            "7  10.477000  10.193999  10.005057  10.898425\n",
            "8  10.349697  10.687879  10.119028  10.770602\n",
            "9  10.071841  10.643406  10.905111  10.105964 \n",
            "\n",
            "\n"
          ],
          "name": "stdout"
        },
        {
          "output_type": "execute_result",
          "data": {
            "text/plain": [
              "0    0.347370\n",
              "1    0.510765\n",
              "2    0.440550\n",
              "3    0.421653\n",
              "dtype: float64"
            ]
          },
          "metadata": {
            "tags": []
          },
          "execution_count": 70
        }
      ]
    },
    {
      "cell_type": "code",
      "metadata": {
        "colab": {
          "base_uri": "https://localhost:8080/",
          "height": 35
        },
        "id": "QKhBaokW-9tE",
        "outputId": "c6a1cce2-ffe8-4de8-c169-8bcf9764b340"
      },
      "source": [
        "import os\n",
        "os.getcwd() # to get the current working directiory\n",
        "# os.chdir(\"dir_name\") # to change the current working directiory\n"
      ],
      "execution_count": 75,
      "outputs": [
        {
          "output_type": "execute_result",
          "data": {
            "application/vnd.google.colaboratory.intrinsic+json": {
              "type": "string"
            },
            "text/plain": [
              "'/content'"
            ]
          },
          "metadata": {
            "tags": []
          },
          "execution_count": 75
        }
      ]
    },
    {
      "cell_type": "code",
      "metadata": {
        "colab": {
          "base_uri": "https://localhost:8080/"
        },
        "id": "hDUdeRKmAQUG",
        "outputId": "a6d2e356-2b1d-4c3f-c2dd-93fe5ab0dbe5"
      },
      "source": [
        "df.dtypes"
      ],
      "execution_count": 78,
      "outputs": [
        {
          "output_type": "execute_result",
          "data": {
            "text/plain": [
              "Name      object\n",
              "Age        int64\n",
              "Course    object\n",
              "Year       int64\n",
              "dtype: object"
            ]
          },
          "metadata": {
            "tags": []
          },
          "execution_count": 78
        }
      ]
    },
    {
      "cell_type": "markdown",
      "metadata": {
        "id": "vfTVqrYBCbew"
      },
      "source": [
        "## Importing csv file"
      ]
    },
    {
      "cell_type": "code",
      "metadata": {
        "id": "eUebAoVTCgVt"
      },
      "source": [
        "df = pd.read_csv(\"sample_data/california_housing_test.csv\" ,header=0, skiprows=[1,2,3,4,5],\\\n",
        "                 names = ['Long', 'Lat', \"house_med_age\", 'Rooms', 'bedrooms','population_','household', \"med_inc\",\"med_val\"])\n"
      ],
      "execution_count": 103,
      "outputs": []
    },
    {
      "cell_type": "markdown",
      "metadata": {
        "id": "jYcskGoBEepq"
      },
      "source": [
        "- here header = 0 is by default you can change header toany other row by putting the row number.\n",
        "- here skiprows will skip the rows which are specified \n",
        "- here names is used to give custom header name\n",
        "- put `header = None` to remove header "
      ]
    },
    {
      "cell_type": "code",
      "metadata": {
        "colab": {
          "base_uri": "https://localhost:8080/",
          "height": 417
        },
        "id": "LMyVBE9hCuqQ",
        "outputId": "00ae6d21-e0f5-47c4-bef3-b7e550259eb5"
      },
      "source": [
        "df"
      ],
      "execution_count": 104,
      "outputs": [
        {
          "output_type": "execute_result",
          "data": {
            "text/html": [
              "<div>\n",
              "<style scoped>\n",
              "    .dataframe tbody tr th:only-of-type {\n",
              "        vertical-align: middle;\n",
              "    }\n",
              "\n",
              "    .dataframe tbody tr th {\n",
              "        vertical-align: top;\n",
              "    }\n",
              "\n",
              "    .dataframe thead th {\n",
              "        text-align: right;\n",
              "    }\n",
              "</style>\n",
              "<table border=\"1\" class=\"dataframe\">\n",
              "  <thead>\n",
              "    <tr style=\"text-align: right;\">\n",
              "      <th></th>\n",
              "      <th>Long</th>\n",
              "      <th>Lat</th>\n",
              "      <th>house_med_age</th>\n",
              "      <th>Rooms</th>\n",
              "      <th>bedrooms</th>\n",
              "      <th>population_</th>\n",
              "      <th>household</th>\n",
              "      <th>med_inc</th>\n",
              "      <th>med_val</th>\n",
              "    </tr>\n",
              "  </thead>\n",
              "  <tbody>\n",
              "    <tr>\n",
              "      <th>0</th>\n",
              "      <td>-119.56</td>\n",
              "      <td>36.51</td>\n",
              "      <td>37.0</td>\n",
              "      <td>1018.0</td>\n",
              "      <td>213.0</td>\n",
              "      <td>663.0</td>\n",
              "      <td>204.0</td>\n",
              "      <td>1.6635</td>\n",
              "      <td>67000.0</td>\n",
              "    </tr>\n",
              "    <tr>\n",
              "      <th>1</th>\n",
              "      <td>-121.43</td>\n",
              "      <td>38.63</td>\n",
              "      <td>43.0</td>\n",
              "      <td>1009.0</td>\n",
              "      <td>225.0</td>\n",
              "      <td>604.0</td>\n",
              "      <td>218.0</td>\n",
              "      <td>1.6641</td>\n",
              "      <td>67000.0</td>\n",
              "    </tr>\n",
              "    <tr>\n",
              "      <th>2</th>\n",
              "      <td>-120.65</td>\n",
              "      <td>35.48</td>\n",
              "      <td>19.0</td>\n",
              "      <td>2310.0</td>\n",
              "      <td>471.0</td>\n",
              "      <td>1341.0</td>\n",
              "      <td>441.0</td>\n",
              "      <td>3.2250</td>\n",
              "      <td>166900.0</td>\n",
              "    </tr>\n",
              "    <tr>\n",
              "      <th>3</th>\n",
              "      <td>-122.84</td>\n",
              "      <td>38.40</td>\n",
              "      <td>15.0</td>\n",
              "      <td>3080.0</td>\n",
              "      <td>617.0</td>\n",
              "      <td>1446.0</td>\n",
              "      <td>599.0</td>\n",
              "      <td>3.6696</td>\n",
              "      <td>194400.0</td>\n",
              "    </tr>\n",
              "    <tr>\n",
              "      <th>4</th>\n",
              "      <td>-118.02</td>\n",
              "      <td>34.08</td>\n",
              "      <td>31.0</td>\n",
              "      <td>2402.0</td>\n",
              "      <td>632.0</td>\n",
              "      <td>2830.0</td>\n",
              "      <td>603.0</td>\n",
              "      <td>2.3333</td>\n",
              "      <td>164200.0</td>\n",
              "    </tr>\n",
              "    <tr>\n",
              "      <th>...</th>\n",
              "      <td>...</td>\n",
              "      <td>...</td>\n",
              "      <td>...</td>\n",
              "      <td>...</td>\n",
              "      <td>...</td>\n",
              "      <td>...</td>\n",
              "      <td>...</td>\n",
              "      <td>...</td>\n",
              "      <td>...</td>\n",
              "    </tr>\n",
              "    <tr>\n",
              "      <th>2990</th>\n",
              "      <td>-119.86</td>\n",
              "      <td>34.42</td>\n",
              "      <td>23.0</td>\n",
              "      <td>1450.0</td>\n",
              "      <td>642.0</td>\n",
              "      <td>1258.0</td>\n",
              "      <td>607.0</td>\n",
              "      <td>1.1790</td>\n",
              "      <td>225000.0</td>\n",
              "    </tr>\n",
              "    <tr>\n",
              "      <th>2991</th>\n",
              "      <td>-118.14</td>\n",
              "      <td>34.06</td>\n",
              "      <td>27.0</td>\n",
              "      <td>5257.0</td>\n",
              "      <td>1082.0</td>\n",
              "      <td>3496.0</td>\n",
              "      <td>1036.0</td>\n",
              "      <td>3.3906</td>\n",
              "      <td>237200.0</td>\n",
              "    </tr>\n",
              "    <tr>\n",
              "      <th>2992</th>\n",
              "      <td>-119.70</td>\n",
              "      <td>36.30</td>\n",
              "      <td>10.0</td>\n",
              "      <td>956.0</td>\n",
              "      <td>201.0</td>\n",
              "      <td>693.0</td>\n",
              "      <td>220.0</td>\n",
              "      <td>2.2895</td>\n",
              "      <td>62000.0</td>\n",
              "    </tr>\n",
              "    <tr>\n",
              "      <th>2993</th>\n",
              "      <td>-117.12</td>\n",
              "      <td>34.10</td>\n",
              "      <td>40.0</td>\n",
              "      <td>96.0</td>\n",
              "      <td>14.0</td>\n",
              "      <td>46.0</td>\n",
              "      <td>14.0</td>\n",
              "      <td>3.2708</td>\n",
              "      <td>162500.0</td>\n",
              "    </tr>\n",
              "    <tr>\n",
              "      <th>2994</th>\n",
              "      <td>-119.63</td>\n",
              "      <td>34.42</td>\n",
              "      <td>42.0</td>\n",
              "      <td>1765.0</td>\n",
              "      <td>263.0</td>\n",
              "      <td>753.0</td>\n",
              "      <td>260.0</td>\n",
              "      <td>8.5608</td>\n",
              "      <td>500001.0</td>\n",
              "    </tr>\n",
              "  </tbody>\n",
              "</table>\n",
              "<p>2995 rows × 9 columns</p>\n",
              "</div>"
            ],
            "text/plain": [
              "        Long    Lat  house_med_age  ...  household  med_inc   med_val\n",
              "0    -119.56  36.51           37.0  ...      204.0   1.6635   67000.0\n",
              "1    -121.43  38.63           43.0  ...      218.0   1.6641   67000.0\n",
              "2    -120.65  35.48           19.0  ...      441.0   3.2250  166900.0\n",
              "3    -122.84  38.40           15.0  ...      599.0   3.6696  194400.0\n",
              "4    -118.02  34.08           31.0  ...      603.0   2.3333  164200.0\n",
              "...      ...    ...            ...  ...        ...      ...       ...\n",
              "2990 -119.86  34.42           23.0  ...      607.0   1.1790  225000.0\n",
              "2991 -118.14  34.06           27.0  ...     1036.0   3.3906  237200.0\n",
              "2992 -119.70  36.30           10.0  ...      220.0   2.2895   62000.0\n",
              "2993 -117.12  34.10           40.0  ...       14.0   3.2708  162500.0\n",
              "2994 -119.63  34.42           42.0  ...      260.0   8.5608  500001.0\n",
              "\n",
              "[2995 rows x 9 columns]"
            ]
          },
          "metadata": {
            "tags": []
          },
          "execution_count": 104
        }
      ]
    },
    {
      "cell_type": "code",
      "metadata": {
        "colab": {
          "base_uri": "https://localhost:8080/"
        },
        "id": "CN2E2IjYCv_g",
        "outputId": "0f6461c1-6a42-4695-f506-337028390fc3"
      },
      "source": [
        "df = pd.read_csv(\"sample_data/california_housing_test.csv\", header= None, prefix=\"Column: \", na_values=[\"na value\"], verbose=True)\n"
      ],
      "execution_count": 112,
      "outputs": [
        {
          "output_type": "stream",
          "text": [
            "Tokenization took: 1.56 ms\n",
            "Type conversion took: 6.00 ms\n",
            "Parser memory cleanup took: 0.01 ms\n"
          ],
          "name": "stdout"
        }
      ]
    },
    {
      "cell_type": "markdown",
      "metadata": {
        "id": "DM__hfH2E0_7"
      },
      "source": [
        "- here `prefix = \"column: \"` is used to add any prefix to the column names i.e Column: 1\n",
        "- `na_values=['na_value']` is used to fill replace the na value with na_value  \n",
        "- We can also use `sep=\";\"` if the seperator is not ',' we have to specify the seperator\n",
        "- `dtype={\"Column: 0\": 'int'}` if you want to change the data type of a column then specify it here.\n",
        "- `verbose=True` is used to get the time it takes to load the file"
      ]
    },
    {
      "cell_type": "code",
      "metadata": {
        "colab": {
          "base_uri": "https://localhost:8080/"
        },
        "id": "DZ5_dFv5EtJy",
        "outputId": "95a2e300-31bc-482c-f9ec-815546c3d315"
      },
      "source": [
        "print(df)\n",
        "df.dtypes"
      ],
      "execution_count": 111,
      "outputs": [
        {
          "output_type": "stream",
          "text": [
            "        Column: 0  Column: 1  ...      Column: 7           Column: 8\n",
            "0       longitude   latitude  ...  median_income  median_house_value\n",
            "1     -122.050000  37.370000  ...       6.608500       344700.000000\n",
            "2     -118.300000  34.260000  ...       3.599000       176500.000000\n",
            "3     -117.810000  33.780000  ...       5.793400       270500.000000\n",
            "4     -118.360000  33.820000  ...       6.135900       330000.000000\n",
            "...           ...        ...  ...            ...                 ...\n",
            "2996  -119.860000  34.420000  ...       1.179000       225000.000000\n",
            "2997  -118.140000  34.060000  ...       3.390600       237200.000000\n",
            "2998  -119.700000  36.300000  ...       2.289500        62000.000000\n",
            "2999  -117.120000  34.100000  ...       3.270800       162500.000000\n",
            "3000  -119.630000  34.420000  ...       8.560800       500001.000000\n",
            "\n",
            "[3001 rows x 9 columns]\n"
          ],
          "name": "stdout"
        },
        {
          "output_type": "execute_result",
          "data": {
            "text/plain": [
              "Column: 0    object\n",
              "Column: 1    object\n",
              "Column: 2    object\n",
              "Column: 3    object\n",
              "Column: 4    object\n",
              "Column: 5    object\n",
              "Column: 6    object\n",
              "Column: 7    object\n",
              "Column: 8    object\n",
              "dtype: object"
            ]
          },
          "metadata": {
            "tags": []
          },
          "execution_count": 111
        }
      ]
    },
    {
      "cell_type": "code",
      "metadata": {
        "id": "koutcfvyEtl1"
      },
      "source": [
        ""
      ],
      "execution_count": null,
      "outputs": []
    }
  ]
}