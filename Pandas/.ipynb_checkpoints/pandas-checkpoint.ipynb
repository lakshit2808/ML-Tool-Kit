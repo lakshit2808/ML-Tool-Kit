{
 "cells": [
  {
   "cell_type": "markdown",
   "metadata": {},
   "source": [
    "<h1>Pandas</h1>\n",
    "Pandas is a opensource python library prividing high performance data manuplation and analysis tools using it's powerful data structures.\n"
   ]
  },
  {
   "cell_type": "code",
   "execution_count": 47,
   "metadata": {},
   "outputs": [],
   "source": [
    "import pandas as pd\n",
    "import numpy as np"
   ]
  },
  {
   "cell_type": "markdown",
   "metadata": {},
   "source": [
    "<h2>Series</h2>\n",
    "Series is a single dimensional data structure with homogenous data type values.<br>\n",
    "Also Series comes with index or are one single column where as list is just a list"
   ]
  },
  {
   "cell_type": "code",
   "execution_count": 48,
   "metadata": {},
   "outputs": [
    {
     "name": "stdout",
     "output_type": "stream",
     "text": [
      "[1, 2, 3]\n"
     ]
    },
    {
     "data": {
      "text/plain": [
       "a    10\n",
       "b    20\n",
       "c    40\n",
       "d    50\n",
       "dtype: int64"
      ]
     },
     "execution_count": 48,
     "metadata": {},
     "output_type": "execute_result"
    }
   ],
   "source": [
    "series = pd.Series([10,20,40,50], index = [\"a\" , \"b\",\"c\", \"d\"])\n",
    "lists = [1,2,3]\n",
    "print(lists)\n",
    "series\n",
    "\n"
   ]
  },
  {
   "cell_type": "markdown",
   "metadata": {},
   "source": [
    "<h1>Dataframe</h1>\n",
    "Two dimensional object with heterogenous data type value."
   ]
  },
  {
   "cell_type": "code",
   "execution_count": 109,
   "metadata": {},
   "outputs": [
    {
     "name": "stdout",
     "output_type": "stream",
     "text": [
      "[['Ravi', 10], ['Ram', 20], ['Raj', 30]]\n"
     ]
    },
    {
     "data": {
      "text/html": [
       "<div>\n",
       "<style scoped>\n",
       "    .dataframe tbody tr th:only-of-type {\n",
       "        vertical-align: middle;\n",
       "    }\n",
       "\n",
       "    .dataframe tbody tr th {\n",
       "        vertical-align: top;\n",
       "    }\n",
       "\n",
       "    .dataframe thead th {\n",
       "        text-align: right;\n",
       "    }\n",
       "</style>\n",
       "<table border=\"1\" class=\"dataframe\">\n",
       "  <thead>\n",
       "    <tr style=\"text-align: right;\">\n",
       "      <th></th>\n",
       "      <th>Name</th>\n",
       "      <th>Age</th>\n",
       "    </tr>\n",
       "  </thead>\n",
       "  <tbody>\n",
       "    <tr>\n",
       "      <th>a</th>\n",
       "      <td>Ravi</td>\n",
       "      <td>10</td>\n",
       "    </tr>\n",
       "    <tr>\n",
       "      <th>b</th>\n",
       "      <td>Ram</td>\n",
       "      <td>20</td>\n",
       "    </tr>\n",
       "    <tr>\n",
       "      <th>c</th>\n",
       "      <td>Raj</td>\n",
       "      <td>30</td>\n",
       "    </tr>\n",
       "  </tbody>\n",
       "</table>\n",
       "</div>"
      ],
      "text/plain": [
       "   Name  Age\n",
       "a  Ravi   10\n",
       "b   Ram   20\n",
       "c   Raj   30"
      ]
     },
     "execution_count": 109,
     "metadata": {},
     "output_type": "execute_result"
    }
   ],
   "source": [
    "listz = [['Ravi' , 10],['Ram' , 20],[\"Raj\", 30]]\n",
    "print(listz)\n",
    "\n",
    "df = pd.DataFrame(listz, columns=['Name', \"Age\"], index=[\"a\", \"b\", 'c'])\n",
    "df"
   ]
  },
  {
   "cell_type": "markdown",
   "metadata": {},
   "source": [
    "<h2>Accessing DataFrame</h2>"
   ]
  },
  {
   "cell_type": "code",
   "execution_count": 110,
   "metadata": {},
   "outputs": [
    {
     "name": "stdout",
     "output_type": "stream",
     "text": [
      "<class 'pandas.core.series.Series'>\n",
      "<class 'pandas.core.frame.DataFrame'>\n"
     ]
    },
    {
     "data": {
      "text/plain": [
       "a    Ravi\n",
       "b     Ram\n",
       "c     Raj\n",
       "Name: Name, dtype: object"
      ]
     },
     "execution_count": 110,
     "metadata": {},
     "output_type": "execute_result"
    }
   ],
   "source": [
    "dfa = df['Name']\n",
    "dfb = df[['Name']]\n",
    "print(type(dfa))\n",
    "print(type(dfb))\n",
    "dfa"
   ]
  },
  {
   "cell_type": "markdown",
   "metadata": {},
   "source": [
    "dfa is a series because we are directly accessing column values, whereas dfb is a DataFrame because we are accessing a total column"
   ]
  },
  {
   "cell_type": "markdown",
   "metadata": {},
   "source": [
    "<h2>Dictionary to DataFrame</h2>"
   ]
  },
  {
   "cell_type": "code",
   "execution_count": 111,
   "metadata": {},
   "outputs": [
    {
     "name": "stdout",
     "output_type": "stream",
     "text": [
      "{'Name': ['Rahul', 'Rio'], 'Age': [20, 40]}\n"
     ]
    },
    {
     "data": {
      "text/html": [
       "<div>\n",
       "<style scoped>\n",
       "    .dataframe tbody tr th:only-of-type {\n",
       "        vertical-align: middle;\n",
       "    }\n",
       "\n",
       "    .dataframe tbody tr th {\n",
       "        vertical-align: top;\n",
       "    }\n",
       "\n",
       "    .dataframe thead th {\n",
       "        text-align: right;\n",
       "    }\n",
       "</style>\n",
       "<table border=\"1\" class=\"dataframe\">\n",
       "  <thead>\n",
       "    <tr style=\"text-align: right;\">\n",
       "      <th></th>\n",
       "      <th>Name</th>\n",
       "      <th>Age</th>\n",
       "    </tr>\n",
       "  </thead>\n",
       "  <tbody>\n",
       "    <tr>\n",
       "      <th>0</th>\n",
       "      <td>Rahul</td>\n",
       "      <td>20</td>\n",
       "    </tr>\n",
       "    <tr>\n",
       "      <th>1</th>\n",
       "      <td>Rio</td>\n",
       "      <td>40</td>\n",
       "    </tr>\n",
       "  </tbody>\n",
       "</table>\n",
       "</div>"
      ],
      "text/plain": [
       "    Name  Age\n",
       "0  Rahul   20\n",
       "1    Rio   40"
      ]
     },
     "execution_count": 111,
     "metadata": {},
     "output_type": "execute_result"
    }
   ],
   "source": [
    "dictz = {\"Name\": [\"Rahul\", 'Rio'], \"Age\" : [20,40]}\n",
    "print(dictz)\n",
    "\n",
    "dfd = pd.DataFrame(dictz)\n",
    "dfd"
   ]
  },
  {
   "cell_type": "markdown",
   "metadata": {},
   "source": [
    "## Array to DataFrame"
   ]
  },
  {
   "cell_type": "code",
   "execution_count": 112,
   "metadata": {},
   "outputs": [
    {
     "name": "stdout",
     "output_type": "stream",
     "text": [
      "[[1 2 3]\n",
      " [5 6 7]]\n",
      "   0  1  2\n",
      "0  1  2  3\n",
      "1  5  6  7\n"
     ]
    },
    {
     "data": {
      "text/plain": [
       "array([[1, 2, 3],\n",
       "       [5, 6, 7]])"
      ]
     },
     "execution_count": 112,
     "metadata": {},
     "output_type": "execute_result"
    }
   ],
   "source": [
    "arr = np.array([[1,2,3] , [5,6,7]])\n",
    "print(arr)\n",
    "\n",
    "dfa = pd.DataFrame(arr)\n",
    "print(dfa)\n",
    "\n",
    "## Now dataframe into array\n",
    "arrd = np.array(dfa)\n",
    "arrd"
   ]
  },
  {
   "cell_type": "markdown",
   "metadata": {},
   "source": [
    "## Range Data\n",
    "\n",
    "Syntax: pd.date_range(date, period , freq)<br>\n",
    "date format: YYYYMMDD<br>\n",
    "period: it is the no of days or months or years<br>\n",
    "frequency(freq): it is the format i.e Month(M), Year(Y), Day(D)"
   ]
  },
  {
   "cell_type": "code",
   "execution_count": 113,
   "metadata": {},
   "outputs": [
    {
     "data": {
      "text/plain": [
       "DatetimeIndex(['2021-12-31 07:45:19.465158', '2022-12-31 07:45:19.465158',\n",
       "               '2023-12-31 07:45:19.465158', '2024-12-31 07:45:19.465158',\n",
       "               '2025-12-31 07:45:19.465158', '2026-12-31 07:45:19.465158',\n",
       "               '2027-12-31 07:45:19.465158', '2028-12-31 07:45:19.465158',\n",
       "               '2029-12-31 07:45:19.465158', '2030-12-31 07:45:19.465158'],\n",
       "              dtype='datetime64[ns]', freq='A-DEC')"
      ]
     },
     "execution_count": 113,
     "metadata": {},
     "output_type": "execute_result"
    }
   ],
   "source": [
    "from datetime import datetime\n",
    "\n",
    "ranges = pd.date_range(start=datetime.now(), periods=10, freq='Y')\n",
    "type(ranges)\n",
    "ranges"
   ]
  },
  {
   "cell_type": "markdown",
   "metadata": {},
   "source": [
    "## Head Tail Func\n",
    "- pd.head() # Returns the first 5 values and to change these 5 values we can pass n in pd.head(3) it will return first 3 values.\n",
    "- pd.tail() # Returns the last 5 values and to change these 5 values we can pass n in pd.tail(3) it will return last 3 values."
   ]
  },
  {
   "cell_type": "code",
   "execution_count": 114,
   "metadata": {},
   "outputs": [
    {
     "name": "stdout",
     "output_type": "stream",
     "text": [
      "[[ 1.35540319e+00  1.45920100e-01  9.21038896e-01 -3.15261509e-01]\n",
      " [-2.05009682e+00 -5.71032547e-01 -1.40546478e-01  4.69941322e-01]\n",
      " [ 2.32544896e-03  1.38591762e+00 -8.27134546e-01 -1.34047138e+00]\n",
      " [ 1.83028973e-01 -3.66375993e-01 -9.79770345e-01 -8.41677055e-01]\n",
      " [-1.78214822e-01  8.39161417e-01  2.17558966e+00 -1.90398143e+00]\n",
      " [-2.76027681e-01 -9.67558622e-01  1.29680585e+00  7.29661241e-03]\n",
      " [-1.30566696e+00 -1.48809801e+00 -7.19796120e-01  2.43102818e+00]\n",
      " [ 4.49101814e-01 -9.88914230e-01  1.65559519e-01 -1.10337024e+00]\n",
      " [-1.00550061e+00 -5.79807864e-01 -1.16727360e+00 -4.52313371e-01]\n",
      " [-3.20510753e+00 -8.96847587e-01 -1.37349902e-01 -2.75454774e-01]]\n",
      "                            Random 1  Random 2  Random 3  Random 4\n",
      "2021-12-31 07:45:19.465158  1.355403  0.145920  0.921039 -0.315262\n",
      "2022-12-31 07:45:19.465158 -2.050097 -0.571033 -0.140546  0.469941\n",
      "2023-12-31 07:45:19.465158  0.002325  1.385918 -0.827135 -1.340471\n",
      "2024-12-31 07:45:19.465158  0.183029 -0.366376 -0.979770 -0.841677\n",
      "2025-12-31 07:45:19.465158 -0.178215  0.839161  2.175590 -1.903981\n",
      "2026-12-31 07:45:19.465158 -0.276028 -0.967559  1.296806  0.007297\n",
      "2027-12-31 07:45:19.465158 -1.305667 -1.488098 -0.719796  2.431028\n",
      "2028-12-31 07:45:19.465158  0.449102 -0.988914  0.165560 -1.103370\n",
      "2029-12-31 07:45:19.465158 -1.005501 -0.579808 -1.167274 -0.452313\n",
      "2030-12-31 07:45:19.465158 -3.205108 -0.896848 -0.137350 -0.275455\n",
      "(10, 4)\n",
      "Index(['Random 1', 'Random 2', 'Random 3', 'Random 4'], dtype='object')\n",
      "<class 'pandas.core.frame.DataFrame'>\n",
      "DatetimeIndex: 10 entries, 2021-12-31 07:45:19.465158 to 2030-12-31 07:45:19.465158\n",
      "Freq: A-DEC\n",
      "Data columns (total 4 columns):\n",
      " #   Column    Non-Null Count  Dtype  \n",
      "---  ------    --------------  -----  \n",
      " 0   Random 1  10 non-null     float64\n",
      " 1   Random 2  10 non-null     float64\n",
      " 2   Random 3  10 non-null     float64\n",
      " 3   Random 4  10 non-null     float64\n",
      "dtypes: float64(4)\n",
      "memory usage: 400.0 bytes\n",
      "None\n",
      "                            Random 1  Random 2  Random 3  Random 4\n",
      "2021-12-31 07:45:19.465158  1.355403  0.145920  0.921039 -0.315262\n",
      "2022-12-31 07:45:19.465158 -2.050097 -0.571033 -0.140546  0.469941\n",
      "2023-12-31 07:45:19.465158  0.002325  1.385918 -0.827135 -1.340471\n",
      "#####\n",
      "                            Random 1  Random 2  Random 3  Random 4\n",
      "2028-12-31 07:45:19.465158  0.449102 -0.988914  0.165560 -1.103370\n",
      "2029-12-31 07:45:19.465158 -1.005501 -0.579808 -1.167274 -0.452313\n",
      "2030-12-31 07:45:19.465158 -3.205108 -0.896848 -0.137350 -0.275455\n"
     ]
    }
   ],
   "source": [
    "# Create Df\n",
    "df = np.random.randn(10,4)\n",
    "print(df)\n",
    "df = pd.DataFrame(df , index = ranges, columns = [\"Random 1\", \"Random 2\", \"Random 3\", \"Random 4\"])\n",
    "print(df)\n",
    "print(df.shape)\n",
    "print(df.columns)\n",
    "print(df.info())\n",
    "print(df.head(3))\n",
    "print(\"#####\")\n",
    "print(df.tail(3))"
   ]
  },
  {
   "cell_type": "markdown",
   "metadata": {},
   "source": [
    "## Null values"
   ]
  },
  {
   "cell_type": "code",
   "execution_count": 115,
   "metadata": {},
   "outputs": [
    {
     "name": "stdout",
     "output_type": "stream",
     "text": [
      "                            Random 1  Random 2  Random 3  Random 4\n",
      "2021-12-31 07:45:19.465158     False     False     False     False\n",
      "2022-12-31 07:45:19.465158     False     False     False     False\n",
      "2023-12-31 07:45:19.465158     False     False     False     False\n",
      "2024-12-31 07:45:19.465158     False     False     False     False\n",
      "2025-12-31 07:45:19.465158     False     False     False     False\n",
      "2026-12-31 07:45:19.465158     False     False     False     False\n",
      "2027-12-31 07:45:19.465158     False     False     False     False\n",
      "2028-12-31 07:45:19.465158     False     False     False     False\n",
      "2029-12-31 07:45:19.465158     False     False     False     False\n",
      "2030-12-31 07:45:19.465158     False     False     False     False\n",
      "Random 1    0\n",
      "Random 2    0\n",
      "Random 3    0\n",
      "Random 4    0\n",
      "dtype: int64\n"
     ]
    },
    {
     "data": {
      "text/html": [
       "<div>\n",
       "<style scoped>\n",
       "    .dataframe tbody tr th:only-of-type {\n",
       "        vertical-align: middle;\n",
       "    }\n",
       "\n",
       "    .dataframe tbody tr th {\n",
       "        vertical-align: top;\n",
       "    }\n",
       "\n",
       "    .dataframe thead th {\n",
       "        text-align: right;\n",
       "    }\n",
       "</style>\n",
       "<table border=\"1\" class=\"dataframe\">\n",
       "  <thead>\n",
       "    <tr style=\"text-align: right;\">\n",
       "      <th></th>\n",
       "      <th>Random 1</th>\n",
       "      <th>Random 2</th>\n",
       "      <th>Random 3</th>\n",
       "      <th>Random 4</th>\n",
       "    </tr>\n",
       "  </thead>\n",
       "  <tbody>\n",
       "    <tr>\n",
       "      <th>2021-12-31 07:45:19.465158</th>\n",
       "      <td>1.355403</td>\n",
       "      <td>0.145920</td>\n",
       "      <td>0.921039</td>\n",
       "      <td>-0.315262</td>\n",
       "    </tr>\n",
       "    <tr>\n",
       "      <th>2022-12-31 07:45:19.465158</th>\n",
       "      <td>-2.050097</td>\n",
       "      <td>-0.571033</td>\n",
       "      <td>-0.140546</td>\n",
       "      <td>0.469941</td>\n",
       "    </tr>\n",
       "    <tr>\n",
       "      <th>2023-12-31 07:45:19.465158</th>\n",
       "      <td>0.002325</td>\n",
       "      <td>1.385918</td>\n",
       "      <td>-0.827135</td>\n",
       "      <td>-1.340471</td>\n",
       "    </tr>\n",
       "    <tr>\n",
       "      <th>2024-12-31 07:45:19.465158</th>\n",
       "      <td>0.183029</td>\n",
       "      <td>-0.366376</td>\n",
       "      <td>-0.979770</td>\n",
       "      <td>-0.841677</td>\n",
       "    </tr>\n",
       "    <tr>\n",
       "      <th>2025-12-31 07:45:19.465158</th>\n",
       "      <td>-0.178215</td>\n",
       "      <td>0.839161</td>\n",
       "      <td>2.175590</td>\n",
       "      <td>-1.903981</td>\n",
       "    </tr>\n",
       "    <tr>\n",
       "      <th>2026-12-31 07:45:19.465158</th>\n",
       "      <td>-0.276028</td>\n",
       "      <td>-0.967559</td>\n",
       "      <td>1.296806</td>\n",
       "      <td>0.007297</td>\n",
       "    </tr>\n",
       "    <tr>\n",
       "      <th>2027-12-31 07:45:19.465158</th>\n",
       "      <td>-1.305667</td>\n",
       "      <td>-1.488098</td>\n",
       "      <td>-0.719796</td>\n",
       "      <td>2.431028</td>\n",
       "    </tr>\n",
       "    <tr>\n",
       "      <th>2028-12-31 07:45:19.465158</th>\n",
       "      <td>0.449102</td>\n",
       "      <td>-0.988914</td>\n",
       "      <td>0.165560</td>\n",
       "      <td>-1.103370</td>\n",
       "    </tr>\n",
       "    <tr>\n",
       "      <th>2029-12-31 07:45:19.465158</th>\n",
       "      <td>-1.005501</td>\n",
       "      <td>-0.579808</td>\n",
       "      <td>-1.167274</td>\n",
       "      <td>-0.452313</td>\n",
       "    </tr>\n",
       "    <tr>\n",
       "      <th>2030-12-31 07:45:19.465158</th>\n",
       "      <td>-3.205108</td>\n",
       "      <td>-0.896848</td>\n",
       "      <td>-0.137350</td>\n",
       "      <td>-0.275455</td>\n",
       "    </tr>\n",
       "  </tbody>\n",
       "</table>\n",
       "</div>"
      ],
      "text/plain": [
       "                            Random 1  Random 2  Random 3  Random 4\n",
       "2021-12-31 07:45:19.465158  1.355403  0.145920  0.921039 -0.315262\n",
       "2022-12-31 07:45:19.465158 -2.050097 -0.571033 -0.140546  0.469941\n",
       "2023-12-31 07:45:19.465158  0.002325  1.385918 -0.827135 -1.340471\n",
       "2024-12-31 07:45:19.465158  0.183029 -0.366376 -0.979770 -0.841677\n",
       "2025-12-31 07:45:19.465158 -0.178215  0.839161  2.175590 -1.903981\n",
       "2026-12-31 07:45:19.465158 -0.276028 -0.967559  1.296806  0.007297\n",
       "2027-12-31 07:45:19.465158 -1.305667 -1.488098 -0.719796  2.431028\n",
       "2028-12-31 07:45:19.465158  0.449102 -0.988914  0.165560 -1.103370\n",
       "2029-12-31 07:45:19.465158 -1.005501 -0.579808 -1.167274 -0.452313\n",
       "2030-12-31 07:45:19.465158 -3.205108 -0.896848 -0.137350 -0.275455"
      ]
     },
     "execution_count": 115,
     "metadata": {},
     "output_type": "execute_result"
    }
   ],
   "source": [
    "print(df.isnull()) # null values are there or not\n",
    "print(df.isnull().sum()) # sum of null values in each column\n",
    "df.dropna() # by default it'll delete the entire row there nan value is present but to delete the column we can use df.dropna(axis=1) by default axis is 0"
   ]
  },
  {
   "cell_type": "markdown",
   "metadata": {},
   "source": [
    "## Values"
   ]
  },
  {
   "cell_type": "code",
   "execution_count": 116,
   "metadata": {},
   "outputs": [
    {
     "name": "stdout",
     "output_type": "stream",
     "text": [
      "Random 1   Random 2   Random 3   Random 4 \n",
      " 1.355403   0.145920   0.921039  -0.315262    1\n",
      " 0.449102  -0.988914   0.165560  -1.103370    1\n",
      " 0.183029  -0.366376  -0.979770  -0.841677    1\n",
      " 0.002325   1.385918  -0.827135  -1.340471    1\n",
      "-0.178215   0.839161   2.175590  -1.903981    1\n",
      "-0.276028  -0.967559   1.296806   0.007297    1\n",
      "-1.005501  -0.579808  -1.167274  -0.452313    1\n",
      "-1.305667  -1.488098  -0.719796   2.431028    1\n",
      "-2.050097  -0.571033  -0.140546   0.469941    1\n",
      "-3.205108  -0.896848  -0.137350  -0.275455    1\n",
      "dtype: int64\n",
      " 1.355403    1\n",
      " 0.183029    1\n",
      " 0.449102    1\n",
      "-3.205108    1\n",
      " 0.002325    1\n",
      "-1.005501    1\n",
      "-0.178215    1\n",
      "-1.305667    1\n",
      "-2.050097    1\n",
      "-0.276028    1\n",
      "Name: Random 1, dtype: int64\n",
      "          Random 1  Random 2  Random 3  Random 4\n",
      "Random 1  1.000000  0.402800  0.275279 -0.391601\n",
      "Random 2  0.402800  1.000000  0.217059 -0.695434\n",
      "Random 3  0.275279  0.217059  1.000000 -0.317311\n",
      "Random 4 -0.391601 -0.695434 -0.317311  1.000000\n"
     ]
    }
   ],
   "source": [
    "print(df.value_counts()) # it'll return the no. of occurence of the data\n",
    "\n",
    "# Same for column\n",
    "print(df['Random 1'].value_counts())\n",
    "print(df.corr()) # to find the relation between adjusent column"
   ]
  },
  {
   "cell_type": "code",
   "execution_count": 118,
   "metadata": {},
   "outputs": [
    {
     "data": {
      "text/html": [
       "<div>\n",
       "<style scoped>\n",
       "    .dataframe tbody tr th:only-of-type {\n",
       "        vertical-align: middle;\n",
       "    }\n",
       "\n",
       "    .dataframe tbody tr th {\n",
       "        vertical-align: top;\n",
       "    }\n",
       "\n",
       "    .dataframe thead th {\n",
       "        text-align: right;\n",
       "    }\n",
       "</style>\n",
       "<table border=\"1\" class=\"dataframe\">\n",
       "  <thead>\n",
       "    <tr style=\"text-align: right;\">\n",
       "      <th></th>\n",
       "      <th>Random 1</th>\n",
       "      <th>Random 2</th>\n",
       "      <th>Random 3</th>\n",
       "      <th>Random 4</th>\n",
       "    </tr>\n",
       "  </thead>\n",
       "  <tbody>\n",
       "    <tr>\n",
       "      <th>count</th>\n",
       "      <td>10.000000</td>\n",
       "      <td>10.000000</td>\n",
       "      <td>10.000000</td>\n",
       "      <td>10.000000</td>\n",
       "    </tr>\n",
       "    <tr>\n",
       "      <th>mean</th>\n",
       "      <td>-0.603075</td>\n",
       "      <td>-0.348764</td>\n",
       "      <td>0.058712</td>\n",
       "      <td>-0.332426</td>\n",
       "    </tr>\n",
       "    <tr>\n",
       "      <th>std</th>\n",
       "      <td>1.322232</td>\n",
       "      <td>0.891894</td>\n",
       "      <td>1.096434</td>\n",
       "      <td>1.190398</td>\n",
       "    </tr>\n",
       "    <tr>\n",
       "      <th>min</th>\n",
       "      <td>-3.205108</td>\n",
       "      <td>-1.488098</td>\n",
       "      <td>-1.167274</td>\n",
       "      <td>-1.903981</td>\n",
       "    </tr>\n",
       "    <tr>\n",
       "      <th>25%</th>\n",
       "      <td>-1.230625</td>\n",
       "      <td>-0.949881</td>\n",
       "      <td>-0.800300</td>\n",
       "      <td>-1.037947</td>\n",
       "    </tr>\n",
       "    <tr>\n",
       "      <th>50%</th>\n",
       "      <td>-0.227121</td>\n",
       "      <td>-0.575420</td>\n",
       "      <td>-0.138948</td>\n",
       "      <td>-0.383787</td>\n",
       "    </tr>\n",
       "    <tr>\n",
       "      <th>75%</th>\n",
       "      <td>0.137853</td>\n",
       "      <td>0.017846</td>\n",
       "      <td>0.732169</td>\n",
       "      <td>-0.063391</td>\n",
       "    </tr>\n",
       "    <tr>\n",
       "      <th>max</th>\n",
       "      <td>1.355403</td>\n",
       "      <td>1.385918</td>\n",
       "      <td>2.175590</td>\n",
       "      <td>2.431028</td>\n",
       "    </tr>\n",
       "  </tbody>\n",
       "</table>\n",
       "</div>"
      ],
      "text/plain": [
       "        Random 1   Random 2   Random 3   Random 4\n",
       "count  10.000000  10.000000  10.000000  10.000000\n",
       "mean   -0.603075  -0.348764   0.058712  -0.332426\n",
       "std     1.322232   0.891894   1.096434   1.190398\n",
       "min    -3.205108  -1.488098  -1.167274  -1.903981\n",
       "25%    -1.230625  -0.949881  -0.800300  -1.037947\n",
       "50%    -0.227121  -0.575420  -0.138948  -0.383787\n",
       "75%     0.137853   0.017846   0.732169  -0.063391\n",
       "max     1.355403   1.385918   2.175590   2.431028"
      ]
     },
     "execution_count": 118,
     "metadata": {},
     "output_type": "execute_result"
    }
   ],
   "source": [
    "df.describe() ## Gives the summary of the columnwise data"
   ]
  },
  {
   "cell_type": "markdown",
   "metadata": {},
   "source": [
    "## Slicing"
   ]
  },
  {
   "cell_type": "code",
   "execution_count": 121,
   "metadata": {},
   "outputs": [
    {
     "data": {
      "text/html": [
       "<div>\n",
       "<style scoped>\n",
       "    .dataframe tbody tr th:only-of-type {\n",
       "        vertical-align: middle;\n",
       "    }\n",
       "\n",
       "    .dataframe tbody tr th {\n",
       "        vertical-align: top;\n",
       "    }\n",
       "\n",
       "    .dataframe thead th {\n",
       "        text-align: right;\n",
       "    }\n",
       "</style>\n",
       "<table border=\"1\" class=\"dataframe\">\n",
       "  <thead>\n",
       "    <tr style=\"text-align: right;\">\n",
       "      <th></th>\n",
       "      <th>Random 1</th>\n",
       "      <th>Random 2</th>\n",
       "      <th>Random 3</th>\n",
       "      <th>Random 4</th>\n",
       "    </tr>\n",
       "  </thead>\n",
       "  <tbody>\n",
       "    <tr>\n",
       "      <th>2021-12-31 07:45:19.465158</th>\n",
       "      <td>1.355403</td>\n",
       "      <td>0.145920</td>\n",
       "      <td>0.921039</td>\n",
       "      <td>-0.315262</td>\n",
       "    </tr>\n",
       "    <tr>\n",
       "      <th>2022-12-31 07:45:19.465158</th>\n",
       "      <td>-2.050097</td>\n",
       "      <td>-0.571033</td>\n",
       "      <td>-0.140546</td>\n",
       "      <td>0.469941</td>\n",
       "    </tr>\n",
       "  </tbody>\n",
       "</table>\n",
       "</div>"
      ],
      "text/plain": [
       "                            Random 1  Random 2  Random 3  Random 4\n",
       "2021-12-31 07:45:19.465158  1.355403  0.145920  0.921039 -0.315262\n",
       "2022-12-31 07:45:19.465158 -2.050097 -0.571033 -0.140546  0.469941"
      ]
     },
     "execution_count": 121,
     "metadata": {},
     "output_type": "execute_result"
    }
   ],
   "source": [
    "df[0:2]"
   ]
  },
  {
   "cell_type": "code",
   "execution_count": null,
   "metadata": {},
   "outputs": [],
   "source": []
  },
  {
   "cell_type": "code",
   "execution_count": null,
   "metadata": {},
   "outputs": [],
   "source": []
  }
 ],
 "metadata": {
  "kernelspec": {
   "display_name": "Python 3",
   "language": "python",
   "name": "python3"
  },
  "language_info": {
   "codemirror_mode": {
    "name": "ipython",
    "version": 3
   },
   "file_extension": ".py",
   "mimetype": "text/x-python",
   "name": "python",
   "nbconvert_exporter": "python",
   "pygments_lexer": "ipython3",
   "version": "3.8.5"
  }
 },
 "nbformat": 4,
 "nbformat_minor": 4
}
