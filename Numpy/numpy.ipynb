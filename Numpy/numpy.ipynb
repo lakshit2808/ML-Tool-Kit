{
  "nbformat": 4,
  "nbformat_minor": 0,
  "metadata": {
    "colab": {
      "name": "numpy.ipynb",
      "provenance": [],
      "collapsed_sections": [],
      "authorship_tag": "ABX9TyM/osybMjyJdEBFx80DNH17",
      "include_colab_link": true
    },
    "kernelspec": {
      "name": "python3",
      "display_name": "Python 3"
    },
    "language_info": {
      "name": "python"
    }
  },
  "cells": [
    {
      "cell_type": "markdown",
      "metadata": {
        "id": "view-in-github",
        "colab_type": "text"
      },
      "source": [
        "<a href=\"https://colab.research.google.com/github/lakshit2808/Machine-Learning-Notes/blob/master/Numpy/numpy.ipynb\" target=\"_parent\"><img src=\"https://colab.research.google.com/assets/colab-badge.svg\" alt=\"Open In Colab\"/></a>"
      ]
    },
    {
      "cell_type": "markdown",
      "metadata": {
        "id": "c6A2k0VG2zAk"
      },
      "source": [
        "# Numpy\n",
        "- It is a library to build multidimensional array\n",
        "\n",
        "## Numpy VS List\n",
        "- Numpy is much Faster than List\n",
        "- It uses less memory than list\n",
        "- No data type checking\n",
        "- It uses contiguous memory where as list don't uses it\n",
        "- One can't do arithmetic operations directly on two or more list but it can be done on array. E.g Array1 * Array2 = New_Array\n",
        "\n",
        "## What can we do with numpy?\n",
        "- Insertion, Deletion, apending, concatnating, and lot more(Just wait for this notebook to end)\n",
        "\n",
        "## Application of Numpy:\n",
        "- Mathematics, It's a great alternative to MATLAB\n",
        "- Plotting\n",
        "- Backend for Pandas, Digital Photographs, Connect4\n",
        "- Machine Learning\n",
        "\n",
        "## Installation \n",
        "`pip install numpy` or `pip3 install numpy` for Mac and Linux\n",
        "<hr>\n",
        "\n",
        "## Basics"
      ]
    },
    {
      "cell_type": "code",
      "metadata": {
        "id": "-R8kNBAZ6Hkk"
      },
      "source": [
        "import numpy as np"
      ],
      "execution_count": 133,
      "outputs": []
    },
    {
      "cell_type": "markdown",
      "metadata": {
        "id": "BDalVTIB65Ub"
      },
      "source": [
        "- 1-D Array"
      ]
    },
    {
      "cell_type": "code",
      "metadata": {
        "colab": {
          "base_uri": "https://localhost:8080/"
        },
        "id": "vnuslBzp6yYs",
        "outputId": "6d196618-f349-47d6-e9c4-957f58e59645"
      },
      "source": [
        "a = np.array([1,2,4,5])\n",
        "a"
      ],
      "execution_count": null,
      "outputs": [
        {
          "output_type": "execute_result",
          "data": {
            "text/plain": [
              "array([1, 2, 4, 5])"
            ]
          },
          "metadata": {
            "tags": []
          },
          "execution_count": 59
        }
      ]
    },
    {
      "cell_type": "markdown",
      "metadata": {
        "id": "abE3Z0PU7del"
      },
      "source": [
        "- 2-D Array"
      ]
    },
    {
      "cell_type": "code",
      "metadata": {
        "colab": {
          "base_uri": "https://localhost:8080/"
        },
        "id": "eMjMn6-Q7crj",
        "outputId": "8ddc4685-e82d-4f5d-b4b5-3d49f654db8e"
      },
      "source": [
        "b = np.array([[1,2,3,4],[5,6,7,8]])\n",
        "b"
      ],
      "execution_count": null,
      "outputs": [
        {
          "output_type": "execute_result",
          "data": {
            "text/plain": [
              "array([[1, 2, 3, 4],\n",
              "       [5, 6, 7, 8]])"
            ]
          },
          "metadata": {
            "tags": []
          },
          "execution_count": 60
        }
      ]
    },
    {
      "cell_type": "markdown",
      "metadata": {
        "id": "L852lWZg_f8L"
      },
      "source": [
        "- 3-D Array"
      ]
    },
    {
      "cell_type": "code",
      "metadata": {
        "colab": {
          "base_uri": "https://localhost:8080/"
        },
        "id": "Jw8daFzl_e1R",
        "outputId": "23533168-3b01-465a-d5b1-89ae551a4751"
      },
      "source": [
        "c = np.array([[[1,2,3],[3,2,1]],[[4,5,6],[6,5,4]],[[7,8,9],[9,8,7]]])\n",
        "c"
      ],
      "execution_count": null,
      "outputs": [
        {
          "output_type": "execute_result",
          "data": {
            "text/plain": [
              "array([[[1, 2, 3],\n",
              "        [3, 2, 1]],\n",
              "\n",
              "       [[4, 5, 6],\n",
              "        [6, 5, 4]],\n",
              "\n",
              "       [[7, 8, 9],\n",
              "        [9, 8, 7]]])"
            ]
          },
          "metadata": {
            "tags": []
          },
          "execution_count": 61
        }
      ]
    },
    {
      "cell_type": "markdown",
      "metadata": {
        "id": "uYzI4ZS37nWO"
      },
      "source": [
        "- Get Dimensions of Array"
      ]
    },
    {
      "cell_type": "code",
      "metadata": {
        "colab": {
          "base_uri": "https://localhost:8080/"
        },
        "id": "3dYVsEmR7jm7",
        "outputId": "24d1de25-4dee-4b10-b829-e100f41177d0"
      },
      "source": [
        "print(a.ndim)\n",
        "print(b.ndim)"
      ],
      "execution_count": null,
      "outputs": [
        {
          "output_type": "stream",
          "text": [
            "1\n",
            "2\n"
          ],
          "name": "stdout"
        }
      ]
    },
    {
      "cell_type": "markdown",
      "metadata": {
        "id": "kx3JY_-X70BK"
      },
      "source": [
        "- Get Shape of Array"
      ]
    },
    {
      "cell_type": "code",
      "metadata": {
        "colab": {
          "base_uri": "https://localhost:8080/"
        },
        "id": "sWkpzwgS7shz",
        "outputId": "39230141-5bbc-4f02-89e5-0d5f051108ac"
      },
      "source": [
        "print(a.shape)\n",
        "print(b.shape)"
      ],
      "execution_count": null,
      "outputs": [
        {
          "output_type": "stream",
          "text": [
            "(4,)\n",
            "(2, 4)\n"
          ],
          "name": "stdout"
        }
      ]
    },
    {
      "cell_type": "markdown",
      "metadata": {
        "id": "0tvAPIhl7-J3"
      },
      "source": [
        "- Knowing the Datatype"
      ]
    },
    {
      "cell_type": "code",
      "metadata": {
        "colab": {
          "base_uri": "https://localhost:8080/"
        },
        "id": "tlF4451K77M7",
        "outputId": "311ae8c1-1992-4899-84a3-a39871c0742b"
      },
      "source": [
        "print(a.dtype)\n",
        "print(b.dtype)"
      ],
      "execution_count": null,
      "outputs": [
        {
          "output_type": "stream",
          "text": [
            "int64\n",
            "int64\n"
          ],
          "name": "stdout"
        }
      ]
    },
    {
      "cell_type": "markdown",
      "metadata": {
        "id": "mLvup9h_8RZ0"
      },
      "source": [
        "- Knowing the memory size\n",
        "- `a.itemsize` returns the size of each element of array\n",
        "- `a.nbytes` returns the size of complete array"
      ]
    },
    {
      "cell_type": "code",
      "metadata": {
        "colab": {
          "base_uri": "https://localhost:8080/"
        },
        "id": "uNYxQd0m8EIf",
        "outputId": "994282a0-8457-4cd4-99c8-bd897415cd99"
      },
      "source": [
        "print(a.itemsize)\n",
        "print(a.nbytes)"
      ],
      "execution_count": null,
      "outputs": [
        {
          "output_type": "stream",
          "text": [
            "8\n",
            "32\n"
          ],
          "name": "stdout"
        }
      ]
    },
    {
      "cell_type": "markdown",
      "metadata": {
        "id": "SogOntx79ehb"
      },
      "source": [
        "## Accessing, Changing specific row, column, and element"
      ]
    },
    {
      "cell_type": "code",
      "metadata": {
        "colab": {
          "base_uri": "https://localhost:8080/"
        },
        "id": "lzdVt8A68WbP",
        "outputId": "139a9b5f-dd4e-46e9-fbde-e841edd17baf"
      },
      "source": [
        "a = np.array([[3,4,5,5,8,2],[1,2,3,4,5,6]])\n",
        "print(a, '\\n')\n",
        "## Accessing Element\n",
        "print(a[1][2])\n",
        "\n",
        "## Accessing Row\n",
        "print(a[1])\n",
        "\n",
        "## Accessing Column\n",
        "print(a[ : , 2], '\\n')\n",
        "\n",
        "## Accessing a particular value\n",
        "print(a[0][[0,3]])"
      ],
      "execution_count": 173,
      "outputs": [
        {
          "output_type": "stream",
          "text": [
            "[[3 4 5 5 8 2]\n",
            " [1 2 3 4 5 6]] \n",
            "\n",
            "3\n",
            "[1 2 3 4 5 6]\n",
            "[5 3] \n",
            "\n",
            "[3 5]\n"
          ],
          "name": "stdout"
        }
      ]
    },
    {
      "cell_type": "code",
      "metadata": {
        "colab": {
          "base_uri": "https://localhost:8080/"
        },
        "id": "1syFk1ey9xfY",
        "outputId": "2fbeda2f-b2ad-47ba-97a0-e93844d9d419"
      },
      "source": [
        "## Changing Element\n",
        "a[0,1] = 10\n",
        "print(a,'\\n')\n",
        "\n",
        "## Changing Row\n",
        "a[0] = [6,5,3,4,7,2]\n",
        "print(a,'\\n')\n",
        "\n",
        "## Changing Column\n",
        "a[:, 0] = [2,3]\n",
        "print(a)"
      ],
      "execution_count": null,
      "outputs": [
        {
          "output_type": "stream",
          "text": [
            "[[ 3 10  5  5  8  2]\n",
            " [ 1  2  3  4  5  6]] \n",
            "\n",
            "[[6 5 3 4 7 2]\n",
            " [1 2 3 4 5 6]] \n",
            "\n",
            "[[2 5 3 4 7 2]\n",
            " [3 2 3 4 5 6]]\n"
          ],
          "name": "stdout"
        }
      ]
    },
    {
      "cell_type": "markdown",
      "metadata": {
        "id": "7KQ3l4yWAU-g"
      },
      "source": [
        "- Accessing Changing in 3-D Array"
      ]
    },
    {
      "cell_type": "code",
      "metadata": {
        "colab": {
          "base_uri": "https://localhost:8080/"
        },
        "id": "d3IgMY8s-fbr",
        "outputId": "42573347-523e-4580-f75b-e3923ce4b072"
      },
      "source": [
        "print(c,\"\\n\\n\")\n",
        "\n",
        "## Accessing Element\n",
        "print(c[1,0,2])\n",
        "\n",
        "## Accessing Row\n",
        "print(c[2,0])\n",
        "\n",
        "## Accessing Column\n",
        "print(c[1,:,1])"
      ],
      "execution_count": null,
      "outputs": [
        {
          "output_type": "stream",
          "text": [
            "[[[1 2 3]\n",
            "  [3 2 1]]\n",
            "\n",
            " [[4 5 6]\n",
            "  [6 5 4]]\n",
            "\n",
            " [[7 8 9]\n",
            "  [9 8 7]]] \n",
            "\n",
            "\n",
            "6\n",
            "[7 8 9]\n",
            "[5 5]\n"
          ],
          "name": "stdout"
        }
      ]
    },
    {
      "cell_type": "code",
      "metadata": {
        "colab": {
          "base_uri": "https://localhost:8080/"
        },
        "id": "Y8t_teejAcHb",
        "outputId": "9bfeda69-995a-45a2-8207-c5d79544daca"
      },
      "source": [
        "## Changing Element\n",
        "c[0,0,2] = 100\n",
        "print(c,'\\n\\n\\n')\n",
        "\n",
        "## Changing Row\n",
        "c[1,0,:] = [10,20,30]\n",
        "print(c,'\\n\\n\\n')\n",
        "\n",
        "## Changing Column\n",
        "c[2,:,1] = [3,3]\n",
        "print(c,'\\n\\n\\n')"
      ],
      "execution_count": null,
      "outputs": [
        {
          "output_type": "stream",
          "text": [
            "[[[  1   2 100]\n",
            "  [  3   2   1]]\n",
            "\n",
            " [[  4   5   6]\n",
            "  [  6   5   4]]\n",
            "\n",
            " [[  7   8   9]\n",
            "  [  9   8   7]]] \n",
            "\n",
            "\n",
            "\n",
            "[[[  1   2 100]\n",
            "  [  3   2   1]]\n",
            "\n",
            " [[ 10  20  30]\n",
            "  [  6   5   4]]\n",
            "\n",
            " [[  7   8   9]\n",
            "  [  9   8   7]]] \n",
            "\n",
            "\n",
            "\n",
            "[[[  1   2 100]\n",
            "  [  3   2   1]]\n",
            "\n",
            " [[ 10  20  30]\n",
            "  [  6   5   4]]\n",
            "\n",
            " [[  7   3   9]\n",
            "  [  9   3   7]]] \n",
            "\n",
            "\n",
            "\n"
          ],
          "name": "stdout"
        }
      ]
    },
    {
      "cell_type": "markdown",
      "metadata": {
        "id": "cmEwXzGFCMVg"
      },
      "source": [
        "## Initalize Different Types of Array\n",
        "- All 0s Matrix\n",
        "  - Here `(2,2)` tells the dimensions of the matrix"
      ]
    },
    {
      "cell_type": "code",
      "metadata": {
        "colab": {
          "base_uri": "https://localhost:8080/"
        },
        "id": "9oB2UGnCBZyN",
        "outputId": "d3960cfe-0705-425a-948f-4246de5863dc"
      },
      "source": [
        "d1 = np.zeros((2,2))\n",
        "d1"
      ],
      "execution_count": null,
      "outputs": [
        {
          "output_type": "execute_result",
          "data": {
            "text/plain": [
              "array([[0., 0.],\n",
              "       [0., 0.]])"
            ]
          },
          "metadata": {
            "tags": []
          },
          "execution_count": 72
        }
      ]
    },
    {
      "cell_type": "markdown",
      "metadata": {
        "id": "WHD68iUHCjIC"
      },
      "source": [
        "- All 1s Matrix\n",
        "  - You may also specify the datatype too `dtype = '**float32**'`"
      ]
    },
    {
      "cell_type": "code",
      "metadata": {
        "colab": {
          "base_uri": "https://localhost:8080/"
        },
        "id": "GbsLBDpTCY4Y",
        "outputId": "e3c429b4-b109-4f66-d070-0ed3c1550b9d"
      },
      "source": [
        "d2 = np.ones((2,3), dtype='int32')\n",
        "d2"
      ],
      "execution_count": null,
      "outputs": [
        {
          "output_type": "execute_result",
          "data": {
            "text/plain": [
              "array([[1, 1, 1],\n",
              "       [1, 1, 1]], dtype=int32)"
            ]
          },
          "metadata": {
            "tags": []
          },
          "execution_count": 73
        }
      ]
    },
    {
      "cell_type": "markdown",
      "metadata": {
        "id": "x9FkUbQACqsq"
      },
      "source": [
        "- Custom number Matrix\n",
        "  - Here `20` is custom number"
      ]
    },
    {
      "cell_type": "code",
      "metadata": {
        "colab": {
          "base_uri": "https://localhost:8080/"
        },
        "id": "6l_HHglyCpRD",
        "outputId": "0da5a39a-c0b0-4b83-f848-2f9e403603f2"
      },
      "source": [
        "d2 = np.full((3,3), 20, dtype='float32')\n",
        "d2"
      ],
      "execution_count": null,
      "outputs": [
        {
          "output_type": "execute_result",
          "data": {
            "text/plain": [
              "array([[20., 20., 20.],\n",
              "       [20., 20., 20.],\n",
              "       [20., 20., 20.]], dtype=float32)"
            ]
          },
          "metadata": {
            "tags": []
          },
          "execution_count": 75
        }
      ]
    },
    {
      "cell_type": "markdown",
      "metadata": {
        "id": "65INvT8RDrSy"
      },
      "source": [
        "- `np.full_like` helps to make an array with dimensions same as any other array but with a custom number."
      ]
    },
    {
      "cell_type": "code",
      "metadata": {
        "colab": {
          "base_uri": "https://localhost:8080/"
        },
        "id": "DFnpcFNQDXxI",
        "outputId": "73624290-9612-4ab0-f435-caf9d512d7c1"
      },
      "source": [
        "d3 = np.full_like(d2, 30)\n",
        "d3"
      ],
      "execution_count": null,
      "outputs": [
        {
          "output_type": "execute_result",
          "data": {
            "text/plain": [
              "array([[30., 30., 30.],\n",
              "       [30., 30., 30.],\n",
              "       [30., 30., 30.]], dtype=float32)"
            ]
          },
          "metadata": {
            "tags": []
          },
          "execution_count": 78
        }
      ]
    },
    {
      "cell_type": "markdown",
      "metadata": {
        "id": "rc3Y0SWIERbw"
      },
      "source": [
        "- Random Array\n",
        "  - Here `(3,3)` are the dimensions\n",
        "  - `random_sample(d3.shape)` will give a random array but with the dimesions like d3"
      ]
    },
    {
      "cell_type": "code",
      "metadata": {
        "colab": {
          "base_uri": "https://localhost:8080/"
        },
        "id": "vPmFLuyWEAzw",
        "outputId": "3bc0f288-2549-4b26-95aa-932949616829"
      },
      "source": [
        "d4 = np.random.rand(3,3)\n",
        "print(d4,'\\n\\n')\n",
        "\n",
        "d5 = np.random.random_sample(d3.shape)\n",
        "print(d5)\n"
      ],
      "execution_count": null,
      "outputs": [
        {
          "output_type": "stream",
          "text": [
            "[[0.12422939 0.13516935 0.26879838]\n",
            " [0.43506147 0.47416247 0.12029659]\n",
            " [0.05069875 0.25953858 0.68642061]] \n",
            "\n",
            "\n",
            "[[0.38263749 0.81382741 0.21135767]\n",
            " [0.83932947 0.27577764 0.89337746]\n",
            " [0.42996201 0.24341893 0.61485042]]\n"
          ],
          "name": "stdout"
        }
      ]
    },
    {
      "cell_type": "markdown",
      "metadata": {
        "id": "qcgNMRSFFjDg"
      },
      "source": [
        "- Random Integer Array\n",
        "  - Here `12,14` is the range of data and `size=(3,3)` are the dimesions, If you put `14` only and remove `12` it'll take a default range of 0 to 14"
      ]
    },
    {
      "cell_type": "code",
      "metadata": {
        "colab": {
          "base_uri": "https://localhost:8080/"
        },
        "id": "9QHKg_XiEZBj",
        "outputId": "dc8085e5-59a5-485f-b067-21a569bbc974"
      },
      "source": [
        "d6 = np.random.randint(12,14, size=(2,3))\n",
        "d6"
      ],
      "execution_count": null,
      "outputs": [
        {
          "output_type": "execute_result",
          "data": {
            "text/plain": [
              "array([[12, 13, 12],\n",
              "       [13, 13, 12]])"
            ]
          },
          "metadata": {
            "tags": []
          },
          "execution_count": 95
        }
      ]
    },
    {
      "cell_type": "markdown",
      "metadata": {
        "id": "JggTgE2VGZGJ"
      },
      "source": [
        "- Identity Matrix"
      ]
    },
    {
      "cell_type": "code",
      "metadata": {
        "colab": {
          "base_uri": "https://localhost:8080/"
        },
        "id": "djXE3k1tFtu4",
        "outputId": "66ee357f-99a9-4f02-e2ba-f5735f5716a5"
      },
      "source": [
        "d7 = np.identity(3)\n",
        "d7"
      ],
      "execution_count": null,
      "outputs": [
        {
          "output_type": "execute_result",
          "data": {
            "text/plain": [
              "array([[1., 0., 0.],\n",
              "       [0., 1., 0.],\n",
              "       [0., 0., 1.]])"
            ]
          },
          "metadata": {
            "tags": []
          },
          "execution_count": 96
        }
      ]
    },
    {
      "cell_type": "markdown",
      "metadata": {
        "id": "r_Jv5ro1GsZL"
      },
      "source": [
        "- Repeating an Array\n",
        "  - Here `d6` is the array for repeating, `3` is the number of times one wants to repeat it, `axis = 0` is an optional parameter to represent the array in vertical form. "
      ]
    },
    {
      "cell_type": "code",
      "metadata": {
        "colab": {
          "base_uri": "https://localhost:8080/"
        },
        "id": "DNMJ4DLRGe4L",
        "outputId": "13f62749-681a-4e35-e794-70e467663cb5"
      },
      "source": [
        "d8 = np.repeat(d6,3, axis =0)\n",
        "d8"
      ],
      "execution_count": null,
      "outputs": [
        {
          "output_type": "execute_result",
          "data": {
            "text/plain": [
              "array([[12, 13, 12],\n",
              "       [12, 13, 12],\n",
              "       [12, 13, 12],\n",
              "       [13, 13, 12],\n",
              "       [13, 13, 12],\n",
              "       [13, 13, 12]])"
            ]
          },
          "metadata": {
            "tags": []
          },
          "execution_count": 97
        }
      ]
    },
    {
      "cell_type": "markdown",
      "metadata": {
        "id": "0ZDeA0MgH9H8"
      },
      "source": [
        "- Merging two Arrays"
      ]
    },
    {
      "cell_type": "code",
      "metadata": {
        "colab": {
          "base_uri": "https://localhost:8080/"
        },
        "id": "XIcfPO0KG4Rs",
        "outputId": "bd4d5300-41ee-4d74-c45d-308a18891a9e"
      },
      "source": [
        "a = np.random.randint(10, size=(3,3))\n",
        "print(a,'\\n\\n')\n",
        "\n",
        "b = np.zeros((2,2))\n",
        "print(b,'\\n\\n')\n",
        "\n",
        "a[1:, 0:2] = b\n",
        "a"
      ],
      "execution_count": null,
      "outputs": [
        {
          "output_type": "stream",
          "text": [
            "[[8 2 2]\n",
            " [9 7 5]\n",
            " [5 9 3]] \n",
            "\n",
            "\n",
            "[[0. 0.]\n",
            " [0. 0.]] \n",
            "\n",
            "\n"
          ],
          "name": "stdout"
        },
        {
          "output_type": "execute_result",
          "data": {
            "text/plain": [
              "array([[8, 2, 2],\n",
              "       [0, 0, 5],\n",
              "       [0, 0, 3]])"
            ]
          },
          "metadata": {
            "tags": []
          },
          "execution_count": 122
        }
      ]
    },
    {
      "cell_type": "markdown",
      "metadata": {
        "id": "EmK97yhPJ54_"
      },
      "source": [
        "- Copying Array"
      ]
    },
    {
      "cell_type": "code",
      "metadata": {
        "colab": {
          "base_uri": "https://localhost:8080/"
        },
        "id": "2VzUc6zIILM3",
        "outputId": "0d4f01eb-bd50-41d1-d4c5-aedc1e8c4d92"
      },
      "source": [
        "b = a.copy()\n",
        "b"
      ],
      "execution_count": null,
      "outputs": [
        {
          "output_type": "execute_result",
          "data": {
            "text/plain": [
              "array([[8, 2, 2],\n",
              "       [0, 0, 5],\n",
              "       [0, 0, 3]])"
            ]
          },
          "metadata": {
            "tags": []
          },
          "execution_count": 124
        }
      ]
    },
    {
      "cell_type": "markdown",
      "metadata": {
        "id": "YqGk3jUjKTK1"
      },
      "source": [
        "## Mathematics with Numpy\n",
        "- Arthematic with constant"
      ]
    },
    {
      "cell_type": "code",
      "metadata": {
        "id": "AdDcwNdnJ-ZV"
      },
      "source": [
        "arr = np.full((2,2), 5)"
      ],
      "execution_count": null,
      "outputs": []
    },
    {
      "cell_type": "markdown",
      "metadata": {
        "id": "Sa9JVugOKv1T"
      },
      "source": [
        "- Addition"
      ]
    },
    {
      "cell_type": "code",
      "metadata": {
        "colab": {
          "base_uri": "https://localhost:8080/"
        },
        "id": "EqaSaxkMKqHi",
        "outputId": "7e53d754-6701-4d27-a0af-4eadfc73cded"
      },
      "source": [
        "arr + 2"
      ],
      "execution_count": null,
      "outputs": [
        {
          "output_type": "execute_result",
          "data": {
            "text/plain": [
              "array([[7, 7],\n",
              "       [7, 7]])"
            ]
          },
          "metadata": {
            "tags": []
          },
          "execution_count": 127
        }
      ]
    },
    {
      "cell_type": "markdown",
      "metadata": {
        "id": "Kwkz_jM4K3Jt"
      },
      "source": [
        "- Subtraction"
      ]
    },
    {
      "cell_type": "code",
      "metadata": {
        "colab": {
          "base_uri": "https://localhost:8080/"
        },
        "id": "sfvbbsMnK1Z1",
        "outputId": "37b866c0-8146-4f3e-b0bf-2c27e72e9358"
      },
      "source": [
        "arr-2"
      ],
      "execution_count": null,
      "outputs": [
        {
          "output_type": "execute_result",
          "data": {
            "text/plain": [
              "array([[3, 3],\n",
              "       [3, 3]])"
            ]
          },
          "metadata": {
            "tags": []
          },
          "execution_count": 128
        }
      ]
    },
    {
      "cell_type": "markdown",
      "metadata": {
        "id": "wxvcnp1EK60E"
      },
      "source": [
        "- Multiplication"
      ]
    },
    {
      "cell_type": "code",
      "metadata": {
        "colab": {
          "base_uri": "https://localhost:8080/"
        },
        "id": "LQPTCSSyK5cA",
        "outputId": "500f3f14-d097-4c64-930b-f81897227107"
      },
      "source": [
        "arr*2"
      ],
      "execution_count": null,
      "outputs": [
        {
          "output_type": "execute_result",
          "data": {
            "text/plain": [
              "array([[10, 10],\n",
              "       [10, 10]])"
            ]
          },
          "metadata": {
            "tags": []
          },
          "execution_count": 129
        }
      ]
    },
    {
      "cell_type": "markdown",
      "metadata": {
        "id": "TMP9jYoRLA2Z"
      },
      "source": [
        "- Divide"
      ]
    },
    {
      "cell_type": "code",
      "metadata": {
        "colab": {
          "base_uri": "https://localhost:8080/"
        },
        "id": "nHbYkC6lK-dh",
        "outputId": "e3454ba5-c5c1-434a-a5a8-f807ebfef3ca"
      },
      "source": [
        "arr / 5"
      ],
      "execution_count": null,
      "outputs": [
        {
          "output_type": "execute_result",
          "data": {
            "text/plain": [
              "array([[1., 1.],\n",
              "       [1., 1.]])"
            ]
          },
          "metadata": {
            "tags": []
          },
          "execution_count": 130
        }
      ]
    },
    {
      "cell_type": "markdown",
      "metadata": {
        "id": "iIbQLMm7LGR9"
      },
      "source": [
        "- Remender"
      ]
    },
    {
      "cell_type": "code",
      "metadata": {
        "colab": {
          "base_uri": "https://localhost:8080/"
        },
        "id": "Uh1RuRNoLESS",
        "outputId": "089ddbab-a5b2-4c88-d100-f2c84e09d855"
      },
      "source": [
        "arr%2"
      ],
      "execution_count": null,
      "outputs": [
        {
          "output_type": "execute_result",
          "data": {
            "text/plain": [
              "array([[1, 1],\n",
              "       [1, 1]])"
            ]
          },
          "metadata": {
            "tags": []
          },
          "execution_count": 131
        }
      ]
    },
    {
      "cell_type": "markdown",
      "metadata": {
        "id": "ud2D7DKaLQfD"
      },
      "source": [
        "- Power"
      ]
    },
    {
      "cell_type": "code",
      "metadata": {
        "colab": {
          "base_uri": "https://localhost:8080/"
        },
        "id": "JPUXGiOqLKv0",
        "outputId": "918cf7f1-ca67-46f8-eeff-3355a9298195"
      },
      "source": [
        "arr**2"
      ],
      "execution_count": null,
      "outputs": [
        {
          "output_type": "execute_result",
          "data": {
            "text/plain": [
              "array([[25, 25],\n",
              "       [25, 25]])"
            ]
          },
          "metadata": {
            "tags": []
          },
          "execution_count": 132
        }
      ]
    },
    {
      "cell_type": "markdown",
      "metadata": {
        "id": "f9nXmx-KLZht"
      },
      "source": [
        "- Trignometry\n",
        "  - Same for cos, tan, and all\n",
        "  - **For Maths** More at https://numpy.org/doc/stable/reference/routines.math.html\n",
        "  - **For Linear Algebra** More at https://numpy.org/doc/stable/reference/routines.linalg.html\n",
        "  - **For Statistics** More at https://numpy.org/doc/stable/reference/routines.statistics.html?highlight=statistics"
      ]
    },
    {
      "cell_type": "code",
      "metadata": {
        "id": "1Z7HPf5ULSYH",
        "colab": {
          "base_uri": "https://localhost:8080/"
        },
        "outputId": "22735b6b-2847-4349-ba1b-0327648ff392"
      },
      "source": [
        "np.sin(arr)"
      ],
      "execution_count": 135,
      "outputs": [
        {
          "output_type": "execute_result",
          "data": {
            "text/plain": [
              "array([[-0.95892427, -0.95892427],\n",
              "       [-0.95892427, -0.95892427]])"
            ]
          },
          "metadata": {
            "tags": []
          },
          "execution_count": 135
        }
      ]
    },
    {
      "cell_type": "markdown",
      "metadata": {
        "id": "m381kihwMLoq"
      },
      "source": [
        "- Arthematic between two arrays\n",
        "  - Note: Dimension of both array must be same for the operation to happen"
      ]
    },
    {
      "cell_type": "code",
      "metadata": {
        "id": "RbzF-POKLeF4",
        "colab": {
          "base_uri": "https://localhost:8080/"
        },
        "outputId": "34d9b0d5-0ecd-4108-9849-2ed5ed645c92"
      },
      "source": [
        "a = np.full((2,2),9)\n",
        "b = np.full((2,2),3)\n",
        "\n",
        "## Addition\n",
        "print(a + b, '\\n\\n')\n",
        "\n",
        "## Subtraction\n",
        "print(a - b, '\\n\\n')\n",
        "\n",
        "## Multiplication\n",
        "print(a * b, '\\n\\n')\n",
        "\n",
        "## Divide\n",
        "print(a / b, '\\n\\n')\n",
        "\n",
        "## Remender\n",
        "print(a % b, '\\n\\n')\n",
        "\n",
        "## Power\n",
        "print(a ** b, '\\n\\n')"
      ],
      "execution_count": 147,
      "outputs": [
        {
          "output_type": "stream",
          "text": [
            "[[12 12]\n",
            " [12 12]] \n",
            "\n",
            "\n",
            "[[6 6]\n",
            " [6 6]] \n",
            "\n",
            "\n",
            "[[27 27]\n",
            " [27 27]] \n",
            "\n",
            "\n",
            "[[3. 3.]\n",
            " [3. 3.]] \n",
            "\n",
            "\n",
            "[[0 0]\n",
            " [0 0]] \n",
            "\n",
            "\n",
            "[[729 729]\n",
            " [729 729]] \n",
            "\n",
            "\n"
          ],
          "name": "stdout"
        }
      ]
    },
    {
      "cell_type": "markdown",
      "metadata": {
        "id": "-N5IqJ6CO248"
      },
      "source": [
        "## Reorganizing Array"
      ]
    },
    {
      "cell_type": "markdown",
      "metadata": {
        "id": "4dqC24JDPO9P"
      },
      "source": [
        "- Reshape"
      ]
    },
    {
      "cell_type": "code",
      "metadata": {
        "colab": {
          "base_uri": "https://localhost:8080/"
        },
        "id": "58a5FCzMMY9r",
        "outputId": "ac62616c-6358-4ef6-9637-633e994d61f4"
      },
      "source": [
        "arr = np.random.randint(10, size=(3,3))\n",
        "arr.reshape(1,9)"
      ],
      "execution_count": 152,
      "outputs": [
        {
          "output_type": "execute_result",
          "data": {
            "text/plain": [
              "array([[4, 8, 7, 3, 0, 6, 7, 4, 3]])"
            ]
          },
          "metadata": {
            "tags": []
          },
          "execution_count": 152
        }
      ]
    },
    {
      "cell_type": "markdown",
      "metadata": {
        "id": "qcZy_8I8PlO8"
      },
      "source": [
        "- Vertical Stacking vectors"
      ]
    },
    {
      "cell_type": "code",
      "metadata": {
        "colab": {
          "base_uri": "https://localhost:8080/"
        },
        "id": "s5jw-6_DO9Db",
        "outputId": "02eb84c2-40be-4bc9-989a-e413a077d4ca"
      },
      "source": [
        "arr1 = np.ones((1,5))\n",
        "arr2 = np.zeros((1,5))\n",
        "\n",
        "arr = np.vstack((arr1,arr2))\n",
        "arr\n"
      ],
      "execution_count": 157,
      "outputs": [
        {
          "output_type": "execute_result",
          "data": {
            "text/plain": [
              "array([[1., 1., 1., 1., 1.],\n",
              "       [0., 0., 0., 0., 0.]])"
            ]
          },
          "metadata": {
            "tags": []
          },
          "execution_count": 157
        }
      ]
    },
    {
      "cell_type": "markdown",
      "metadata": {
        "id": "CR61dpM4QC08"
      },
      "source": [
        "- Hosizontal Stacking Vector"
      ]
    },
    {
      "cell_type": "code",
      "metadata": {
        "colab": {
          "base_uri": "https://localhost:8080/"
        },
        "id": "WBZeR4eWPvXs",
        "outputId": "bac9b7f8-8fc7-4cbe-a447-3a965694aa68"
      },
      "source": [
        "arr1 = np.ones((1,5))\n",
        "arr2 = np.zeros((1,5))\n",
        "\n",
        "arr = np.hstack((arr1,arr2))\n",
        "arr"
      ],
      "execution_count": 158,
      "outputs": [
        {
          "output_type": "execute_result",
          "data": {
            "text/plain": [
              "array([[1., 1., 1., 1., 1., 0., 0., 0., 0., 0.]])"
            ]
          },
          "metadata": {
            "tags": []
          },
          "execution_count": 158
        }
      ]
    },
    {
      "cell_type": "markdown",
      "metadata": {
        "id": "JLi1TjDDQjgs"
      },
      "source": [
        "## Loading Data from File\n",
        "- Here `delimiter`  is the sign which is used to seperate data in the file\n",
        "- `astype` is used to convert the datatype"
      ]
    },
    {
      "cell_type": "code",
      "metadata": {
        "colab": {
          "base_uri": "https://localhost:8080/"
        },
        "id": "-A5lVaz4QHfm",
        "outputId": "2f4244fe-fb8e-45d4-d123-4029b5cccd61"
      },
      "source": [
        "data = np.genfromtxt('/content/sample_data/california_housing_test.csv', delimiter=',')\n",
        "data = data.astype('int32')\n",
        "data"
      ],
      "execution_count": 162,
      "outputs": [
        {
          "output_type": "execute_result",
          "data": {
            "text/plain": [
              "array([[-2147483648, -2147483648, -2147483648, ..., -2147483648,\n",
              "        -2147483648, -2147483648],\n",
              "       [       -122,          37,          27, ...,         606,\n",
              "                  6,      344700],\n",
              "       [       -118,          34,          43, ...,         277,\n",
              "                  3,      176500],\n",
              "       ...,\n",
              "       [       -119,          36,          10, ...,         220,\n",
              "                  2,       62000],\n",
              "       [       -117,          34,          40, ...,          14,\n",
              "                  3,      162500],\n",
              "       [       -119,          34,          42, ...,         260,\n",
              "                  8,      500001]], dtype=int32)"
            ]
          },
          "metadata": {
            "tags": []
          },
          "execution_count": 162
        }
      ]
    },
    {
      "cell_type": "markdown",
      "metadata": {
        "id": "L0x7yd5fRh4g"
      },
      "source": [
        "## Boolean Masking and Advance Indexing"
      ]
    },
    {
      "cell_type": "code",
      "metadata": {
        "colab": {
          "base_uri": "https://localhost:8080/"
        },
        "id": "RHW2yld4Qviv",
        "outputId": "692499e7-84ad-4492-e03a-a89df5cdce11"
      },
      "source": [
        "data > 50"
      ],
      "execution_count": 164,
      "outputs": [
        {
          "output_type": "execute_result",
          "data": {
            "text/plain": [
              "array([[False, False, False, ..., False, False, False],\n",
              "       [False, False, False, ...,  True, False,  True],\n",
              "       [False, False, False, ...,  True, False,  True],\n",
              "       ...,\n",
              "       [False, False, False, ...,  True, False,  True],\n",
              "       [False, False, False, ..., False, False,  True],\n",
              "       [False, False, False, ...,  True, False,  True]])"
            ]
          },
          "metadata": {
            "tags": []
          },
          "execution_count": 164
        }
      ]
    },
    {
      "cell_type": "code",
      "metadata": {
        "colab": {
          "base_uri": "https://localhost:8080/"
        },
        "id": "94gErQpJReOp",
        "outputId": "0a8551e5-7086-4897-a046-a6554cb97fc0"
      },
      "source": [
        "data[data > 50]"
      ],
      "execution_count": 167,
      "outputs": [
        {
          "output_type": "execute_result",
          "data": {
            "text/plain": [
              "array([  3885,    661,   1537, ...,    753,    260, 500001], dtype=int32)"
            ]
          },
          "metadata": {
            "tags": []
          },
          "execution_count": 167
        }
      ]
    },
    {
      "cell_type": "markdown",
      "metadata": {
        "id": "ocpruvQIS6PZ"
      },
      "source": [
        "- `np.any` checks if in column/row any of the value is greater then a given number, `axis=1` for row\n"
      ]
    },
    {
      "cell_type": "code",
      "metadata": {
        "colab": {
          "base_uri": "https://localhost:8080/"
        },
        "id": "uTpCQMgpRuIe",
        "outputId": "5aab4d77-7f2c-40cb-d3d9-2efdf6fe7349"
      },
      "source": [
        "np.any(data > 50,axis =0)"
      ],
      "execution_count": 175,
      "outputs": [
        {
          "output_type": "execute_result",
          "data": {
            "text/plain": [
              "array([False, False,  True,  True,  True,  True,  True, False,  True])"
            ]
          },
          "metadata": {
            "tags": []
          },
          "execution_count": 175
        }
      ]
    },
    {
      "cell_type": "markdown",
      "metadata": {
        "id": "crJz2NSHTDUZ"
      },
      "source": [
        "- `np.all` checks if all the values in column/row is greater then a given number "
      ]
    },
    {
      "cell_type": "code",
      "metadata": {
        "colab": {
          "base_uri": "https://localhost:8080/"
        },
        "id": "xznUdxi0S1fJ",
        "outputId": "38700d36-a554-4b63-e579-4e1d7e9ec4fe"
      },
      "source": [
        "np.all(data > 50,axis =0)"
      ],
      "execution_count": 176,
      "outputs": [
        {
          "output_type": "execute_result",
          "data": {
            "text/plain": [
              "array([False, False, False, False, False, False, False, False, False])"
            ]
          },
          "metadata": {
            "tags": []
          },
          "execution_count": 176
        }
      ]
    },
    {
      "cell_type": "markdown",
      "metadata": {
        "id": "StvlkJdnTtOZ"
      },
      "source": [
        "- If data between 50 ad 100 exists or not"
      ]
    },
    {
      "cell_type": "code",
      "metadata": {
        "colab": {
          "base_uri": "https://localhost:8080/"
        },
        "id": "LO47Tk7iTSsN",
        "outputId": "8548b7dd-efe8-4415-e11b-14dcc568fe2e"
      },
      "source": [
        "((data > 50) & (data < 100))"
      ],
      "execution_count": 178,
      "outputs": [
        {
          "output_type": "execute_result",
          "data": {
            "text/plain": [
              "array([[False, False, False, ..., False, False, False],\n",
              "       [False, False, False, ..., False, False, False],\n",
              "       [False, False, False, ..., False, False, False],\n",
              "       ...,\n",
              "       [False, False, False, ..., False, False, False],\n",
              "       [False, False, False, ..., False, False, False],\n",
              "       [False, False, False, ..., False, False, False]])"
            ]
          },
          "metadata": {
            "tags": []
          },
          "execution_count": 178
        }
      ]
    },
    {
      "cell_type": "markdown",
      "metadata": {
        "id": "7wkVvmpGT4Ib"
      },
      "source": [
        "- Not between 50 and 100"
      ]
    },
    {
      "cell_type": "code",
      "metadata": {
        "colab": {
          "base_uri": "https://localhost:8080/"
        },
        "id": "cmWG-Fk-TqOm",
        "outputId": "61d4de84-ebf4-42ea-a864-eae378048546"
      },
      "source": [
        "(~((data > 50) & (data < 100)))"
      ],
      "execution_count": 180,
      "outputs": [
        {
          "output_type": "execute_result",
          "data": {
            "text/plain": [
              "array([[ True,  True,  True, ...,  True,  True,  True],\n",
              "       [ True,  True,  True, ...,  True,  True,  True],\n",
              "       [ True,  True,  True, ...,  True,  True,  True],\n",
              "       ...,\n",
              "       [ True,  True,  True, ...,  True,  True,  True],\n",
              "       [ True,  True,  True, ...,  True,  True,  True],\n",
              "       [ True,  True,  True, ...,  True,  True,  True]])"
            ]
          },
          "metadata": {
            "tags": []
          },
          "execution_count": 180
        }
      ]
    },
    {
      "cell_type": "code",
      "metadata": {
        "id": "B4uSt4PDT2S_"
      },
      "source": [
        ""
      ],
      "execution_count": null,
      "outputs": []
    }
  ]
}