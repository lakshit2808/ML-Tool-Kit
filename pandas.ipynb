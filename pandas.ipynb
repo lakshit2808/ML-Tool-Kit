{
  "nbformat": 4,
  "nbformat_minor": 0,
  "metadata": {
    "kernelspec": {
      "display_name": "Python 3",
      "language": "python",
      "name": "python3"
    },
    "language_info": {
      "codemirror_mode": {
        "name": "ipython",
        "version": 3
      },
      "file_extension": ".py",
      "mimetype": "text/x-python",
      "name": "python",
      "nbconvert_exporter": "python",
      "pygments_lexer": "ipython3",
      "version": "3.8.5"
    },
    "colab": {
      "name": "pandas.ipynb",
      "provenance": [],
      "collapsed_sections": [],
      "include_colab_link": true
    }
  },
  "cells": [
    {
      "cell_type": "markdown",
      "metadata": {
        "id": "view-in-github",
        "colab_type": "text"
      },
      "source": [
        "<a href=\"https://colab.research.google.com/github/lakshit2808/Machine-Learning-Notes/blob/master/pandas.ipynb\" target=\"_parent\"><img src=\"https://colab.research.google.com/assets/colab-badge.svg\" alt=\"Open In Colab\"/></a>"
      ]
    },
    {
      "cell_type": "markdown",
      "metadata": {
        "id": "leViS5sdlLtr"
      },
      "source": [
        "<h1>Pandas</h1>\n",
        "Pandas is a opensource python library prividing high performance data manuplation and analysis tools using it's powerful data structures.\n"
      ]
    },
    {
      "cell_type": "code",
      "metadata": {
        "id": "rUCOx4qmlLtt"
      },
      "source": [
        "import pandas as pd\n",
        "import numpy as np"
      ],
      "execution_count": 2,
      "outputs": []
    },
    {
      "cell_type": "markdown",
      "metadata": {
        "id": "Y83fjdzUlLtt"
      },
      "source": [
        "<h2>Series</h2>\n",
        "Series is a single dimensional data structure with homogenous data type values.<br>\n",
        "Also Series comes with index or are one single column where as list is just a list"
      ]
    },
    {
      "cell_type": "code",
      "metadata": {
        "id": "40vf1FcClLtu",
        "colab": {
          "base_uri": "https://localhost:8080/"
        },
        "outputId": "bec25c7e-042b-450c-de3b-c92ca5486ea7"
      },
      "source": [
        "series = pd.Series([10,20,40,50], index = [\"a\" , \"b\",\"c\", \"d\"])\n",
        "lists = [1,2,3]\n",
        "print(lists)\n",
        "series\n",
        "\n"
      ],
      "execution_count": 3,
      "outputs": [
        {
          "output_type": "stream",
          "text": [
            "[1, 2, 3]\n"
          ],
          "name": "stdout"
        },
        {
          "output_type": "execute_result",
          "data": {
            "text/plain": [
              "a    10\n",
              "b    20\n",
              "c    40\n",
              "d    50\n",
              "dtype: int64"
            ]
          },
          "metadata": {
            "tags": []
          },
          "execution_count": 3
        }
      ]
    },
    {
      "cell_type": "markdown",
      "metadata": {
        "id": "-iBgANAwlLtv"
      },
      "source": [
        "<h1>Dataframe</h1>\n",
        "Two dimensional object with heterogenous data type value."
      ]
    },
    {
      "cell_type": "code",
      "metadata": {
        "id": "PQWKp4VclLtw",
        "colab": {
          "base_uri": "https://localhost:8080/",
          "height": 159
        },
        "outputId": "04121f2f-3e9b-4a43-c899-27d8f72e10bf"
      },
      "source": [
        "listz = [['Ravi' , 10],['Ram' , 20],[\"Raj\", 30]]\n",
        "print(listz)\n",
        "\n",
        "df = pd.DataFrame(listz, columns=['Name', \"Age\"], index=[\"a\", \"b\", 'c'])\n",
        "df"
      ],
      "execution_count": 4,
      "outputs": [
        {
          "output_type": "stream",
          "text": [
            "[['Ravi', 10], ['Ram', 20], ['Raj', 30]]\n"
          ],
          "name": "stdout"
        },
        {
          "output_type": "execute_result",
          "data": {
            "text/html": [
              "<div>\n",
              "<style scoped>\n",
              "    .dataframe tbody tr th:only-of-type {\n",
              "        vertical-align: middle;\n",
              "    }\n",
              "\n",
              "    .dataframe tbody tr th {\n",
              "        vertical-align: top;\n",
              "    }\n",
              "\n",
              "    .dataframe thead th {\n",
              "        text-align: right;\n",
              "    }\n",
              "</style>\n",
              "<table border=\"1\" class=\"dataframe\">\n",
              "  <thead>\n",
              "    <tr style=\"text-align: right;\">\n",
              "      <th></th>\n",
              "      <th>Name</th>\n",
              "      <th>Age</th>\n",
              "    </tr>\n",
              "  </thead>\n",
              "  <tbody>\n",
              "    <tr>\n",
              "      <th>a</th>\n",
              "      <td>Ravi</td>\n",
              "      <td>10</td>\n",
              "    </tr>\n",
              "    <tr>\n",
              "      <th>b</th>\n",
              "      <td>Ram</td>\n",
              "      <td>20</td>\n",
              "    </tr>\n",
              "    <tr>\n",
              "      <th>c</th>\n",
              "      <td>Raj</td>\n",
              "      <td>30</td>\n",
              "    </tr>\n",
              "  </tbody>\n",
              "</table>\n",
              "</div>"
            ],
            "text/plain": [
              "   Name  Age\n",
              "a  Ravi   10\n",
              "b   Ram   20\n",
              "c   Raj   30"
            ]
          },
          "metadata": {
            "tags": []
          },
          "execution_count": 4
        }
      ]
    },
    {
      "cell_type": "markdown",
      "metadata": {
        "id": "ZRcYhY9ulLtw"
      },
      "source": [
        "<h2>Accessing DataFrame</h2>"
      ]
    },
    {
      "cell_type": "code",
      "metadata": {
        "id": "gdMcH7oPlLtx",
        "colab": {
          "base_uri": "https://localhost:8080/"
        },
        "outputId": "7e16b4cc-68fa-479d-a1d4-d0b2ac0f59aa"
      },
      "source": [
        "dfa = df['Name']\n",
        "dfb = df[['Name']]\n",
        "print(type(dfa))\n",
        "print(type(dfb))\n",
        "dfa"
      ],
      "execution_count": 5,
      "outputs": [
        {
          "output_type": "stream",
          "text": [
            "<class 'pandas.core.series.Series'>\n",
            "<class 'pandas.core.frame.DataFrame'>\n"
          ],
          "name": "stdout"
        },
        {
          "output_type": "execute_result",
          "data": {
            "text/plain": [
              "a    Ravi\n",
              "b     Ram\n",
              "c     Raj\n",
              "Name: Name, dtype: object"
            ]
          },
          "metadata": {
            "tags": []
          },
          "execution_count": 5
        }
      ]
    },
    {
      "cell_type": "markdown",
      "metadata": {
        "id": "xaDimmDRlLtx"
      },
      "source": [
        "dfa is a series because we are directly accessing column values, whereas dfb is a DataFrame because we are accessing a total column"
      ]
    },
    {
      "cell_type": "markdown",
      "metadata": {
        "id": "pUVpbPzMlLty"
      },
      "source": [
        "<h2>Dictionary to DataFrame</h2>"
      ]
    },
    {
      "cell_type": "code",
      "metadata": {
        "id": "CbJhAydBlLty",
        "colab": {
          "base_uri": "https://localhost:8080/",
          "height": 128
        },
        "outputId": "19403b9b-621c-4e84-ed71-edfe0bd7803d"
      },
      "source": [
        "dictz = {\"Name\": [\"Rahul\", 'Rio'], \"Age\" : [20,40]}\n",
        "print(dictz)\n",
        "\n",
        "dfd = pd.DataFrame(dictz)\n",
        "dfd"
      ],
      "execution_count": 6,
      "outputs": [
        {
          "output_type": "stream",
          "text": [
            "{'Name': ['Rahul', 'Rio'], 'Age': [20, 40]}\n"
          ],
          "name": "stdout"
        },
        {
          "output_type": "execute_result",
          "data": {
            "text/html": [
              "<div>\n",
              "<style scoped>\n",
              "    .dataframe tbody tr th:only-of-type {\n",
              "        vertical-align: middle;\n",
              "    }\n",
              "\n",
              "    .dataframe tbody tr th {\n",
              "        vertical-align: top;\n",
              "    }\n",
              "\n",
              "    .dataframe thead th {\n",
              "        text-align: right;\n",
              "    }\n",
              "</style>\n",
              "<table border=\"1\" class=\"dataframe\">\n",
              "  <thead>\n",
              "    <tr style=\"text-align: right;\">\n",
              "      <th></th>\n",
              "      <th>Name</th>\n",
              "      <th>Age</th>\n",
              "    </tr>\n",
              "  </thead>\n",
              "  <tbody>\n",
              "    <tr>\n",
              "      <th>0</th>\n",
              "      <td>Rahul</td>\n",
              "      <td>20</td>\n",
              "    </tr>\n",
              "    <tr>\n",
              "      <th>1</th>\n",
              "      <td>Rio</td>\n",
              "      <td>40</td>\n",
              "    </tr>\n",
              "  </tbody>\n",
              "</table>\n",
              "</div>"
            ],
            "text/plain": [
              "    Name  Age\n",
              "0  Rahul   20\n",
              "1    Rio   40"
            ]
          },
          "metadata": {
            "tags": []
          },
          "execution_count": 6
        }
      ]
    },
    {
      "cell_type": "markdown",
      "metadata": {
        "id": "-2kudejllLtz"
      },
      "source": [
        "## Array to DataFrame"
      ]
    },
    {
      "cell_type": "code",
      "metadata": {
        "id": "QeRzVa-blLtz",
        "colab": {
          "base_uri": "https://localhost:8080/"
        },
        "outputId": "2837e2c4-f5fb-4efa-f81a-e0762ff9cdc6"
      },
      "source": [
        "arr = np.array([[1,2,3] , [5,6,7]])\n",
        "print(arr)\n",
        "\n",
        "dfa = pd.DataFrame(arr)\n",
        "print(dfa)\n",
        "\n",
        "## Now dataframe into array\n",
        "arrd = np.array(dfa)\n",
        "arrd"
      ],
      "execution_count": 7,
      "outputs": [
        {
          "output_type": "stream",
          "text": [
            "[[1 2 3]\n",
            " [5 6 7]]\n",
            "   0  1  2\n",
            "0  1  2  3\n",
            "1  5  6  7\n"
          ],
          "name": "stdout"
        },
        {
          "output_type": "execute_result",
          "data": {
            "text/plain": [
              "array([[1, 2, 3],\n",
              "       [5, 6, 7]])"
            ]
          },
          "metadata": {
            "tags": []
          },
          "execution_count": 7
        }
      ]
    },
    {
      "cell_type": "markdown",
      "metadata": {
        "id": "Mly8dHJmlLtz"
      },
      "source": [
        "## Range Data\n",
        "\n",
        "Syntax: pd.date_range(date, period , freq)<br>\n",
        "date format: YYYYMMDD<br>\n",
        "period: it is the no of days or months or years<br>\n",
        "frequency(freq): it is the format i.e Month(M), Year(Y), Day(D)"
      ]
    },
    {
      "cell_type": "code",
      "metadata": {
        "id": "ORx4ETENlLt0",
        "colab": {
          "base_uri": "https://localhost:8080/"
        },
        "outputId": "2f4c9909-436e-4b32-810c-08fe991cab63"
      },
      "source": [
        "from datetime import datetime\n",
        "\n",
        "ranges = pd.date_range(start=datetime.now(), periods=10, freq='Y')\n",
        "type(ranges)\n",
        "ranges"
      ],
      "execution_count": 8,
      "outputs": [
        {
          "output_type": "execute_result",
          "data": {
            "text/plain": [
              "DatetimeIndex(['2021-12-31 01:49:18.893933', '2022-12-31 01:49:18.893933',\n",
              "               '2023-12-31 01:49:18.893933', '2024-12-31 01:49:18.893933',\n",
              "               '2025-12-31 01:49:18.893933', '2026-12-31 01:49:18.893933',\n",
              "               '2027-12-31 01:49:18.893933', '2028-12-31 01:49:18.893933',\n",
              "               '2029-12-31 01:49:18.893933', '2030-12-31 01:49:18.893933'],\n",
              "              dtype='datetime64[ns]', freq='A-DEC')"
            ]
          },
          "metadata": {
            "tags": []
          },
          "execution_count": 8
        }
      ]
    },
    {
      "cell_type": "markdown",
      "metadata": {
        "id": "FRi833u2lLt0"
      },
      "source": [
        "## Head Tail Func\n",
        "- pd.head() # Returns the first 5 values and to change these 5 values we can pass n in pd.head(3) it will return first 3 values.\n",
        "- pd.tail() # Returns the last 5 values and to change these 5 values we can pass n in pd.tail(3) it will return last 3 values."
      ]
    },
    {
      "cell_type": "code",
      "metadata": {
        "id": "bn3-sdtKlLt0",
        "colab": {
          "base_uri": "https://localhost:8080/"
        },
        "outputId": "c611cf07-cfbf-4767-e620-1e8a0336387d"
      },
      "source": [
        "# Create Df\n",
        "df = np.random.randn(10,4)\n",
        "print(df)\n",
        "df = pd.DataFrame(df , index = ranges, columns = [\"Random 1\", \"Random 2\", \"Random 3\", \"Random 4\"])\n",
        "print(df)\n",
        "print(df.shape)\n",
        "print(df.columns)\n",
        "print(df.info())\n",
        "print(df.head(3))\n",
        "print(\"#####\")\n",
        "print(df.tail(3))"
      ],
      "execution_count": 9,
      "outputs": [
        {
          "output_type": "stream",
          "text": [
            "[[-1.38298131  0.02404788  1.35825343 -0.745622  ]\n",
            " [ 1.41350605 -0.88746797  0.68184189 -0.38715781]\n",
            " [-0.25249418 -1.11714603  0.21687026  1.14296467]\n",
            " [-1.14513523  0.61876946 -0.92652884 -0.63957972]\n",
            " [ 0.67305248  1.19992034 -0.85272386 -0.23429196]\n",
            " [-0.1819319   2.13948672  0.27335711  1.90863015]\n",
            " [ 1.34613787 -0.34223781 -0.50346852  1.41693512]\n",
            " [-0.00693004 -0.20604805 -0.63220105  0.79379967]\n",
            " [-0.17920824  1.13177641 -1.09948005  0.51391719]\n",
            " [ 0.25235028 -0.6322879   0.8690657   0.60613505]]\n",
            "                            Random 1  Random 2  Random 3  Random 4\n",
            "2021-12-31 01:49:18.893933 -1.382981  0.024048  1.358253 -0.745622\n",
            "2022-12-31 01:49:18.893933  1.413506 -0.887468  0.681842 -0.387158\n",
            "2023-12-31 01:49:18.893933 -0.252494 -1.117146  0.216870  1.142965\n",
            "2024-12-31 01:49:18.893933 -1.145135  0.618769 -0.926529 -0.639580\n",
            "2025-12-31 01:49:18.893933  0.673052  1.199920 -0.852724 -0.234292\n",
            "2026-12-31 01:49:18.893933 -0.181932  2.139487  0.273357  1.908630\n",
            "2027-12-31 01:49:18.893933  1.346138 -0.342238 -0.503469  1.416935\n",
            "2028-12-31 01:49:18.893933 -0.006930 -0.206048 -0.632201  0.793800\n",
            "2029-12-31 01:49:18.893933 -0.179208  1.131776 -1.099480  0.513917\n",
            "2030-12-31 01:49:18.893933  0.252350 -0.632288  0.869066  0.606135\n",
            "(10, 4)\n",
            "Index(['Random 1', 'Random 2', 'Random 3', 'Random 4'], dtype='object')\n",
            "<class 'pandas.core.frame.DataFrame'>\n",
            "DatetimeIndex: 10 entries, 2021-12-31 01:49:18.893933 to 2030-12-31 01:49:18.893933\n",
            "Freq: A-DEC\n",
            "Data columns (total 4 columns):\n",
            " #   Column    Non-Null Count  Dtype  \n",
            "---  ------    --------------  -----  \n",
            " 0   Random 1  10 non-null     float64\n",
            " 1   Random 2  10 non-null     float64\n",
            " 2   Random 3  10 non-null     float64\n",
            " 3   Random 4  10 non-null     float64\n",
            "dtypes: float64(4)\n",
            "memory usage: 400.0 bytes\n",
            "None\n",
            "                            Random 1  Random 2  Random 3  Random 4\n",
            "2021-12-31 01:49:18.893933 -1.382981  0.024048  1.358253 -0.745622\n",
            "2022-12-31 01:49:18.893933  1.413506 -0.887468  0.681842 -0.387158\n",
            "2023-12-31 01:49:18.893933 -0.252494 -1.117146  0.216870  1.142965\n",
            "#####\n",
            "                            Random 1  Random 2  Random 3  Random 4\n",
            "2028-12-31 01:49:18.893933 -0.006930 -0.206048 -0.632201  0.793800\n",
            "2029-12-31 01:49:18.893933 -0.179208  1.131776 -1.099480  0.513917\n",
            "2030-12-31 01:49:18.893933  0.252350 -0.632288  0.869066  0.606135\n"
          ],
          "name": "stdout"
        }
      ]
    },
    {
      "cell_type": "markdown",
      "metadata": {
        "id": "g2Y9wbavlLt1"
      },
      "source": [
        "## Null values"
      ]
    },
    {
      "cell_type": "code",
      "metadata": {
        "id": "RJMa2kCzlLt1",
        "colab": {
          "base_uri": "https://localhost:8080/",
          "height": 631
        },
        "outputId": "e9ece75a-c2d9-4cc7-cdcc-301fb576b0ff"
      },
      "source": [
        "print(df.isnull()) # null values are there or not\n",
        "print(df.isnull().sum()) # sum of null values in each column\n",
        "df.dropna() # by default it'll delete the entire row there nan value is present but to delete the column we can use df.dropna(axis=1) by default axis is 0"
      ],
      "execution_count": 10,
      "outputs": [
        {
          "output_type": "stream",
          "text": [
            "                            Random 1  Random 2  Random 3  Random 4\n",
            "2021-12-31 01:49:18.893933     False     False     False     False\n",
            "2022-12-31 01:49:18.893933     False     False     False     False\n",
            "2023-12-31 01:49:18.893933     False     False     False     False\n",
            "2024-12-31 01:49:18.893933     False     False     False     False\n",
            "2025-12-31 01:49:18.893933     False     False     False     False\n",
            "2026-12-31 01:49:18.893933     False     False     False     False\n",
            "2027-12-31 01:49:18.893933     False     False     False     False\n",
            "2028-12-31 01:49:18.893933     False     False     False     False\n",
            "2029-12-31 01:49:18.893933     False     False     False     False\n",
            "2030-12-31 01:49:18.893933     False     False     False     False\n",
            "Random 1    0\n",
            "Random 2    0\n",
            "Random 3    0\n",
            "Random 4    0\n",
            "dtype: int64\n"
          ],
          "name": "stdout"
        },
        {
          "output_type": "execute_result",
          "data": {
            "text/html": [
              "<div>\n",
              "<style scoped>\n",
              "    .dataframe tbody tr th:only-of-type {\n",
              "        vertical-align: middle;\n",
              "    }\n",
              "\n",
              "    .dataframe tbody tr th {\n",
              "        vertical-align: top;\n",
              "    }\n",
              "\n",
              "    .dataframe thead th {\n",
              "        text-align: right;\n",
              "    }\n",
              "</style>\n",
              "<table border=\"1\" class=\"dataframe\">\n",
              "  <thead>\n",
              "    <tr style=\"text-align: right;\">\n",
              "      <th></th>\n",
              "      <th>Random 1</th>\n",
              "      <th>Random 2</th>\n",
              "      <th>Random 3</th>\n",
              "      <th>Random 4</th>\n",
              "    </tr>\n",
              "  </thead>\n",
              "  <tbody>\n",
              "    <tr>\n",
              "      <th>2021-12-31 01:49:18.893933</th>\n",
              "      <td>-1.382981</td>\n",
              "      <td>0.024048</td>\n",
              "      <td>1.358253</td>\n",
              "      <td>-0.745622</td>\n",
              "    </tr>\n",
              "    <tr>\n",
              "      <th>2022-12-31 01:49:18.893933</th>\n",
              "      <td>1.413506</td>\n",
              "      <td>-0.887468</td>\n",
              "      <td>0.681842</td>\n",
              "      <td>-0.387158</td>\n",
              "    </tr>\n",
              "    <tr>\n",
              "      <th>2023-12-31 01:49:18.893933</th>\n",
              "      <td>-0.252494</td>\n",
              "      <td>-1.117146</td>\n",
              "      <td>0.216870</td>\n",
              "      <td>1.142965</td>\n",
              "    </tr>\n",
              "    <tr>\n",
              "      <th>2024-12-31 01:49:18.893933</th>\n",
              "      <td>-1.145135</td>\n",
              "      <td>0.618769</td>\n",
              "      <td>-0.926529</td>\n",
              "      <td>-0.639580</td>\n",
              "    </tr>\n",
              "    <tr>\n",
              "      <th>2025-12-31 01:49:18.893933</th>\n",
              "      <td>0.673052</td>\n",
              "      <td>1.199920</td>\n",
              "      <td>-0.852724</td>\n",
              "      <td>-0.234292</td>\n",
              "    </tr>\n",
              "    <tr>\n",
              "      <th>2026-12-31 01:49:18.893933</th>\n",
              "      <td>-0.181932</td>\n",
              "      <td>2.139487</td>\n",
              "      <td>0.273357</td>\n",
              "      <td>1.908630</td>\n",
              "    </tr>\n",
              "    <tr>\n",
              "      <th>2027-12-31 01:49:18.893933</th>\n",
              "      <td>1.346138</td>\n",
              "      <td>-0.342238</td>\n",
              "      <td>-0.503469</td>\n",
              "      <td>1.416935</td>\n",
              "    </tr>\n",
              "    <tr>\n",
              "      <th>2028-12-31 01:49:18.893933</th>\n",
              "      <td>-0.006930</td>\n",
              "      <td>-0.206048</td>\n",
              "      <td>-0.632201</td>\n",
              "      <td>0.793800</td>\n",
              "    </tr>\n",
              "    <tr>\n",
              "      <th>2029-12-31 01:49:18.893933</th>\n",
              "      <td>-0.179208</td>\n",
              "      <td>1.131776</td>\n",
              "      <td>-1.099480</td>\n",
              "      <td>0.513917</td>\n",
              "    </tr>\n",
              "    <tr>\n",
              "      <th>2030-12-31 01:49:18.893933</th>\n",
              "      <td>0.252350</td>\n",
              "      <td>-0.632288</td>\n",
              "      <td>0.869066</td>\n",
              "      <td>0.606135</td>\n",
              "    </tr>\n",
              "  </tbody>\n",
              "</table>\n",
              "</div>"
            ],
            "text/plain": [
              "                            Random 1  Random 2  Random 3  Random 4\n",
              "2021-12-31 01:49:18.893933 -1.382981  0.024048  1.358253 -0.745622\n",
              "2022-12-31 01:49:18.893933  1.413506 -0.887468  0.681842 -0.387158\n",
              "2023-12-31 01:49:18.893933 -0.252494 -1.117146  0.216870  1.142965\n",
              "2024-12-31 01:49:18.893933 -1.145135  0.618769 -0.926529 -0.639580\n",
              "2025-12-31 01:49:18.893933  0.673052  1.199920 -0.852724 -0.234292\n",
              "2026-12-31 01:49:18.893933 -0.181932  2.139487  0.273357  1.908630\n",
              "2027-12-31 01:49:18.893933  1.346138 -0.342238 -0.503469  1.416935\n",
              "2028-12-31 01:49:18.893933 -0.006930 -0.206048 -0.632201  0.793800\n",
              "2029-12-31 01:49:18.893933 -0.179208  1.131776 -1.099480  0.513917\n",
              "2030-12-31 01:49:18.893933  0.252350 -0.632288  0.869066  0.606135"
            ]
          },
          "metadata": {
            "tags": []
          },
          "execution_count": 10
        }
      ]
    },
    {
      "cell_type": "markdown",
      "metadata": {
        "id": "C_F4DCUIlLt1"
      },
      "source": [
        "## Values"
      ]
    },
    {
      "cell_type": "code",
      "metadata": {
        "id": "1QAsGm1ylLt2",
        "colab": {
          "base_uri": "https://localhost:8080/"
        },
        "outputId": "680a229a-2d53-45cb-eb8f-df3003e01f80"
      },
      "source": [
        "print(df.value_counts()) # it'll return the no. of occurence of the data\n",
        "\n",
        "# Same for column\n",
        "print(df['Random 1'].value_counts())\n",
        "print(df.corr()) # to find the relation between adjusent column"
      ],
      "execution_count": 11,
      "outputs": [
        {
          "output_type": "stream",
          "text": [
            "Random 1   Random 2   Random 3   Random 4 \n",
            " 1.413506  -0.887468   0.681842  -0.387158    1\n",
            " 1.346138  -0.342238  -0.503469   1.416935    1\n",
            " 0.673052   1.199920  -0.852724  -0.234292    1\n",
            " 0.252350  -0.632288   0.869066   0.606135    1\n",
            "-0.006930  -0.206048  -0.632201   0.793800    1\n",
            "-0.179208   1.131776  -1.099480   0.513917    1\n",
            "-0.181932   2.139487   0.273357   1.908630    1\n",
            "-0.252494  -1.117146   0.216870   1.142965    1\n",
            "-1.145135   0.618769  -0.926529  -0.639580    1\n",
            "-1.382981   0.024048   1.358253  -0.745622    1\n",
            "dtype: int64\n",
            " 0.252350    1\n",
            " 1.346138    1\n",
            " 0.673052    1\n",
            "-0.006930    1\n",
            "-1.382981    1\n",
            "-0.181932    1\n",
            "-1.145135    1\n",
            "-0.179208    1\n",
            " 1.413506    1\n",
            "-0.252494    1\n",
            "Name: Random 1, dtype: int64\n",
            "          Random 1  Random 2  Random 3  Random 4\n",
            "Random 1  1.000000 -0.255130 -0.106428  0.284438\n",
            "Random 2 -0.255130  1.000000 -0.395773  0.134978\n",
            "Random 3 -0.106428 -0.395773  1.000000 -0.099569\n",
            "Random 4  0.284438  0.134978 -0.099569  1.000000\n"
          ],
          "name": "stdout"
        }
      ]
    },
    {
      "cell_type": "code",
      "metadata": {
        "id": "rB9-kZUIlLt2",
        "colab": {
          "base_uri": "https://localhost:8080/",
          "height": 297
        },
        "outputId": "a78389f9-61af-4fdc-b703-62a87c4c6760"
      },
      "source": [
        "df.describe() ## Gives the summary of the columnwise data"
      ],
      "execution_count": 12,
      "outputs": [
        {
          "output_type": "execute_result",
          "data": {
            "text/html": [
              "<div>\n",
              "<style scoped>\n",
              "    .dataframe tbody tr th:only-of-type {\n",
              "        vertical-align: middle;\n",
              "    }\n",
              "\n",
              "    .dataframe tbody tr th {\n",
              "        vertical-align: top;\n",
              "    }\n",
              "\n",
              "    .dataframe thead th {\n",
              "        text-align: right;\n",
              "    }\n",
              "</style>\n",
              "<table border=\"1\" class=\"dataframe\">\n",
              "  <thead>\n",
              "    <tr style=\"text-align: right;\">\n",
              "      <th></th>\n",
              "      <th>Random 1</th>\n",
              "      <th>Random 2</th>\n",
              "      <th>Random 3</th>\n",
              "      <th>Random 4</th>\n",
              "    </tr>\n",
              "  </thead>\n",
              "  <tbody>\n",
              "    <tr>\n",
              "      <th>count</th>\n",
              "      <td>10.000000</td>\n",
              "      <td>10.000000</td>\n",
              "      <td>10.000000</td>\n",
              "      <td>10.000000</td>\n",
              "    </tr>\n",
              "    <tr>\n",
              "      <th>mean</th>\n",
              "      <td>0.053637</td>\n",
              "      <td>0.192881</td>\n",
              "      <td>-0.061501</td>\n",
              "      <td>0.437573</td>\n",
              "    </tr>\n",
              "    <tr>\n",
              "      <th>std</th>\n",
              "      <td>0.922014</td>\n",
              "      <td>1.049049</td>\n",
              "      <td>0.856127</td>\n",
              "      <td>0.911267</td>\n",
              "    </tr>\n",
              "    <tr>\n",
              "      <th>min</th>\n",
              "      <td>-1.382981</td>\n",
              "      <td>-1.117146</td>\n",
              "      <td>-1.099480</td>\n",
              "      <td>-0.745622</td>\n",
              "    </tr>\n",
              "    <tr>\n",
              "      <th>25%</th>\n",
              "      <td>-0.234854</td>\n",
              "      <td>-0.559775</td>\n",
              "      <td>-0.797593</td>\n",
              "      <td>-0.348941</td>\n",
              "    </tr>\n",
              "    <tr>\n",
              "      <th>50%</th>\n",
              "      <td>-0.093069</td>\n",
              "      <td>-0.091000</td>\n",
              "      <td>-0.143299</td>\n",
              "      <td>0.560026</td>\n",
              "    </tr>\n",
              "    <tr>\n",
              "      <th>75%</th>\n",
              "      <td>0.567877</td>\n",
              "      <td>1.003525</td>\n",
              "      <td>0.579721</td>\n",
              "      <td>1.055673</td>\n",
              "    </tr>\n",
              "    <tr>\n",
              "      <th>max</th>\n",
              "      <td>1.413506</td>\n",
              "      <td>2.139487</td>\n",
              "      <td>1.358253</td>\n",
              "      <td>1.908630</td>\n",
              "    </tr>\n",
              "  </tbody>\n",
              "</table>\n",
              "</div>"
            ],
            "text/plain": [
              "        Random 1   Random 2   Random 3   Random 4\n",
              "count  10.000000  10.000000  10.000000  10.000000\n",
              "mean    0.053637   0.192881  -0.061501   0.437573\n",
              "std     0.922014   1.049049   0.856127   0.911267\n",
              "min    -1.382981  -1.117146  -1.099480  -0.745622\n",
              "25%    -0.234854  -0.559775  -0.797593  -0.348941\n",
              "50%    -0.093069  -0.091000  -0.143299   0.560026\n",
              "75%     0.567877   1.003525   0.579721   1.055673\n",
              "max     1.413506   2.139487   1.358253   1.908630"
            ]
          },
          "metadata": {
            "tags": []
          },
          "execution_count": 12
        }
      ]
    },
    {
      "cell_type": "markdown",
      "metadata": {
        "id": "8qOpXE-NlLt2"
      },
      "source": [
        "## Slicing"
      ]
    },
    {
      "cell_type": "code",
      "metadata": {
        "id": "dyEd6YhXlLt3",
        "colab": {
          "base_uri": "https://localhost:8080/",
          "height": 111
        },
        "outputId": "6c8d6933-d5e5-4277-c418-2d4e4702ad38"
      },
      "source": [
        "df[0:2]"
      ],
      "execution_count": 13,
      "outputs": [
        {
          "output_type": "execute_result",
          "data": {
            "text/html": [
              "<div>\n",
              "<style scoped>\n",
              "    .dataframe tbody tr th:only-of-type {\n",
              "        vertical-align: middle;\n",
              "    }\n",
              "\n",
              "    .dataframe tbody tr th {\n",
              "        vertical-align: top;\n",
              "    }\n",
              "\n",
              "    .dataframe thead th {\n",
              "        text-align: right;\n",
              "    }\n",
              "</style>\n",
              "<table border=\"1\" class=\"dataframe\">\n",
              "  <thead>\n",
              "    <tr style=\"text-align: right;\">\n",
              "      <th></th>\n",
              "      <th>Random 1</th>\n",
              "      <th>Random 2</th>\n",
              "      <th>Random 3</th>\n",
              "      <th>Random 4</th>\n",
              "    </tr>\n",
              "  </thead>\n",
              "  <tbody>\n",
              "    <tr>\n",
              "      <th>2021-12-31 01:49:18.893933</th>\n",
              "      <td>-1.382981</td>\n",
              "      <td>0.024048</td>\n",
              "      <td>1.358253</td>\n",
              "      <td>-0.745622</td>\n",
              "    </tr>\n",
              "    <tr>\n",
              "      <th>2022-12-31 01:49:18.893933</th>\n",
              "      <td>1.413506</td>\n",
              "      <td>-0.887468</td>\n",
              "      <td>0.681842</td>\n",
              "      <td>-0.387158</td>\n",
              "    </tr>\n",
              "  </tbody>\n",
              "</table>\n",
              "</div>"
            ],
            "text/plain": [
              "                            Random 1  Random 2  Random 3  Random 4\n",
              "2021-12-31 01:49:18.893933 -1.382981  0.024048  1.358253 -0.745622\n",
              "2022-12-31 01:49:18.893933  1.413506 -0.887468  0.681842 -0.387158"
            ]
          },
          "metadata": {
            "tags": []
          },
          "execution_count": 13
        }
      ]
    },
    {
      "cell_type": "code",
      "metadata": {
        "id": "scfX_cf1lLt3"
      },
      "source": [
        "## dfgd"
      ],
      "execution_count": 14,
      "outputs": []
    },
    {
      "cell_type": "code",
      "metadata": {
        "id": "flpax8G8lLt3"
      },
      "source": [
        ""
      ],
      "execution_count": null,
      "outputs": []
    }
  ]
}