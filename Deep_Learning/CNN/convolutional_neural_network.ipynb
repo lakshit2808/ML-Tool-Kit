{
  "nbformat": 4,
  "nbformat_minor": 0,
  "metadata": {
    "colab": {
      "name": "convolutional_neural_network.ipynb",
      "provenance": [],
      "collapsed_sections": [],
      "include_colab_link": true
    },
    "kernelspec": {
      "name": "python3",
      "display_name": "Python 3"
    }
  },
  "cells": [
    {
      "cell_type": "markdown",
      "metadata": {
        "id": "view-in-github",
        "colab_type": "text"
      },
      "source": [
        "<a href=\"https://colab.research.google.com/github/lakshit2808/Machine-Learning-Notes/blob/master/Deep_Learning/CNN/convolutional_neural_network.ipynb\" target=\"_parent\"><img src=\"https://colab.research.google.com/assets/colab-badge.svg\" alt=\"Open In Colab\"/></a>"
      ]
    },
    {
      "cell_type": "markdown",
      "metadata": {
        "id": "3DR-eO17geWu"
      },
      "source": [
        "# Convolutional Neural Network"
      ]
    },
    {
      "cell_type": "markdown",
      "metadata": {
        "id": "EMefrVPCg-60"
      },
      "source": [
        "### Importing the libraries"
      ]
    },
    {
      "cell_type": "code",
      "metadata": {
        "id": "sCV30xyVhFbE"
      },
      "source": [
        "import tensorflow as tf\n",
        "from keras.preprocessing.image import ImageDataGenerator"
      ],
      "execution_count": 4,
      "outputs": []
    },
    {
      "cell_type": "code",
      "metadata": {
        "id": "FIleuCAjoFD8",
        "colab": {
          "base_uri": "https://localhost:8080/",
          "height": 35
        },
        "outputId": "fcc87790-ac2d-441e-fcfd-04007217e730"
      },
      "source": [
        "tf.__version__"
      ],
      "execution_count": 5,
      "outputs": [
        {
          "output_type": "execute_result",
          "data": {
            "application/vnd.google.colaboratory.intrinsic+json": {
              "type": "string"
            },
            "text/plain": [
              "'2.5.0'"
            ]
          },
          "metadata": {
            "tags": []
          },
          "execution_count": 5
        }
      ]
    },
    {
      "cell_type": "markdown",
      "metadata": {
        "id": "oxQxCBWyoGPE"
      },
      "source": [
        "## Part 1 - Data Preprocessing"
      ]
    },
    {
      "cell_type": "markdown",
      "metadata": {
        "id": "VsQxhdb6qgrK"
      },
      "source": [
        "### Importing Dataset"
      ]
    },
    {
      "cell_type": "code",
      "metadata": {
        "colab": {
          "base_uri": "https://localhost:8080/"
        },
        "id": "zP2fIkeNqgBF",
        "outputId": "38b5be94-2042-45fe-a421-89dc6b4eda59"
      },
      "source": [
        "from google.colab import drive\n",
        "drive.mount('/content/drive')"
      ],
      "execution_count": 3,
      "outputs": [
        {
          "output_type": "stream",
          "text": [
            "Mounted at /content/drive\n"
          ],
          "name": "stdout"
        }
      ]
    },
    {
      "cell_type": "markdown",
      "metadata": {
        "id": "MvE-heJNo3GG"
      },
      "source": [
        "### Preprocessing the Training set"
      ]
    },
    {
      "cell_type": "code",
      "metadata": {
        "id": "0koUcJMJpEBD",
        "colab": {
          "base_uri": "https://localhost:8080/"
        },
        "outputId": "19189069-7894-48de-aa9e-71e5008fd727"
      },
      "source": [
        "train_datagen = ImageDataGenerator(rescale = 1./255,\n",
        "                                   shear_range = 0.2,\n",
        "                                   zoom_range = 0.2,\n",
        "                                   horizontal_flip = True)\n",
        "training_set = train_datagen.flow_from_directory('/content/drive/MyDrive/dataset/training_set',\n",
        "                                                 target_size = (64, 64),\n",
        "                                                 batch_size = 32,\n",
        "                                                 class_mode = 'binary')"
      ],
      "execution_count": 8,
      "outputs": [
        {
          "output_type": "stream",
          "text": [
            "Found 8023 images belonging to 2 classes.\n"
          ],
          "name": "stdout"
        }
      ]
    },
    {
      "cell_type": "markdown",
      "metadata": {
        "id": "mrCMmGw9pHys"
      },
      "source": [
        "### Preprocessing the Test set"
      ]
    },
    {
      "cell_type": "code",
      "metadata": {
        "id": "SH4WzfOhpKc3",
        "colab": {
          "base_uri": "https://localhost:8080/"
        },
        "outputId": "1c9096de-dd2f-4504-ec96-d6c2ab10dfac"
      },
      "source": [
        "test_datagen = ImageDataGenerator(rescale = 1./255)\n",
        "test_set = test_datagen.flow_from_directory('/content/drive/MyDrive/dataset/test_set/',\n",
        "                                            target_size = (64, 64),\n",
        "                                            batch_size = 32,\n",
        "                                            class_mode = 'binary')"
      ],
      "execution_count": 9,
      "outputs": [
        {
          "output_type": "stream",
          "text": [
            "Found 2000 images belonging to 2 classes.\n"
          ],
          "name": "stdout"
        }
      ]
    },
    {
      "cell_type": "markdown",
      "metadata": {
        "id": "af8O4l90gk7B"
      },
      "source": [
        "## Part 2 - Building the CNN"
      ]
    },
    {
      "cell_type": "markdown",
      "metadata": {
        "id": "ces1gXY2lmoX"
      },
      "source": [
        "### Initialising the CNN"
      ]
    },
    {
      "cell_type": "code",
      "metadata": {
        "id": "SAUt4UMPlhLS"
      },
      "source": [
        "cnn = tf.keras.models.Sequential()"
      ],
      "execution_count": 10,
      "outputs": []
    },
    {
      "cell_type": "markdown",
      "metadata": {
        "id": "u5YJj_XMl5LF"
      },
      "source": [
        "### Step 1 - Convolution"
      ]
    },
    {
      "cell_type": "code",
      "metadata": {
        "id": "XPzPrMckl-hV"
      },
      "source": [
        "cnn.add(tf.keras.layers.Conv2D(filters=32, kernel_size=3, activation='relu', input_shape=[64, 64, 3]))"
      ],
      "execution_count": 11,
      "outputs": []
    },
    {
      "cell_type": "markdown",
      "metadata": {
        "id": "tf87FpvxmNOJ"
      },
      "source": [
        "### Step 2 - Pooling"
      ]
    },
    {
      "cell_type": "code",
      "metadata": {
        "id": "ncpqPl69mOac"
      },
      "source": [
        "cnn.add(tf.keras.layers.MaxPool2D(pool_size=2, strides=2))"
      ],
      "execution_count": 12,
      "outputs": []
    },
    {
      "cell_type": "markdown",
      "metadata": {
        "id": "xaTOgD8rm4mU"
      },
      "source": [
        "### Adding a second convolutional layer"
      ]
    },
    {
      "cell_type": "code",
      "metadata": {
        "id": "i_-FZjn_m8gk"
      },
      "source": [
        "cnn.add(tf.keras.layers.Conv2D(filters=32, kernel_size=3, activation='relu'))\n",
        "cnn.add(tf.keras.layers.MaxPool2D(pool_size=2, strides=2))"
      ],
      "execution_count": 13,
      "outputs": []
    },
    {
      "cell_type": "markdown",
      "metadata": {
        "id": "tmiEuvTunKfk"
      },
      "source": [
        "### Step 3 - Flattening"
      ]
    },
    {
      "cell_type": "code",
      "metadata": {
        "id": "6AZeOGCvnNZn"
      },
      "source": [
        "cnn.add(tf.keras.layers.Flatten())"
      ],
      "execution_count": 14,
      "outputs": []
    },
    {
      "cell_type": "markdown",
      "metadata": {
        "id": "dAoSECOm203v"
      },
      "source": [
        "### Step 4 - Full Connection"
      ]
    },
    {
      "cell_type": "code",
      "metadata": {
        "id": "8GtmUlLd26Nq"
      },
      "source": [
        "cnn.add(tf.keras.layers.Dense(units=128, activation='relu'))"
      ],
      "execution_count": 15,
      "outputs": []
    },
    {
      "cell_type": "markdown",
      "metadata": {
        "id": "yTldFvbX28Na"
      },
      "source": [
        "### Step 5 - Output Layer"
      ]
    },
    {
      "cell_type": "code",
      "metadata": {
        "id": "1p_Zj1Mc3Ko_"
      },
      "source": [
        "cnn.add(tf.keras.layers.Dense(units=1, activation='sigmoid'))"
      ],
      "execution_count": 16,
      "outputs": []
    },
    {
      "cell_type": "markdown",
      "metadata": {
        "id": "D6XkI90snSDl"
      },
      "source": [
        "## Part 3 - Training the CNN"
      ]
    },
    {
      "cell_type": "markdown",
      "metadata": {
        "id": "vfrFQACEnc6i"
      },
      "source": [
        "### Compiling the CNN"
      ]
    },
    {
      "cell_type": "code",
      "metadata": {
        "id": "NALksrNQpUlJ"
      },
      "source": [
        "cnn.compile(optimizer = 'adam', loss = 'binary_crossentropy', metrics = ['accuracy'])"
      ],
      "execution_count": 17,
      "outputs": []
    },
    {
      "cell_type": "markdown",
      "metadata": {
        "id": "ehS-v3MIpX2h"
      },
      "source": [
        "### Training the CNN on the Training set and evaluating it on the Test set"
      ]
    },
    {
      "cell_type": "code",
      "metadata": {
        "id": "XUj1W4PJptta",
        "colab": {
          "base_uri": "https://localhost:8080/"
        },
        "outputId": "743e9998-0526-41d9-8d8e-7be1d7c14973"
      },
      "source": [
        "cnn.fit(x = training_set, validation_data = test_set, epochs = 25)"
      ],
      "execution_count": 18,
      "outputs": [
        {
          "output_type": "stream",
          "text": [
            "Epoch 1/25\n",
            "251/251 [==============================] - 3096s 12s/step - loss: 0.6759 - accuracy: 0.5811 - val_loss: 0.6317 - val_accuracy: 0.6385\n",
            "Epoch 2/25\n",
            "251/251 [==============================] - 72s 288ms/step - loss: 0.6017 - accuracy: 0.6814 - val_loss: 0.5716 - val_accuracy: 0.6950\n",
            "Epoch 3/25\n",
            "251/251 [==============================] - 72s 285ms/step - loss: 0.5796 - accuracy: 0.6893 - val_loss: 0.5411 - val_accuracy: 0.7310\n",
            "Epoch 4/25\n",
            "251/251 [==============================] - 72s 286ms/step - loss: 0.5426 - accuracy: 0.7252 - val_loss: 0.5101 - val_accuracy: 0.7520\n",
            "Epoch 5/25\n",
            "251/251 [==============================] - 72s 287ms/step - loss: 0.5130 - accuracy: 0.7501 - val_loss: 0.5024 - val_accuracy: 0.7560\n",
            "Epoch 6/25\n",
            "251/251 [==============================] - 72s 287ms/step - loss: 0.4954 - accuracy: 0.7584 - val_loss: 0.5384 - val_accuracy: 0.7415\n",
            "Epoch 7/25\n",
            "251/251 [==============================] - 72s 285ms/step - loss: 0.4732 - accuracy: 0.7715 - val_loss: 0.4864 - val_accuracy: 0.7725\n",
            "Epoch 8/25\n",
            "251/251 [==============================] - 71s 283ms/step - loss: 0.4656 - accuracy: 0.7754 - val_loss: 0.4964 - val_accuracy: 0.7620\n",
            "Epoch 9/25\n",
            "251/251 [==============================] - 71s 284ms/step - loss: 0.4430 - accuracy: 0.7917 - val_loss: 0.4658 - val_accuracy: 0.7760\n",
            "Epoch 10/25\n",
            "251/251 [==============================] - 72s 286ms/step - loss: 0.4388 - accuracy: 0.7925 - val_loss: 0.5119 - val_accuracy: 0.7720\n",
            "Epoch 11/25\n",
            "251/251 [==============================] - 71s 285ms/step - loss: 0.4270 - accuracy: 0.8041 - val_loss: 0.4752 - val_accuracy: 0.7920\n",
            "Epoch 12/25\n",
            "251/251 [==============================] - 71s 284ms/step - loss: 0.4119 - accuracy: 0.8087 - val_loss: 0.4521 - val_accuracy: 0.7900\n",
            "Epoch 13/25\n",
            "251/251 [==============================] - 72s 286ms/step - loss: 0.4075 - accuracy: 0.8090 - val_loss: 0.4538 - val_accuracy: 0.8000\n",
            "Epoch 14/25\n",
            "251/251 [==============================] - 72s 287ms/step - loss: 0.3982 - accuracy: 0.8173 - val_loss: 0.4513 - val_accuracy: 0.7950\n",
            "Epoch 15/25\n",
            "251/251 [==============================] - 72s 285ms/step - loss: 0.3898 - accuracy: 0.8180 - val_loss: 0.5063 - val_accuracy: 0.7755\n",
            "Epoch 16/25\n",
            "251/251 [==============================] - 72s 285ms/step - loss: 0.3764 - accuracy: 0.8307 - val_loss: 0.4694 - val_accuracy: 0.7855\n",
            "Epoch 17/25\n",
            "251/251 [==============================] - 72s 287ms/step - loss: 0.3682 - accuracy: 0.8340 - val_loss: 0.4551 - val_accuracy: 0.8035\n",
            "Epoch 18/25\n",
            "251/251 [==============================] - 73s 289ms/step - loss: 0.3575 - accuracy: 0.8401 - val_loss: 0.5615 - val_accuracy: 0.7775\n",
            "Epoch 19/25\n",
            "251/251 [==============================] - 72s 286ms/step - loss: 0.3499 - accuracy: 0.8439 - val_loss: 0.4535 - val_accuracy: 0.7975\n",
            "Epoch 20/25\n",
            "251/251 [==============================] - 72s 285ms/step - loss: 0.3275 - accuracy: 0.8540 - val_loss: 0.5549 - val_accuracy: 0.7730\n",
            "Epoch 21/25\n",
            "251/251 [==============================] - 72s 285ms/step - loss: 0.3277 - accuracy: 0.8585 - val_loss: 0.4593 - val_accuracy: 0.8070\n",
            "Epoch 22/25\n",
            "251/251 [==============================] - 72s 289ms/step - loss: 0.3034 - accuracy: 0.8665 - val_loss: 0.4742 - val_accuracy: 0.7970\n",
            "Epoch 23/25\n",
            "251/251 [==============================] - 72s 286ms/step - loss: 0.3151 - accuracy: 0.8644 - val_loss: 0.4757 - val_accuracy: 0.8015\n",
            "Epoch 24/25\n",
            "251/251 [==============================] - 72s 288ms/step - loss: 0.2912 - accuracy: 0.8757 - val_loss: 0.5444 - val_accuracy: 0.7875\n",
            "Epoch 25/25\n",
            "251/251 [==============================] - 72s 287ms/step - loss: 0.2854 - accuracy: 0.8765 - val_loss: 0.5498 - val_accuracy: 0.7875\n"
          ],
          "name": "stdout"
        },
        {
          "output_type": "execute_result",
          "data": {
            "text/plain": [
              "<tensorflow.python.keras.callbacks.History at 0x7f8a70b75590>"
            ]
          },
          "metadata": {
            "tags": []
          },
          "execution_count": 18
        }
      ]
    },
    {
      "cell_type": "markdown",
      "metadata": {
        "id": "l-orZmMIGkq_"
      },
      "source": [
        "## Saving The Model"
      ]
    },
    {
      "cell_type": "code",
      "metadata": {
        "id": "3JBbi4sFGnEg"
      },
      "source": [
        "cnn.save('cnn.model')"
      ],
      "execution_count": null,
      "outputs": []
    },
    {
      "cell_type": "markdown",
      "metadata": {
        "id": "U3PZasO0006Z"
      },
      "source": [
        "## Part 4 - Making a single prediction"
      ]
    },
    {
      "cell_type": "code",
      "metadata": {
        "id": "gsSiWEJY1BPB",
        "colab": {
          "base_uri": "https://localhost:8080/"
        },
        "outputId": "da5faf03-2572-481c-8daf-4edd655d20fc"
      },
      "source": [
        "import numpy as np\n",
        "from keras.preprocessing import image\n",
        "test_image = image.load_img('/content/drive/MyDrive/dataset/single_prediction/cat_or_dog_1.jpg', target_size = (64, 64))\n",
        "test_image = image.img_to_array(test_image)\n",
        "test_image = np.expand_dims(test_image, axis = 0)\n",
        "model = tf.keras.models.load_model('/content/cnn.model')\n",
        "result = model.predict(test_image)\n",
        "\n",
        "training_set.class_indices\n",
        "if result[0][0] == 1:\n",
        "  prediction = 'dog'\n",
        "else:\n",
        "  prediction = 'cat'"
      ],
      "execution_count": 55,
      "outputs": [
        {
          "output_type": "stream",
          "text": [
            "WARNING:tensorflow:6 out of the last 13 calls to <function Model.make_predict_function.<locals>.predict_function at 0x7f8a67e47050> triggered tf.function retracing. Tracing is expensive and the excessive number of tracings could be due to (1) creating @tf.function repeatedly in a loop, (2) passing tensors with different shapes, (3) passing Python objects instead of tensors. For (1), please define your @tf.function outside of the loop. For (2), @tf.function has experimental_relax_shapes=True option that relaxes argument shapes that can avoid unnecessary retracing. For (3), please refer to https://www.tensorflow.org/guide/function#controlling_retracing and https://www.tensorflow.org/api_docs/python/tf/function for  more details.\n"
          ],
          "name": "stdout"
        }
      ]
    },
    {
      "cell_type": "code",
      "metadata": {
        "id": "ED9KB3I54c1i",
        "colab": {
          "base_uri": "https://localhost:8080/"
        },
        "outputId": "d0efd688-85b0-44db-9377-8c3beef0475d"
      },
      "source": [
        "print(prediction)"
      ],
      "execution_count": 56,
      "outputs": [
        {
          "output_type": "stream",
          "text": [
            "dog\n"
          ],
          "name": "stdout"
        }
      ]
    }
  ]
}