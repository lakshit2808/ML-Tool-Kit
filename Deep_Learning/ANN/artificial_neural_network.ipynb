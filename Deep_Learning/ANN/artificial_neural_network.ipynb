{
  "nbformat": 4,
  "nbformat_minor": 0,
  "metadata": {
    "colab": {
      "name": "artificial_neural_network.ipynb",
      "provenance": [],
      "collapsed_sections": [],
      "include_colab_link": true
    },
    "kernelspec": {
      "name": "python3",
      "display_name": "Python 3"
    }
  },
  "cells": [
    {
      "cell_type": "markdown",
      "metadata": {
        "id": "view-in-github",
        "colab_type": "text"
      },
      "source": [
        "<a href=\"https://colab.research.google.com/github/lakshit2808/Machine-Learning-Notes/blob/master/Deep_Learning/ANN/artificial_neural_network.ipynb\" target=\"_parent\"><img src=\"https://colab.research.google.com/assets/colab-badge.svg\" alt=\"Open In Colab\"/></a>"
      ]
    },
    {
      "cell_type": "markdown",
      "metadata": {
        "id": "lP6JLo1tGNBg"
      },
      "source": [
        "# Artificial Neural Network\n",
        "\n",
        "An artificial neural network (ANN) is the piece of a computing system designed to simulate the way the human brain analyzes and processes information. \n",
        "\n",
        "\n",
        "<img src='https://github.com/lakshit2808/Machine-Learning-Notes/blob/master/Deep_Learning/ANN/Stochastic_Gradient_Descent.png?raw=true'/>\n",
        "\n",
        "**Read About Stochastic Gradient Decent [Here](https://en.wikipedia.org/wiki/Stochastic_gradient_descent)"
      ]
    },
    {
      "cell_type": "markdown",
      "metadata": {
        "id": "gWZyYmS_UE_L"
      },
      "source": [
        "### Importing the libraries"
      ]
    },
    {
      "cell_type": "code",
      "metadata": {
        "id": "MxkJoQBkUIHC"
      },
      "source": [
        "import numpy as np\n",
        "import pandas as pd\n",
        "import tensorflow as tf"
      ],
      "execution_count": 34,
      "outputs": []
    },
    {
      "cell_type": "code",
      "metadata": {
        "id": "ZaTwK7ojXr2F",
        "colab": {
          "base_uri": "https://localhost:8080/",
          "height": 35
        },
        "outputId": "b8418414-c604-4dc8-fafe-7a6fb5587cb7"
      },
      "source": [
        "tf.__version__"
      ],
      "execution_count": 35,
      "outputs": [
        {
          "output_type": "execute_result",
          "data": {
            "application/vnd.google.colaboratory.intrinsic+json": {
              "type": "string"
            },
            "text/plain": [
              "'2.5.0'"
            ]
          },
          "metadata": {
            "tags": []
          },
          "execution_count": 35
        }
      ]
    },
    {
      "cell_type": "markdown",
      "metadata": {
        "id": "1E0Q3aoKUCRX"
      },
      "source": [
        "## Part 1 - Data Preprocessing"
      ]
    },
    {
      "cell_type": "markdown",
      "metadata": {
        "id": "cKWAkFVGUU0Z"
      },
      "source": [
        "### Importing the dataset"
      ]
    },
    {
      "cell_type": "code",
      "metadata": {
        "id": "MXUkhkMfU4wq"
      },
      "source": [
        "dataset = pd.read_csv('Churn_Modelling.csv')\n",
        "X = dataset.iloc[:, 3:-1].values\n",
        "y = dataset.iloc[:, -1].values"
      ],
      "execution_count": 36,
      "outputs": []
    },
    {
      "cell_type": "code",
      "metadata": {
        "id": "VYP9cQTWbzuI",
        "colab": {
          "base_uri": "https://localhost:8080/"
        },
        "outputId": "1914d71e-5575-4f28-9735-5f89f915f1b2"
      },
      "source": [
        "print(X)"
      ],
      "execution_count": 37,
      "outputs": [
        {
          "output_type": "stream",
          "text": [
            "[[619 'France' 'Female' ... 1 1 101348.88]\n",
            " [608 'Spain' 'Female' ... 0 1 112542.58]\n",
            " [502 'France' 'Female' ... 1 0 113931.57]\n",
            " ...\n",
            " [709 'France' 'Female' ... 0 1 42085.58]\n",
            " [772 'Germany' 'Male' ... 1 0 92888.52]\n",
            " [792 'France' 'Female' ... 1 0 38190.78]]\n"
          ],
          "name": "stdout"
        }
      ]
    },
    {
      "cell_type": "code",
      "metadata": {
        "id": "38vKGE6Nb2RR",
        "colab": {
          "base_uri": "https://localhost:8080/"
        },
        "outputId": "42ccc72b-e11f-44b7-a265-81cf250772fb"
      },
      "source": [
        "print(y)"
      ],
      "execution_count": 38,
      "outputs": [
        {
          "output_type": "stream",
          "text": [
            "[1 0 1 ... 1 1 0]\n"
          ],
          "name": "stdout"
        }
      ]
    },
    {
      "cell_type": "markdown",
      "metadata": {
        "id": "N6bQ0UgSU-NJ"
      },
      "source": [
        "### Encoding categorical data"
      ]
    },
    {
      "cell_type": "markdown",
      "metadata": {
        "id": "le5MJreAbW52"
      },
      "source": [
        "Label Encoding the \"Gender\" column"
      ]
    },
    {
      "cell_type": "code",
      "metadata": {
        "id": "PxVKWXxLbczC"
      },
      "source": [
        "from sklearn.preprocessing import LabelEncoder\n",
        "le = LabelEncoder()\n",
        "X[:, 2] = le.fit_transform(X[:, 2])"
      ],
      "execution_count": 39,
      "outputs": []
    },
    {
      "cell_type": "code",
      "metadata": {
        "id": "-M1KboxFb6OO",
        "colab": {
          "base_uri": "https://localhost:8080/"
        },
        "outputId": "9668e5af-3ca0-4716-f932-546cbaa8f056"
      },
      "source": [
        "print(X)"
      ],
      "execution_count": 40,
      "outputs": [
        {
          "output_type": "stream",
          "text": [
            "[[619 'France' 0 ... 1 1 101348.88]\n",
            " [608 'Spain' 0 ... 0 1 112542.58]\n",
            " [502 'France' 0 ... 1 0 113931.57]\n",
            " ...\n",
            " [709 'France' 0 ... 0 1 42085.58]\n",
            " [772 'Germany' 1 ... 1 0 92888.52]\n",
            " [792 'France' 0 ... 1 0 38190.78]]\n"
          ],
          "name": "stdout"
        }
      ]
    },
    {
      "cell_type": "markdown",
      "metadata": {
        "id": "CUxGZezpbMcb"
      },
      "source": [
        "One Hot Encoding the \"Geography\" column"
      ]
    },
    {
      "cell_type": "code",
      "metadata": {
        "id": "AMXC8-KMVirw"
      },
      "source": [
        "from sklearn.compose import ColumnTransformer\n",
        "from sklearn.preprocessing import OneHotEncoder\n",
        "ct = ColumnTransformer(transformers=[('encoder', OneHotEncoder(), [1])], remainder='passthrough')\n",
        "X = np.array(ct.fit_transform(X))"
      ],
      "execution_count": 41,
      "outputs": []
    },
    {
      "cell_type": "code",
      "metadata": {
        "id": "ZcxwEon-b8nV",
        "colab": {
          "base_uri": "https://localhost:8080/"
        },
        "outputId": "5abea1c6-2069-47d1-8492-190a78a1dd86"
      },
      "source": [
        "print(X)"
      ],
      "execution_count": 42,
      "outputs": [
        {
          "output_type": "stream",
          "text": [
            "[[1.0 0.0 0.0 ... 1 1 101348.88]\n",
            " [0.0 0.0 1.0 ... 0 1 112542.58]\n",
            " [1.0 0.0 0.0 ... 1 0 113931.57]\n",
            " ...\n",
            " [1.0 0.0 0.0 ... 0 1 42085.58]\n",
            " [0.0 1.0 0.0 ... 1 0 92888.52]\n",
            " [1.0 0.0 0.0 ... 1 0 38190.78]]\n"
          ],
          "name": "stdout"
        }
      ]
    },
    {
      "cell_type": "markdown",
      "metadata": {
        "id": "vHol938cW8zd"
      },
      "source": [
        "### Splitting the dataset into the Training set and Test set"
      ]
    },
    {
      "cell_type": "code",
      "metadata": {
        "id": "Z-TDt0Y_XEfc"
      },
      "source": [
        "from sklearn.model_selection import train_test_split\n",
        "X_train, X_test, y_train, y_test = train_test_split(X, y, test_size = 0.2, random_state = 0)"
      ],
      "execution_count": 43,
      "outputs": []
    },
    {
      "cell_type": "markdown",
      "metadata": {
        "id": "RE_FcHyfV3TQ"
      },
      "source": [
        "### Feature Scaling"
      ]
    },
    {
      "cell_type": "code",
      "metadata": {
        "id": "ViCrE00rV8Sk"
      },
      "source": [
        "from sklearn.preprocessing import StandardScaler\n",
        "sc = StandardScaler()\n",
        "X_train = sc.fit_transform(X_train)\n",
        "X_test = sc.transform(X_test)"
      ],
      "execution_count": 44,
      "outputs": []
    },
    {
      "cell_type": "markdown",
      "metadata": {
        "id": "-zfEzkRVXIwF"
      },
      "source": [
        "## Part 2 - Building the ANN"
      ]
    },
    {
      "cell_type": "markdown",
      "metadata": {
        "id": "KvdeScabXtlB"
      },
      "source": [
        "### Initializing the ANN"
      ]
    },
    {
      "cell_type": "code",
      "metadata": {
        "id": "3dtrScHxXQox"
      },
      "source": [
        "ann = tf.keras.models.Sequential()"
      ],
      "execution_count": 84,
      "outputs": []
    },
    {
      "cell_type": "markdown",
      "metadata": {
        "id": "rP6urV6SX7kS"
      },
      "source": [
        "### Adding the input layer and the first hidden layer"
      ]
    },
    {
      "cell_type": "code",
      "metadata": {
        "id": "bppGycBXYCQr"
      },
      "source": [
        "ann.add(tf.keras.layers.Dense(units=6, activation='relu')) "
      ],
      "execution_count": 85,
      "outputs": []
    },
    {
      "cell_type": "markdown",
      "metadata": {
        "id": "J89-0L6f3IUh"
      },
      "source": [
        "`Units` are no. of neurons, `activation` is for activation function we are using rectifier function as an activation function\n",
        "\n",
        "Read More about Activation Function [Here](https://en.wikipedia.org/wiki/Activation_function)"
      ]
    },
    {
      "cell_type": "markdown",
      "metadata": {
        "id": "BELWAc_8YJze"
      },
      "source": [
        "### Adding the second hidden layer"
      ]
    },
    {
      "cell_type": "code",
      "metadata": {
        "id": "JneR0u0sYRTd"
      },
      "source": [
        "ann.add(tf.keras.layers.Dense(units= 6, activation='relu'))"
      ],
      "execution_count": 86,
      "outputs": []
    },
    {
      "cell_type": "markdown",
      "metadata": {
        "id": "OyNEe6RXYcU4"
      },
      "source": [
        "### Adding the output layer"
      ]
    },
    {
      "cell_type": "code",
      "metadata": {
        "id": "Cn3x41RBYfvY"
      },
      "source": [
        "ann.add(tf.keras.layers.Dense(units=1, activation='sigmoid')) ## Using Sigmoid Function as an Activation Function"
      ],
      "execution_count": 87,
      "outputs": []
    },
    {
      "cell_type": "markdown",
      "metadata": {
        "id": "JT4u2S1_Y4WG"
      },
      "source": [
        "## Part 3 - Training the ANN"
      ]
    },
    {
      "cell_type": "markdown",
      "metadata": {
        "id": "8GWlJChhY_ZI"
      },
      "source": [
        "### Compiling the ANN"
      ]
    },
    {
      "cell_type": "code",
      "metadata": {
        "id": "fG3RrwDXZEaS"
      },
      "source": [
        "ann.compile(optimizer='adam', loss='binary_crossentropy', metrics=['accuracy'])"
      ],
      "execution_count": 88,
      "outputs": []
    },
    {
      "cell_type": "markdown",
      "metadata": {
        "id": "0QR_G5u7ZLSM"
      },
      "source": [
        "### Training the ANN on the Training set"
      ]
    },
    {
      "cell_type": "code",
      "metadata": {
        "id": "nHZ-LKv_ZRb3",
        "colab": {
          "base_uri": "https://localhost:8080/"
        },
        "outputId": "e846d201-9b1b-42ce-d9c9-4f6d0f8d98eb"
      },
      "source": [
        "ann.fit(X_train, y_train, batch_size=64, epochs = 100)"
      ],
      "execution_count": 89,
      "outputs": [
        {
          "output_type": "stream",
          "text": [
            "Epoch 1/100\n",
            "125/125 [==============================] - 1s 1ms/step - loss: 0.6513 - accuracy: 0.6271\n",
            "Epoch 2/100\n",
            "125/125 [==============================] - 0s 1ms/step - loss: 0.5244 - accuracy: 0.7914\n",
            "Epoch 3/100\n",
            "125/125 [==============================] - 0s 1ms/step - loss: 0.4718 - accuracy: 0.7993\n",
            "Epoch 4/100\n",
            "125/125 [==============================] - 0s 1ms/step - loss: 0.4470 - accuracy: 0.7997\n",
            "Epoch 5/100\n",
            "125/125 [==============================] - 0s 1ms/step - loss: 0.4355 - accuracy: 0.8026\n",
            "Epoch 6/100\n",
            "125/125 [==============================] - 0s 1ms/step - loss: 0.4299 - accuracy: 0.8055\n",
            "Epoch 7/100\n",
            "125/125 [==============================] - 0s 1ms/step - loss: 0.4261 - accuracy: 0.8060\n",
            "Epoch 8/100\n",
            "125/125 [==============================] - 0s 1ms/step - loss: 0.4230 - accuracy: 0.8083\n",
            "Epoch 9/100\n",
            "125/125 [==============================] - 0s 1ms/step - loss: 0.4207 - accuracy: 0.8092\n",
            "Epoch 10/100\n",
            "125/125 [==============================] - 0s 1ms/step - loss: 0.4184 - accuracy: 0.8104\n",
            "Epoch 11/100\n",
            "125/125 [==============================] - 0s 1ms/step - loss: 0.4160 - accuracy: 0.8129\n",
            "Epoch 12/100\n",
            "125/125 [==============================] - 0s 1ms/step - loss: 0.4136 - accuracy: 0.8140\n",
            "Epoch 13/100\n",
            "125/125 [==============================] - 0s 1ms/step - loss: 0.4102 - accuracy: 0.8161\n",
            "Epoch 14/100\n",
            "125/125 [==============================] - 0s 1ms/step - loss: 0.4058 - accuracy: 0.8195\n",
            "Epoch 15/100\n",
            "125/125 [==============================] - 0s 1ms/step - loss: 0.4004 - accuracy: 0.8223\n",
            "Epoch 16/100\n",
            "125/125 [==============================] - 0s 1ms/step - loss: 0.3946 - accuracy: 0.8260\n",
            "Epoch 17/100\n",
            "125/125 [==============================] - 0s 1ms/step - loss: 0.3884 - accuracy: 0.8307\n",
            "Epoch 18/100\n",
            "125/125 [==============================] - 0s 1ms/step - loss: 0.3824 - accuracy: 0.8344\n",
            "Epoch 19/100\n",
            "125/125 [==============================] - 0s 1ms/step - loss: 0.3771 - accuracy: 0.8396\n",
            "Epoch 20/100\n",
            "125/125 [==============================] - 0s 1ms/step - loss: 0.3726 - accuracy: 0.8429\n",
            "Epoch 21/100\n",
            "125/125 [==============================] - 0s 1ms/step - loss: 0.3688 - accuracy: 0.8475\n",
            "Epoch 22/100\n",
            "125/125 [==============================] - 0s 1ms/step - loss: 0.3659 - accuracy: 0.8476\n",
            "Epoch 23/100\n",
            "125/125 [==============================] - 0s 1ms/step - loss: 0.3636 - accuracy: 0.8515\n",
            "Epoch 24/100\n",
            "125/125 [==============================] - 0s 1ms/step - loss: 0.3616 - accuracy: 0.8518\n",
            "Epoch 25/100\n",
            "125/125 [==============================] - 0s 1ms/step - loss: 0.3603 - accuracy: 0.8519\n",
            "Epoch 26/100\n",
            "125/125 [==============================] - 0s 1ms/step - loss: 0.3591 - accuracy: 0.8529\n",
            "Epoch 27/100\n",
            "125/125 [==============================] - 0s 1ms/step - loss: 0.3577 - accuracy: 0.8543\n",
            "Epoch 28/100\n",
            "125/125 [==============================] - 0s 1ms/step - loss: 0.3571 - accuracy: 0.8545\n",
            "Epoch 29/100\n",
            "125/125 [==============================] - 0s 1ms/step - loss: 0.3562 - accuracy: 0.8555\n",
            "Epoch 30/100\n",
            "125/125 [==============================] - 0s 1ms/step - loss: 0.3555 - accuracy: 0.8551\n",
            "Epoch 31/100\n",
            "125/125 [==============================] - 0s 1ms/step - loss: 0.3548 - accuracy: 0.8559\n",
            "Epoch 32/100\n",
            "125/125 [==============================] - 0s 1ms/step - loss: 0.3540 - accuracy: 0.8547\n",
            "Epoch 33/100\n",
            "125/125 [==============================] - 0s 1ms/step - loss: 0.3532 - accuracy: 0.8550\n",
            "Epoch 34/100\n",
            "125/125 [==============================] - 0s 1ms/step - loss: 0.3527 - accuracy: 0.8547\n",
            "Epoch 35/100\n",
            "125/125 [==============================] - 0s 1ms/step - loss: 0.3523 - accuracy: 0.8543\n",
            "Epoch 36/100\n",
            "125/125 [==============================] - 0s 1ms/step - loss: 0.3519 - accuracy: 0.8550\n",
            "Epoch 37/100\n",
            "125/125 [==============================] - 0s 1ms/step - loss: 0.3512 - accuracy: 0.8546\n",
            "Epoch 38/100\n",
            "125/125 [==============================] - 0s 1ms/step - loss: 0.3508 - accuracy: 0.8558\n",
            "Epoch 39/100\n",
            "125/125 [==============================] - 0s 1ms/step - loss: 0.3503 - accuracy: 0.8587\n",
            "Epoch 40/100\n",
            "125/125 [==============================] - 0s 1ms/step - loss: 0.3499 - accuracy: 0.8565\n",
            "Epoch 41/100\n",
            "125/125 [==============================] - 0s 1ms/step - loss: 0.3494 - accuracy: 0.8561\n",
            "Epoch 42/100\n",
            "125/125 [==============================] - 0s 1ms/step - loss: 0.3490 - accuracy: 0.8561\n",
            "Epoch 43/100\n",
            "125/125 [==============================] - 0s 1ms/step - loss: 0.3486 - accuracy: 0.8574\n",
            "Epoch 44/100\n",
            "125/125 [==============================] - 0s 1ms/step - loss: 0.3484 - accuracy: 0.8562\n",
            "Epoch 45/100\n",
            "125/125 [==============================] - 0s 1ms/step - loss: 0.3480 - accuracy: 0.8589\n",
            "Epoch 46/100\n",
            "125/125 [==============================] - 0s 1ms/step - loss: 0.3475 - accuracy: 0.8583\n",
            "Epoch 47/100\n",
            "125/125 [==============================] - 0s 1ms/step - loss: 0.3472 - accuracy: 0.8570\n",
            "Epoch 48/100\n",
            "125/125 [==============================] - 0s 1ms/step - loss: 0.3465 - accuracy: 0.8580\n",
            "Epoch 49/100\n",
            "125/125 [==============================] - 0s 1ms/step - loss: 0.3461 - accuracy: 0.8568\n",
            "Epoch 50/100\n",
            "125/125 [==============================] - 0s 1ms/step - loss: 0.3458 - accuracy: 0.8583\n",
            "Epoch 51/100\n",
            "125/125 [==============================] - 0s 1ms/step - loss: 0.3453 - accuracy: 0.8591\n",
            "Epoch 52/100\n",
            "125/125 [==============================] - 0s 1ms/step - loss: 0.3450 - accuracy: 0.8583\n",
            "Epoch 53/100\n",
            "125/125 [==============================] - 0s 1ms/step - loss: 0.3445 - accuracy: 0.8589\n",
            "Epoch 54/100\n",
            "125/125 [==============================] - 0s 1ms/step - loss: 0.3441 - accuracy: 0.8591\n",
            "Epoch 55/100\n",
            "125/125 [==============================] - 0s 1ms/step - loss: 0.3436 - accuracy: 0.8602\n",
            "Epoch 56/100\n",
            "125/125 [==============================] - 0s 1ms/step - loss: 0.3429 - accuracy: 0.8609\n",
            "Epoch 57/100\n",
            "125/125 [==============================] - 0s 1ms/step - loss: 0.3425 - accuracy: 0.8609\n",
            "Epoch 58/100\n",
            "125/125 [==============================] - 0s 1ms/step - loss: 0.3422 - accuracy: 0.8614\n",
            "Epoch 59/100\n",
            "125/125 [==============================] - 0s 1ms/step - loss: 0.3416 - accuracy: 0.8614\n",
            "Epoch 60/100\n",
            "125/125 [==============================] - 0s 1ms/step - loss: 0.3413 - accuracy: 0.8604\n",
            "Epoch 61/100\n",
            "125/125 [==============================] - 0s 1ms/step - loss: 0.3406 - accuracy: 0.8620\n",
            "Epoch 62/100\n",
            "125/125 [==============================] - 0s 1ms/step - loss: 0.3405 - accuracy: 0.8621\n",
            "Epoch 63/100\n",
            "125/125 [==============================] - 0s 1ms/step - loss: 0.3401 - accuracy: 0.8615\n",
            "Epoch 64/100\n",
            "125/125 [==============================] - 0s 1ms/step - loss: 0.3397 - accuracy: 0.8621\n",
            "Epoch 65/100\n",
            "125/125 [==============================] - 0s 1ms/step - loss: 0.3396 - accuracy: 0.8614\n",
            "Epoch 66/100\n",
            "125/125 [==============================] - 0s 1ms/step - loss: 0.3393 - accuracy: 0.8633\n",
            "Epoch 67/100\n",
            "125/125 [==============================] - 0s 2ms/step - loss: 0.3389 - accuracy: 0.8630\n",
            "Epoch 68/100\n",
            "125/125 [==============================] - 0s 1ms/step - loss: 0.3385 - accuracy: 0.8612\n",
            "Epoch 69/100\n",
            "125/125 [==============================] - 0s 1ms/step - loss: 0.3382 - accuracy: 0.8620\n",
            "Epoch 70/100\n",
            "125/125 [==============================] - 0s 1ms/step - loss: 0.3378 - accuracy: 0.8624\n",
            "Epoch 71/100\n",
            "125/125 [==============================] - 0s 1ms/step - loss: 0.3376 - accuracy: 0.8627\n",
            "Epoch 72/100\n",
            "125/125 [==============================] - 0s 1ms/step - loss: 0.3374 - accuracy: 0.8625\n",
            "Epoch 73/100\n",
            "125/125 [==============================] - 0s 2ms/step - loss: 0.3368 - accuracy: 0.8640\n",
            "Epoch 74/100\n",
            "125/125 [==============================] - 0s 1ms/step - loss: 0.3370 - accuracy: 0.8640\n",
            "Epoch 75/100\n",
            "125/125 [==============================] - 0s 1ms/step - loss: 0.3368 - accuracy: 0.8635\n",
            "Epoch 76/100\n",
            "125/125 [==============================] - 0s 1ms/step - loss: 0.3366 - accuracy: 0.8625\n",
            "Epoch 77/100\n",
            "125/125 [==============================] - 0s 1ms/step - loss: 0.3364 - accuracy: 0.8644\n",
            "Epoch 78/100\n",
            "125/125 [==============================] - 0s 1ms/step - loss: 0.3364 - accuracy: 0.8629\n",
            "Epoch 79/100\n",
            "125/125 [==============================] - 0s 2ms/step - loss: 0.3362 - accuracy: 0.8629\n",
            "Epoch 80/100\n",
            "125/125 [==============================] - 0s 1ms/step - loss: 0.3359 - accuracy: 0.8624\n",
            "Epoch 81/100\n",
            "125/125 [==============================] - 0s 1ms/step - loss: 0.3364 - accuracy: 0.8629\n",
            "Epoch 82/100\n",
            "125/125 [==============================] - 0s 1ms/step - loss: 0.3359 - accuracy: 0.8633\n",
            "Epoch 83/100\n",
            "125/125 [==============================] - 0s 1ms/step - loss: 0.3354 - accuracy: 0.8633\n",
            "Epoch 84/100\n",
            "125/125 [==============================] - 0s 1ms/step - loss: 0.3359 - accuracy: 0.8627\n",
            "Epoch 85/100\n",
            "125/125 [==============================] - 0s 2ms/step - loss: 0.3358 - accuracy: 0.8635\n",
            "Epoch 86/100\n",
            "125/125 [==============================] - 0s 2ms/step - loss: 0.3356 - accuracy: 0.8631\n",
            "Epoch 87/100\n",
            "125/125 [==============================] - 0s 1ms/step - loss: 0.3354 - accuracy: 0.8641\n",
            "Epoch 88/100\n",
            "125/125 [==============================] - 0s 1ms/step - loss: 0.3351 - accuracy: 0.8636\n",
            "Epoch 89/100\n",
            "125/125 [==============================] - 0s 1ms/step - loss: 0.3354 - accuracy: 0.8633\n",
            "Epoch 90/100\n",
            "125/125 [==============================] - 0s 1ms/step - loss: 0.3351 - accuracy: 0.8641\n",
            "Epoch 91/100\n",
            "125/125 [==============================] - 0s 1ms/step - loss: 0.3351 - accuracy: 0.8631\n",
            "Epoch 92/100\n",
            "125/125 [==============================] - 0s 1ms/step - loss: 0.3349 - accuracy: 0.8644\n",
            "Epoch 93/100\n",
            "125/125 [==============================] - 0s 1ms/step - loss: 0.3348 - accuracy: 0.8639\n",
            "Epoch 94/100\n",
            "125/125 [==============================] - 0s 2ms/step - loss: 0.3349 - accuracy: 0.8643\n",
            "Epoch 95/100\n",
            "125/125 [==============================] - 0s 1ms/step - loss: 0.3349 - accuracy: 0.8645\n",
            "Epoch 96/100\n",
            "125/125 [==============================] - 0s 1ms/step - loss: 0.3346 - accuracy: 0.8633\n",
            "Epoch 97/100\n",
            "125/125 [==============================] - 0s 1ms/step - loss: 0.3345 - accuracy: 0.8649\n",
            "Epoch 98/100\n",
            "125/125 [==============================] - 0s 1ms/step - loss: 0.3346 - accuracy: 0.8646\n",
            "Epoch 99/100\n",
            "125/125 [==============================] - 0s 1ms/step - loss: 0.3344 - accuracy: 0.8643\n",
            "Epoch 100/100\n",
            "125/125 [==============================] - 0s 1ms/step - loss: 0.3342 - accuracy: 0.8651\n"
          ],
          "name": "stdout"
        },
        {
          "output_type": "execute_result",
          "data": {
            "text/plain": [
              "<tensorflow.python.keras.callbacks.History at 0x7f19e9fce1d0>"
            ]
          },
          "metadata": {
            "tags": []
          },
          "execution_count": 89
        }
      ]
    },
    {
      "cell_type": "markdown",
      "metadata": {
        "id": "tJj5k2MxZga3"
      },
      "source": [
        "## Part 4 - Making the predictions and evaluating the model"
      ]
    },
    {
      "cell_type": "markdown",
      "metadata": {
        "id": "84QFoqGYeXHL"
      },
      "source": [
        "### Predicting the result of a single observation"
      ]
    },
    {
      "cell_type": "code",
      "metadata": {
        "id": "2d8IoCCkeWGL",
        "colab": {
          "base_uri": "https://localhost:8080/"
        },
        "outputId": "972249c7-488d-43b3-eacd-3f87c2c2bc6d"
      },
      "source": [
        "result = ann.predict(sc.transform([[1, 0, 0, 500, 1, 40, 3, 20000, 2, 1, 1, 50000]])) > 0.5\n",
        "result[0][0]"
      ],
      "execution_count": 90,
      "outputs": [
        {
          "output_type": "execute_result",
          "data": {
            "text/plain": [
              "False"
            ]
          },
          "metadata": {
            "tags": []
          },
          "execution_count": 90
        }
      ]
    },
    {
      "cell_type": "markdown",
      "metadata": {
        "id": "u7yx47jPZt11"
      },
      "source": [
        "### Predicting the Test set results"
      ]
    },
    {
      "cell_type": "code",
      "metadata": {
        "id": "nIyEeQdRZwgs",
        "colab": {
          "base_uri": "https://localhost:8080/"
        },
        "outputId": "39bde8c5-2f03-42b7-921f-a1da94599445"
      },
      "source": [
        "y_pred = ann.predict(X_test)\n",
        "y_pred = (y_pred > 0.5)\n",
        "print(np.concatenate((y_pred.reshape(len(y_pred),1), y_test.reshape(len(y_test),1)),1))"
      ],
      "execution_count": 91,
      "outputs": [
        {
          "output_type": "stream",
          "text": [
            "[[0 0]\n",
            " [0 1]\n",
            " [0 0]\n",
            " ...\n",
            " [0 0]\n",
            " [0 0]\n",
            " [0 0]]\n"
          ],
          "name": "stdout"
        }
      ]
    },
    {
      "cell_type": "markdown",
      "metadata": {
        "id": "o0oyfLWoaEGw"
      },
      "source": [
        "### Making the Confusion Matrix"
      ]
    },
    {
      "cell_type": "code",
      "metadata": {
        "id": "ci6K_r6LaF6P",
        "colab": {
          "base_uri": "https://localhost:8080/"
        },
        "outputId": "2b4de8a5-35c0-4425-b147-86c755d792f9"
      },
      "source": [
        "from sklearn.metrics import confusion_matrix, accuracy_score\n",
        "cm = confusion_matrix(y_test, y_pred)\n",
        "print(cm)\n",
        "accuracy_score(y_test, y_pred)"
      ],
      "execution_count": 92,
      "outputs": [
        {
          "output_type": "stream",
          "text": [
            "[[1509   86]\n",
            " [ 189  216]]\n"
          ],
          "name": "stdout"
        },
        {
          "output_type": "execute_result",
          "data": {
            "text/plain": [
              "0.8625"
            ]
          },
          "metadata": {
            "tags": []
          },
          "execution_count": 92
        }
      ]
    }
  ]
}